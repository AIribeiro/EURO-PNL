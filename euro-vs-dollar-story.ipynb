{
 "cells": [
  {
   "cell_type": "markdown",
   "id": "56b0c925",
   "metadata": {
    "papermill": {
     "duration": 0.065058,
     "end_time": "2022-01-21T00:33:27.163861",
     "exception": false,
     "start_time": "2022-01-21T00:33:27.098803",
     "status": "completed"
    },
    "tags": []
   },
   "source": [
    "# Introduction\n",
    "\n",
    "It wasn't until 1999 that the euro really began its journey, when 11 countries (Austria, Belgium, Finland, France, Germany, Ireland, Italy, Luxembourg, the Netherlands, Portugal and Spain) fixed their exchange rates and created a new currency with monetary policy passed to the European Central Bank. Today euro is 20+ years old.\n",
    "\n",
    "Currently, the euro (€) is the official currency of 19 out of 27 EU member countries which together constitute the Eurozone, officially called the euro area.\n",
    "* Euro area member countries  \n",
    "Although all EU countries are part of the Economic and Monetary Union (EMU), 19 of them have replaced their national currencies with the single currency – the euro. These EU countries form the euro area, also known as the eurozone: **Austria, Belgium, Cyprus, Estonia, Finland, France, Germany, Greece, Ireland, Italy, Latvia, Lithuania, Luxembourg, Malta, the Netherlands, Portugal, Slovakia, Slovenia, Spain**.\n",
    "* Non-euro area member countries  \n",
    "These are countries where the euro has still not been adopted, but who will join once they have met the necessary conditions. Mostly, it consists of countries of member states which acceded to the Union in 2004, 2007 and 2013, after the euro was launched in 2002: **Bulgaria, Croatia, Czech Republic, Hungary, Poland, Romania, Sweden**.\n",
    "* Member countries with an opt-out  \n",
    "Occasionally, member states can negotiate an opt-out from any of the European Union legislation or treaties, and agree to not participate in certain policy areas. Concerning the single currency, this is the case for Denmark. It kept its former currency after becoming member of the EU. This list includes only **Denmark**.\n",
    "* Outside the EU  \n",
    "The euro is also the sole currency of **Montenegro** and **Kosovo**.  \n",
    "\n",
    "source: [Which countries use the euro?](https://europa.eu/european-union/about-eu/euro/which-countries-use-euro_en)\n",
    "\n",
    "Watch short video about Euro history before we start exploratory analysis:"
   ]
  },
  {
   "cell_type": "markdown",
   "id": "1713814e",
   "metadata": {
    "papermill": {
     "duration": 0.065017,
     "end_time": "2022-01-21T00:33:27.295021",
     "exception": false,
     "start_time": "2022-01-21T00:33:27.230004",
     "status": "completed"
    },
    "tags": []
   },
   "source": [
    "# History of Euro vs Polish Zloty [ANIMATED!]\n",
    "In this notebook we are going to study the history of the Euro vs Polish Zloty using our generated plot. \n",
    "\n",
    "There are 7 interesting highlights in the history of the Euro let's take a look at them:\n",
    "* 1- The currency was introduced in non-physical form (traveller's cheques, electronic transfers, banking, etc.) at midnight on 1 January 1999 [[source]](https://en.wikipedia.org/wiki/History_of_the_euro#Launch)\n",
    "* 2- Transition from national legacy currencies to euro 2002 [[source]](https://en.wikipedia.org/wiki/History_of_the_euro#Aftermath)\n",
    "* 3- Global financial crisis 2008 [[source]](https://en.wikipedia.org/wiki/History_of_the_euro#Recession_era)\n",
    "* 4- Greek Crisis 2010 [[source]](https://www.thebalance.com/what-is-the-greece-debt-crisis-3305525#:~:text=Why%20Greece%20Didn't%20Leave%20the%20Eurozone&text=Without%20the%20austerity%20measures%2C%20the,lowered%20its%20euro%20exchange%20rate.)\n",
    "* 5- Poland become a member of the European Union [[source]](https://en.wikipedia.org/wiki/Treaty_of_Accession_2003)\n",
    "* 6- Euro plunging for many reasons Much of has been about the strength of the Dollar 2014. [[source]](https://money.cnn.com/2015/01/05/investing/euro-slump-deepens/index.html)\n",
    "* 7- Quantitative Easing start in Europe 2015 [[source]](https://www.reuters.com/article/us-eurozone-ecb-qe-idUSKBN1OB1SM)\n",
    "* 8- Coronavirus Pandemic 2020 [[source]](https://www.statista.com/statistics/1102209/coronavirus-cases-development-europe/)"
   ]
  },
  {
   "cell_type": "code",
   "execution_count": 1,
   "id": "d1f85d2d",
   "metadata": {
    "execution": {
     "iopub.execute_input": "2022-01-21T00:33:27.448586Z",
     "iopub.status.busy": "2022-01-21T00:33:27.441724Z",
     "iopub.status.idle": "2022-01-21T00:33:39.926775Z",
     "shell.execute_reply": "2022-01-21T00:33:39.925921Z",
     "shell.execute_reply.started": "2022-01-20T23:57:59.145170Z"
    },
    "papermill": {
     "duration": 12.564433,
     "end_time": "2022-01-21T00:33:39.926950",
     "exception": false,
     "start_time": "2022-01-21T00:33:27.362517",
     "status": "completed"
    },
    "tags": []
   },
   "outputs": [
    {
     "name": "stdout",
     "output_type": "stream",
     "text": [
      "Collecting celluloid\r\n",
      "  Downloading celluloid-0.2.0-py3-none-any.whl (5.4 kB)\r\n",
      "Requirement already satisfied: matplotlib in /opt/conda/lib/python3.7/site-packages (from celluloid) (3.5.1)\r\n",
      "Requirement already satisfied: numpy>=1.17 in /opt/conda/lib/python3.7/site-packages (from matplotlib->celluloid) (1.19.5)\r\n",
      "Requirement already satisfied: packaging>=20.0 in /opt/conda/lib/python3.7/site-packages (from matplotlib->celluloid) (21.3)\r\n",
      "Requirement already satisfied: pyparsing>=2.2.1 in /opt/conda/lib/python3.7/site-packages (from matplotlib->celluloid) (3.0.6)\r\n",
      "Requirement already satisfied: fonttools>=4.22.0 in /opt/conda/lib/python3.7/site-packages (from matplotlib->celluloid) (4.28.2)\r\n",
      "Requirement already satisfied: kiwisolver>=1.0.1 in /opt/conda/lib/python3.7/site-packages (from matplotlib->celluloid) (1.3.2)\r\n",
      "Requirement already satisfied: cycler>=0.10 in /opt/conda/lib/python3.7/site-packages (from matplotlib->celluloid) (0.11.0)\r\n",
      "Requirement already satisfied: pillow>=6.2.0 in /opt/conda/lib/python3.7/site-packages (from matplotlib->celluloid) (8.2.0)\r\n",
      "Requirement already satisfied: python-dateutil>=2.7 in /opt/conda/lib/python3.7/site-packages (from matplotlib->celluloid) (2.8.0)\r\n",
      "Requirement already satisfied: six>=1.5 in /opt/conda/lib/python3.7/site-packages (from python-dateutil>=2.7->matplotlib->celluloid) (1.16.0)\r\n",
      "Installing collected packages: celluloid\r\n",
      "Successfully installed celluloid-0.2.0\r\n",
      "\u001b[33mWARNING: Running pip as the 'root' user can result in broken permissions and conflicting behaviour with the system package manager. It is recommended to use a virtual environment instead: https://pip.pypa.io/warnings/venv\u001b[0m\r\n"
     ]
    }
   ],
   "source": [
    "# Install celluloid for animation \n",
    "# Documentation: https://pypi.org/project/celluloid/\n",
    "!pip install celluloid "
   ]
  },
  {
   "cell_type": "code",
   "execution_count": 2,
   "id": "bad48273",
   "metadata": {
    "_cell_guid": "b1076dfc-b9ad-4769-8c92-a6c4dae69d19",
    "_uuid": "8f2839f25d086af736a60e9eeb907d3b93b6e0e5",
    "execution": {
     "iopub.execute_input": "2022-01-21T00:33:40.069656Z",
     "iopub.status.busy": "2022-01-21T00:33:40.068739Z",
     "iopub.status.idle": "2022-01-21T00:33:41.254041Z",
     "shell.execute_reply": "2022-01-21T00:33:41.253011Z",
     "shell.execute_reply.started": "2022-01-20T23:58:08.487136Z"
    },
    "papermill": {
     "duration": 1.259423,
     "end_time": "2022-01-21T00:33:41.254214",
     "exception": false,
     "start_time": "2022-01-21T00:33:39.994791",
     "status": "completed"
    },
    "tags": []
   },
   "outputs": [],
   "source": [
    "# Load packages\n",
    "import pandas as pd # data processing, CSV file I/O (e.g. pd.read_csv)\n",
    "from pandas.plotting import register_matplotlib_converters\n",
    "register_matplotlib_converters()\n",
    "import matplotlib.pyplot as plt\n",
    "from datetime import datetime\n",
    "from celluloid import Camera\n",
    "from IPython.display import Image\n",
    "%matplotlib inline\n",
    "\n",
    "\n",
    "import seaborn as sns\n",
    "sns.set_style('white')"
   ]
  },
  {
   "cell_type": "code",
   "execution_count": 3,
   "id": "4bfb8184",
   "metadata": {
    "execution": {
     "iopub.execute_input": "2022-01-21T00:33:41.390909Z",
     "iopub.status.busy": "2022-01-21T00:33:41.389998Z",
     "iopub.status.idle": "2022-01-21T00:33:41.513432Z",
     "shell.execute_reply": "2022-01-21T00:33:41.512724Z",
     "shell.execute_reply.started": "2022-01-20T23:58:08.500401Z"
    },
    "papermill": {
     "duration": 0.193478,
     "end_time": "2022-01-21T00:33:41.513592",
     "exception": false,
     "start_time": "2022-01-21T00:33:41.320114",
     "status": "completed"
    },
    "tags": []
   },
   "outputs": [],
   "source": [
    "# Read data\n",
    "PATH = '../input/euro-exchange-daily-rates-19992020/euro-daily-hist_1999_2022.csv'\n",
    "df = pd.read_csv(PATH)"
   ]
  },
  {
   "cell_type": "code",
   "execution_count": 4,
   "id": "709c4dc1",
   "metadata": {
    "execution": {
     "iopub.execute_input": "2022-01-21T00:33:41.662603Z",
     "iopub.status.busy": "2022-01-21T00:33:41.654059Z",
     "iopub.status.idle": "2022-01-21T00:33:41.690002Z",
     "shell.execute_reply": "2022-01-21T00:33:41.690550Z",
     "shell.execute_reply.started": "2022-01-20T23:58:08.613944Z"
    },
    "papermill": {
     "duration": 0.111017,
     "end_time": "2022-01-21T00:33:41.690723",
     "exception": false,
     "start_time": "2022-01-21T00:33:41.579706",
     "status": "completed"
    },
    "tags": []
   },
   "outputs": [
    {
     "data": {
      "text/html": [
       "<div>\n",
       "<style scoped>\n",
       "    .dataframe tbody tr th:only-of-type {\n",
       "        vertical-align: middle;\n",
       "    }\n",
       "\n",
       "    .dataframe tbody tr th {\n",
       "        vertical-align: top;\n",
       "    }\n",
       "\n",
       "    .dataframe thead th {\n",
       "        text-align: right;\n",
       "    }\n",
       "</style>\n",
       "<table border=\"1\" class=\"dataframe\">\n",
       "  <thead>\n",
       "    <tr style=\"text-align: right;\">\n",
       "      <th></th>\n",
       "      <th>Period\\Unit:</th>\n",
       "      <th>[Australian dollar ]</th>\n",
       "      <th>[Bulgarian lev ]</th>\n",
       "      <th>[Brazilian real ]</th>\n",
       "      <th>[Canadian dollar ]</th>\n",
       "      <th>[Swiss franc ]</th>\n",
       "      <th>[Chinese yuan renminbi ]</th>\n",
       "      <th>[Cypriot pound ]</th>\n",
       "      <th>[Czech koruna ]</th>\n",
       "      <th>[Danish krone ]</th>\n",
       "      <th>...</th>\n",
       "      <th>[Romanian leu ]</th>\n",
       "      <th>[Russian rouble ]</th>\n",
       "      <th>[Swedish krona ]</th>\n",
       "      <th>[Singapore dollar ]</th>\n",
       "      <th>[Slovenian tolar ]</th>\n",
       "      <th>[Slovak koruna ]</th>\n",
       "      <th>[Thai baht ]</th>\n",
       "      <th>[Turkish lira ]</th>\n",
       "      <th>[US dollar ]</th>\n",
       "      <th>[South African rand ]</th>\n",
       "    </tr>\n",
       "  </thead>\n",
       "  <tbody>\n",
       "    <tr>\n",
       "      <th>0</th>\n",
       "      <td>2022-01-10</td>\n",
       "      <td>1.5774</td>\n",
       "      <td>1.9558</td>\n",
       "      <td>6.3969</td>\n",
       "      <td>1.4327</td>\n",
       "      <td>1.0446</td>\n",
       "      <td>7.2128</td>\n",
       "      <td>NaN</td>\n",
       "      <td>24.357</td>\n",
       "      <td>7.4381</td>\n",
       "      <td>...</td>\n",
       "      <td>4.9449</td>\n",
       "      <td>84.9825</td>\n",
       "      <td>10.3038</td>\n",
       "      <td>1.5344</td>\n",
       "      <td>NaN</td>\n",
       "      <td>NaN</td>\n",
       "      <td>38.0740</td>\n",
       "      <td>15.7183</td>\n",
       "      <td>1.1318</td>\n",
       "      <td>17.6999</td>\n",
       "    </tr>\n",
       "    <tr>\n",
       "      <th>1</th>\n",
       "      <td>2022-01-07</td>\n",
       "      <td>1.5804</td>\n",
       "      <td>1.9558</td>\n",
       "      <td>6.4343</td>\n",
       "      <td>1.4374</td>\n",
       "      <td>1.0422</td>\n",
       "      <td>7.2060</td>\n",
       "      <td>NaN</td>\n",
       "      <td>24.439</td>\n",
       "      <td>7.4380</td>\n",
       "      <td>...</td>\n",
       "      <td>4.9451</td>\n",
       "      <td>85.2980</td>\n",
       "      <td>10.2839</td>\n",
       "      <td>1.5356</td>\n",
       "      <td>NaN</td>\n",
       "      <td>NaN</td>\n",
       "      <td>38.0740</td>\n",
       "      <td>15.7206</td>\n",
       "      <td>1.1298</td>\n",
       "      <td>17.6701</td>\n",
       "    </tr>\n",
       "    <tr>\n",
       "      <th>2</th>\n",
       "      <td>2022-01-06</td>\n",
       "      <td>1.5778</td>\n",
       "      <td>1.9558</td>\n",
       "      <td>6.4420</td>\n",
       "      <td>1.4451</td>\n",
       "      <td>1.0395</td>\n",
       "      <td>7.2187</td>\n",
       "      <td>NaN</td>\n",
       "      <td>24.528</td>\n",
       "      <td>7.4393</td>\n",
       "      <td>...</td>\n",
       "      <td>4.9435</td>\n",
       "      <td>86.5088</td>\n",
       "      <td>10.3265</td>\n",
       "      <td>1.5388</td>\n",
       "      <td>NaN</td>\n",
       "      <td>NaN</td>\n",
       "      <td>37.9620</td>\n",
       "      <td>15.5504</td>\n",
       "      <td>1.1315</td>\n",
       "      <td>17.7932</td>\n",
       "    </tr>\n",
       "    <tr>\n",
       "      <th>3</th>\n",
       "      <td>2022-01-05</td>\n",
       "      <td>1.5600</td>\n",
       "      <td>1.9558</td>\n",
       "      <td>6.4146</td>\n",
       "      <td>1.4399</td>\n",
       "      <td>1.0364</td>\n",
       "      <td>7.2087</td>\n",
       "      <td>NaN</td>\n",
       "      <td>24.581</td>\n",
       "      <td>7.4384</td>\n",
       "      <td>...</td>\n",
       "      <td>4.9460</td>\n",
       "      <td>85.7275</td>\n",
       "      <td>10.2545</td>\n",
       "      <td>1.5340</td>\n",
       "      <td>NaN</td>\n",
       "      <td>NaN</td>\n",
       "      <td>37.6070</td>\n",
       "      <td>15.2446</td>\n",
       "      <td>1.1319</td>\n",
       "      <td>17.9369</td>\n",
       "    </tr>\n",
       "    <tr>\n",
       "      <th>4</th>\n",
       "      <td>2022-01-04</td>\n",
       "      <td>1.5682</td>\n",
       "      <td>1.9558</td>\n",
       "      <td>6.4174</td>\n",
       "      <td>1.4382</td>\n",
       "      <td>1.0355</td>\n",
       "      <td>7.1924</td>\n",
       "      <td>NaN</td>\n",
       "      <td>24.745</td>\n",
       "      <td>7.4378</td>\n",
       "      <td>...</td>\n",
       "      <td>4.9481</td>\n",
       "      <td>84.9202</td>\n",
       "      <td>10.2808</td>\n",
       "      <td>1.5310</td>\n",
       "      <td>NaN</td>\n",
       "      <td>NaN</td>\n",
       "      <td>37.5820</td>\n",
       "      <td>15.1384</td>\n",
       "      <td>1.1279</td>\n",
       "      <td>18.1080</td>\n",
       "    </tr>\n",
       "  </tbody>\n",
       "</table>\n",
       "<p>5 rows × 41 columns</p>\n",
       "</div>"
      ],
      "text/plain": [
       "  Period\\Unit: [Australian dollar ] [Bulgarian lev ] [Brazilian real ]  \\\n",
       "0   2022-01-10               1.5774           1.9558            6.3969   \n",
       "1   2022-01-07               1.5804           1.9558            6.4343   \n",
       "2   2022-01-06               1.5778           1.9558            6.4420   \n",
       "3   2022-01-05               1.5600           1.9558            6.4146   \n",
       "4   2022-01-04               1.5682           1.9558            6.4174   \n",
       "\n",
       "  [Canadian dollar ] [Swiss franc ] [Chinese yuan renminbi ] [Cypriot pound ]  \\\n",
       "0             1.4327         1.0446                   7.2128              NaN   \n",
       "1             1.4374         1.0422                   7.2060              NaN   \n",
       "2             1.4451         1.0395                   7.2187              NaN   \n",
       "3             1.4399         1.0364                   7.2087              NaN   \n",
       "4             1.4382         1.0355                   7.1924              NaN   \n",
       "\n",
       "  [Czech koruna ] [Danish krone ]  ... [Romanian leu ] [Russian rouble ]  \\\n",
       "0          24.357          7.4381  ...          4.9449           84.9825   \n",
       "1          24.439          7.4380  ...          4.9451           85.2980   \n",
       "2          24.528          7.4393  ...          4.9435           86.5088   \n",
       "3          24.581          7.4384  ...          4.9460           85.7275   \n",
       "4          24.745          7.4378  ...          4.9481           84.9202   \n",
       "\n",
       "  [Swedish krona ] [Singapore dollar ] [Slovenian tolar ] [Slovak koruna ]  \\\n",
       "0          10.3038              1.5344                NaN              NaN   \n",
       "1          10.2839              1.5356                NaN              NaN   \n",
       "2          10.3265              1.5388                NaN              NaN   \n",
       "3          10.2545              1.5340                NaN              NaN   \n",
       "4          10.2808              1.5310                NaN              NaN   \n",
       "\n",
       "  [Thai baht ] [Turkish lira ] [US dollar ]  [South African rand ]  \n",
       "0      38.0740         15.7183       1.1318                17.6999  \n",
       "1      38.0740         15.7206       1.1298                17.6701  \n",
       "2      37.9620         15.5504       1.1315                17.7932  \n",
       "3      37.6070         15.2446       1.1319                17.9369  \n",
       "4      37.5820         15.1384       1.1279                18.1080  \n",
       "\n",
       "[5 rows x 41 columns]"
      ]
     },
     "execution_count": 4,
     "metadata": {},
     "output_type": "execute_result"
    }
   ],
   "source": [
    "# Show first 5 rows for data exploration\n",
    "df.head()"
   ]
  },
  {
   "cell_type": "code",
   "execution_count": 5,
   "id": "7d7f7b8e",
   "metadata": {
    "execution": {
     "iopub.execute_input": "2022-01-21T00:33:41.860239Z",
     "iopub.status.busy": "2022-01-21T00:33:41.859109Z",
     "iopub.status.idle": "2022-01-21T00:33:41.883253Z",
     "shell.execute_reply": "2022-01-21T00:33:41.884044Z",
     "shell.execute_reply.started": "2022-01-20T23:58:08.647379Z"
    },
    "papermill": {
     "duration": 0.126482,
     "end_time": "2022-01-21T00:33:41.884377",
     "exception": false,
     "start_time": "2022-01-21T00:33:41.757895",
     "status": "completed"
    },
    "tags": []
   },
   "outputs": [
    {
     "name": "stdout",
     "output_type": "stream",
     "text": [
      "<class 'pandas.core.frame.DataFrame'>\n",
      "RangeIndex: 5958 entries, 0 to 5957\n",
      "Data columns (total 41 columns):\n",
      " #   Column                    Non-Null Count  Dtype  \n",
      "---  ------                    --------------  -----  \n",
      " 0   Period\\Unit:              5958 non-null   object \n",
      " 1   [Australian dollar ]      5958 non-null   object \n",
      " 2   [Bulgarian lev ]          5556 non-null   object \n",
      " 3   [Brazilian real ]         5690 non-null   object \n",
      " 4   [Canadian dollar ]        5958 non-null   object \n",
      " 5   [Swiss franc ]            5958 non-null   object \n",
      " 6   [Chinese yuan renminbi ]  5690 non-null   object \n",
      " 7   [Cypriot pound ]          2346 non-null   object \n",
      " 8   [Czech koruna ]           5958 non-null   object \n",
      " 9   [Danish krone ]           5958 non-null   object \n",
      " 10  [Estonian kroon ]         3130 non-null   object \n",
      " 11  [UK pound sterling ]      5958 non-null   object \n",
      " 12  [Greek drachma ]          520 non-null    object \n",
      " 13  [Hong Kong dollar ]       5958 non-null   object \n",
      " 14  [Croatian kuna ]          5690 non-null   object \n",
      " 15  [Hungarian forint ]       5958 non-null   object \n",
      " 16  [Indonesian rupiah ]      5958 non-null   object \n",
      " 17  [Israeli shekel ]         5690 non-null   object \n",
      " 18  [Indian rupee ]           5690 non-null   object \n",
      " 19  [Iceland krona ]          3551 non-null   float64\n",
      " 20  [Japanese yen ]           5958 non-null   object \n",
      " 21  [Korean won ]             5958 non-null   object \n",
      " 22  [Lithuanian litas ]       4159 non-null   object \n",
      " 23  [Latvian lats ]           3904 non-null   object \n",
      " 24  [Maltese lira ]           2346 non-null   object \n",
      " 25  [Mexican peso ]           5958 non-null   object \n",
      " 26  [Malaysian ringgit ]      5958 non-null   object \n",
      " 27  [Norwegian krone ]        5958 non-null   object \n",
      " 28  [New Zealand dollar ]     5958 non-null   object \n",
      " 29  [Philippine peso ]        5958 non-null   object \n",
      " 30  [Polish zloty ]           5958 non-null   object \n",
      " 31  [Romanian leu ]           5896 non-null   float64\n",
      " 32  [Russian rouble ]         5958 non-null   object \n",
      " 33  [Swedish krona ]          5958 non-null   object \n",
      " 34  [Singapore dollar ]       5958 non-null   object \n",
      " 35  [Slovenian tolar ]        2085 non-null   object \n",
      " 36  [Slovak koruna ]          2608 non-null   object \n",
      " 37  [Thai baht ]              5958 non-null   object \n",
      " 38  [Turkish lira ]           5896 non-null   float64\n",
      " 39  [US dollar ]              5958 non-null   object \n",
      " 40  [South African rand ]     5958 non-null   object \n",
      "dtypes: float64(3), object(38)\n",
      "memory usage: 1.9+ MB\n"
     ]
    }
   ],
   "source": [
    "# Understanding of our columns and their dtypes\n",
    "df.info()"
   ]
  },
  {
   "cell_type": "markdown",
   "id": "bd0d7288",
   "metadata": {
    "papermill": {
     "duration": 0.070632,
     "end_time": "2022-01-21T00:33:42.027871",
     "exception": false,
     "start_time": "2022-01-21T00:33:41.957239",
     "status": "completed"
    },
    "tags": []
   },
   "source": [
    "# Clean\n",
    "Below, we do the following:\n",
    "\n",
    "* We rename the `[Polish Zloty ]` and `Period\\Unit:` columns to something easier to type — PNL and time.\n",
    "* We change the time column to a datetime data type.\n",
    "* We sort the values by time in ascending order.\n",
    "* We reset the index (and drop the initial index).\n",
    "* Isolate `time` & `PNL` in a separate df since this is our area of focus.\n",
    "* Drop rows with `PNL` value = `-`\n",
    "* Convert the `PNL` column to a float data type."
   ]
  },
  {
   "cell_type": "markdown",
   "id": "4364eb8f",
   "metadata": {
    "papermill": {
     "duration": 0.07247,
     "end_time": "2022-01-21T00:33:42.169416",
     "exception": false,
     "start_time": "2022-01-21T00:33:42.096946",
     "status": "completed"
    },
    "tags": []
   },
   "source": [
    "## Columns renaming"
   ]
  },
  {
   "cell_type": "code",
   "execution_count": 6,
   "id": "3c8bb078",
   "metadata": {
    "execution": {
     "iopub.execute_input": "2022-01-21T00:33:42.315599Z",
     "iopub.status.busy": "2022-01-21T00:33:42.314796Z",
     "iopub.status.idle": "2022-01-21T00:33:42.323359Z",
     "shell.execute_reply": "2022-01-21T00:33:42.323841Z",
     "shell.execute_reply.started": "2022-01-20T23:59:02.399252Z"
    },
    "papermill": {
     "duration": 0.083826,
     "end_time": "2022-01-21T00:33:42.324039",
     "exception": false,
     "start_time": "2022-01-21T00:33:42.240213",
     "status": "completed"
    },
    "tags": []
   },
   "outputs": [
    {
     "data": {
      "text/html": [
       "<div>\n",
       "<style scoped>\n",
       "    .dataframe tbody tr th:only-of-type {\n",
       "        vertical-align: middle;\n",
       "    }\n",
       "\n",
       "    .dataframe tbody tr th {\n",
       "        vertical-align: top;\n",
       "    }\n",
       "\n",
       "    .dataframe thead th {\n",
       "        text-align: right;\n",
       "    }\n",
       "</style>\n",
       "<table border=\"1\" class=\"dataframe\">\n",
       "  <thead>\n",
       "    <tr style=\"text-align: right;\">\n",
       "      <th></th>\n",
       "      <th>time</th>\n",
       "      <th>PNL</th>\n",
       "    </tr>\n",
       "  </thead>\n",
       "  <tbody>\n",
       "    <tr>\n",
       "      <th>5130</th>\n",
       "      <td>2002-03-06</td>\n",
       "      <td>3.6190</td>\n",
       "    </tr>\n",
       "  </tbody>\n",
       "</table>\n",
       "</div>"
      ],
      "text/plain": [
       "            time     PNL\n",
       "5130  2002-03-06  3.6190"
      ]
     },
     "execution_count": 6,
     "metadata": {},
     "output_type": "execute_result"
    }
   ],
   "source": [
    "df.rename(columns={'[Polish zloty ]':'PNL', 'Period\\\\Unit:':'time'}, inplace=True)\n",
    "\n",
    "# Test\n",
    "df[['time','PNL']].sample()"
   ]
  },
  {
   "cell_type": "markdown",
   "id": "2b02f1e8",
   "metadata": {
    "papermill": {
     "duration": 0.070726,
     "end_time": "2022-01-21T00:33:42.469101",
     "exception": false,
     "start_time": "2022-01-21T00:33:42.398375",
     "status": "completed"
    },
    "tags": []
   },
   "source": [
    "## Change the time column to a datetime data type"
   ]
  },
  {
   "cell_type": "code",
   "execution_count": 7,
   "id": "84f485f6",
   "metadata": {
    "execution": {
     "iopub.execute_input": "2022-01-21T00:33:42.612880Z",
     "iopub.status.busy": "2022-01-21T00:33:42.611829Z",
     "iopub.status.idle": "2022-01-21T00:33:42.625953Z",
     "shell.execute_reply": "2022-01-21T00:33:42.625328Z",
     "shell.execute_reply.started": "2022-01-20T23:58:55.579535Z"
    },
    "papermill": {
     "duration": 0.085921,
     "end_time": "2022-01-21T00:33:42.626104",
     "exception": false,
     "start_time": "2022-01-21T00:33:42.540183",
     "status": "completed"
    },
    "tags": []
   },
   "outputs": [
    {
     "data": {
      "text/plain": [
       "dtype('<M8[ns]')"
      ]
     },
     "execution_count": 7,
     "metadata": {},
     "output_type": "execute_result"
    }
   ],
   "source": [
    "df['time'] = pd.to_datetime(df.time)\n",
    "\n",
    "# Test\n",
    "df.time.dtype"
   ]
  },
  {
   "cell_type": "markdown",
   "id": "0119df37",
   "metadata": {
    "papermill": {
     "duration": 0.069851,
     "end_time": "2022-01-21T00:33:42.764692",
     "exception": false,
     "start_time": "2022-01-21T00:33:42.694841",
     "status": "completed"
    },
    "tags": []
   },
   "source": [
    "## Sort the values by time in ascending order & reset index."
   ]
  },
  {
   "cell_type": "code",
   "execution_count": 8,
   "id": "e26663e5",
   "metadata": {
    "execution": {
     "iopub.execute_input": "2022-01-21T00:33:42.912831Z",
     "iopub.status.busy": "2022-01-21T00:33:42.911705Z",
     "iopub.status.idle": "2022-01-21T00:33:42.951315Z",
     "shell.execute_reply": "2022-01-21T00:33:42.950766Z",
     "shell.execute_reply.started": "2022-01-20T23:58:49.373849Z"
    },
    "papermill": {
     "duration": 0.114776,
     "end_time": "2022-01-21T00:33:42.951484",
     "exception": false,
     "start_time": "2022-01-21T00:33:42.836708",
     "status": "completed"
    },
    "tags": []
   },
   "outputs": [
    {
     "data": {
      "text/html": [
       "<div>\n",
       "<style scoped>\n",
       "    .dataframe tbody tr th:only-of-type {\n",
       "        vertical-align: middle;\n",
       "    }\n",
       "\n",
       "    .dataframe tbody tr th {\n",
       "        vertical-align: top;\n",
       "    }\n",
       "\n",
       "    .dataframe thead th {\n",
       "        text-align: right;\n",
       "    }\n",
       "</style>\n",
       "<table border=\"1\" class=\"dataframe\">\n",
       "  <thead>\n",
       "    <tr style=\"text-align: right;\">\n",
       "      <th></th>\n",
       "      <th>time</th>\n",
       "      <th>[Australian dollar ]</th>\n",
       "      <th>[Bulgarian lev ]</th>\n",
       "      <th>[Brazilian real ]</th>\n",
       "      <th>[Canadian dollar ]</th>\n",
       "      <th>[Swiss franc ]</th>\n",
       "      <th>[Chinese yuan renminbi ]</th>\n",
       "      <th>[Cypriot pound ]</th>\n",
       "      <th>[Czech koruna ]</th>\n",
       "      <th>[Danish krone ]</th>\n",
       "      <th>...</th>\n",
       "      <th>[Romanian leu ]</th>\n",
       "      <th>[Russian rouble ]</th>\n",
       "      <th>[Swedish krona ]</th>\n",
       "      <th>[Singapore dollar ]</th>\n",
       "      <th>[Slovenian tolar ]</th>\n",
       "      <th>[Slovak koruna ]</th>\n",
       "      <th>[Thai baht ]</th>\n",
       "      <th>[Turkish lira ]</th>\n",
       "      <th>[US dollar ]</th>\n",
       "      <th>[South African rand ]</th>\n",
       "    </tr>\n",
       "  </thead>\n",
       "  <tbody>\n",
       "    <tr>\n",
       "      <th>0</th>\n",
       "      <td>1999-01-04</td>\n",
       "      <td>1.9100</td>\n",
       "      <td>NaN</td>\n",
       "      <td>NaN</td>\n",
       "      <td>1.8004</td>\n",
       "      <td>1.6168</td>\n",
       "      <td>NaN</td>\n",
       "      <td>0.58231</td>\n",
       "      <td>35.107</td>\n",
       "      <td>7.4501</td>\n",
       "      <td>...</td>\n",
       "      <td>1.3111</td>\n",
       "      <td>25.2875</td>\n",
       "      <td>9.4696</td>\n",
       "      <td>1.9554</td>\n",
       "      <td>189.0450</td>\n",
       "      <td>42.991</td>\n",
       "      <td>42.6799</td>\n",
       "      <td>0.3723</td>\n",
       "      <td>1.1789</td>\n",
       "      <td>6.9358</td>\n",
       "    </tr>\n",
       "    <tr>\n",
       "      <th>1</th>\n",
       "      <td>1999-01-05</td>\n",
       "      <td>1.8944</td>\n",
       "      <td>NaN</td>\n",
       "      <td>NaN</td>\n",
       "      <td>1.7965</td>\n",
       "      <td>1.6123</td>\n",
       "      <td>NaN</td>\n",
       "      <td>0.58230</td>\n",
       "      <td>34.917</td>\n",
       "      <td>7.4495</td>\n",
       "      <td>...</td>\n",
       "      <td>1.3168</td>\n",
       "      <td>26.5876</td>\n",
       "      <td>9.4025</td>\n",
       "      <td>1.9655</td>\n",
       "      <td>188.7750</td>\n",
       "      <td>42.848</td>\n",
       "      <td>42.5048</td>\n",
       "      <td>0.3728</td>\n",
       "      <td>1.1790</td>\n",
       "      <td>6.7975</td>\n",
       "    </tr>\n",
       "    <tr>\n",
       "      <th>2</th>\n",
       "      <td>1999-01-06</td>\n",
       "      <td>1.8820</td>\n",
       "      <td>NaN</td>\n",
       "      <td>NaN</td>\n",
       "      <td>1.7711</td>\n",
       "      <td>1.6116</td>\n",
       "      <td>NaN</td>\n",
       "      <td>0.58200</td>\n",
       "      <td>34.850</td>\n",
       "      <td>7.4452</td>\n",
       "      <td>...</td>\n",
       "      <td>1.3168</td>\n",
       "      <td>27.4315</td>\n",
       "      <td>9.3050</td>\n",
       "      <td>1.9699</td>\n",
       "      <td>188.7000</td>\n",
       "      <td>42.778</td>\n",
       "      <td>42.6949</td>\n",
       "      <td>0.3722</td>\n",
       "      <td>1.1743</td>\n",
       "      <td>6.7307</td>\n",
       "    </tr>\n",
       "    <tr>\n",
       "      <th>3</th>\n",
       "      <td>1999-01-07</td>\n",
       "      <td>1.8474</td>\n",
       "      <td>NaN</td>\n",
       "      <td>NaN</td>\n",
       "      <td>1.7602</td>\n",
       "      <td>1.6165</td>\n",
       "      <td>NaN</td>\n",
       "      <td>0.58187</td>\n",
       "      <td>34.886</td>\n",
       "      <td>7.4431</td>\n",
       "      <td>...</td>\n",
       "      <td>1.3092</td>\n",
       "      <td>26.9876</td>\n",
       "      <td>9.1800</td>\n",
       "      <td>1.9436</td>\n",
       "      <td>188.8000</td>\n",
       "      <td>42.765</td>\n",
       "      <td>42.1678</td>\n",
       "      <td>0.3701</td>\n",
       "      <td>1.1632</td>\n",
       "      <td>6.8283</td>\n",
       "    </tr>\n",
       "    <tr>\n",
       "      <th>4</th>\n",
       "      <td>1999-01-08</td>\n",
       "      <td>1.8406</td>\n",
       "      <td>NaN</td>\n",
       "      <td>NaN</td>\n",
       "      <td>1.7643</td>\n",
       "      <td>1.6138</td>\n",
       "      <td>NaN</td>\n",
       "      <td>0.58187</td>\n",
       "      <td>34.938</td>\n",
       "      <td>7.4433</td>\n",
       "      <td>...</td>\n",
       "      <td>1.3143</td>\n",
       "      <td>27.2075</td>\n",
       "      <td>9.1650</td>\n",
       "      <td>1.9537</td>\n",
       "      <td>188.8400</td>\n",
       "      <td>42.560</td>\n",
       "      <td>42.5590</td>\n",
       "      <td>0.3718</td>\n",
       "      <td>1.1659</td>\n",
       "      <td>6.7855</td>\n",
       "    </tr>\n",
       "  </tbody>\n",
       "</table>\n",
       "<p>5 rows × 41 columns</p>\n",
       "</div>"
      ],
      "text/plain": [
       "        time [Australian dollar ] [Bulgarian lev ] [Brazilian real ]  \\\n",
       "0 1999-01-04               1.9100              NaN               NaN   \n",
       "1 1999-01-05               1.8944              NaN               NaN   \n",
       "2 1999-01-06               1.8820              NaN               NaN   \n",
       "3 1999-01-07               1.8474              NaN               NaN   \n",
       "4 1999-01-08               1.8406              NaN               NaN   \n",
       "\n",
       "  [Canadian dollar ] [Swiss franc ] [Chinese yuan renminbi ] [Cypriot pound ]  \\\n",
       "0             1.8004         1.6168                      NaN          0.58231   \n",
       "1             1.7965         1.6123                      NaN          0.58230   \n",
       "2             1.7711         1.6116                      NaN          0.58200   \n",
       "3             1.7602         1.6165                      NaN          0.58187   \n",
       "4             1.7643         1.6138                      NaN          0.58187   \n",
       "\n",
       "  [Czech koruna ] [Danish krone ]  ... [Romanian leu ] [Russian rouble ]  \\\n",
       "0          35.107          7.4501  ...          1.3111           25.2875   \n",
       "1          34.917          7.4495  ...          1.3168           26.5876   \n",
       "2          34.850          7.4452  ...          1.3168           27.4315   \n",
       "3          34.886          7.4431  ...          1.3092           26.9876   \n",
       "4          34.938          7.4433  ...          1.3143           27.2075   \n",
       "\n",
       "  [Swedish krona ] [Singapore dollar ] [Slovenian tolar ] [Slovak koruna ]  \\\n",
       "0           9.4696              1.9554           189.0450           42.991   \n",
       "1           9.4025              1.9655           188.7750           42.848   \n",
       "2           9.3050              1.9699           188.7000           42.778   \n",
       "3           9.1800              1.9436           188.8000           42.765   \n",
       "4           9.1650              1.9537           188.8400           42.560   \n",
       "\n",
       "  [Thai baht ] [Turkish lira ] [US dollar ]  [South African rand ]  \n",
       "0      42.6799          0.3723       1.1789                 6.9358  \n",
       "1      42.5048          0.3728       1.1790                 6.7975  \n",
       "2      42.6949          0.3722       1.1743                 6.7307  \n",
       "3      42.1678          0.3701       1.1632                 6.8283  \n",
       "4      42.5590          0.3718       1.1659                 6.7855  \n",
       "\n",
       "[5 rows x 41 columns]"
      ]
     },
     "execution_count": 8,
     "metadata": {},
     "output_type": "execute_result"
    }
   ],
   "source": [
    "df = df.sort_values('time').reset_index(drop=True)\n",
    "\n",
    "# Test\n",
    "df.head()"
   ]
  },
  {
   "cell_type": "markdown",
   "id": "f5dc7b54",
   "metadata": {
    "papermill": {
     "duration": 0.074572,
     "end_time": "2022-01-21T00:33:43.099260",
     "exception": false,
     "start_time": "2022-01-21T00:33:43.024688",
     "status": "completed"
    },
    "tags": []
   },
   "source": [
    "## Isolate `time` & `PNL` in a separate df"
   ]
  },
  {
   "cell_type": "code",
   "execution_count": 9,
   "id": "41844421",
   "metadata": {
    "execution": {
     "iopub.execute_input": "2022-01-21T00:33:43.252771Z",
     "iopub.status.busy": "2022-01-21T00:33:43.251660Z",
     "iopub.status.idle": "2022-01-21T00:33:43.260724Z",
     "shell.execute_reply": "2022-01-21T00:33:43.261239Z",
     "shell.execute_reply.started": "2022-01-20T23:58:08.768299Z"
    },
    "papermill": {
     "duration": 0.09029,
     "end_time": "2022-01-21T00:33:43.261449",
     "exception": false,
     "start_time": "2022-01-21T00:33:43.171159",
     "status": "completed"
    },
    "tags": []
   },
   "outputs": [
    {
     "data": {
      "text/html": [
       "<div>\n",
       "<style scoped>\n",
       "    .dataframe tbody tr th:only-of-type {\n",
       "        vertical-align: middle;\n",
       "    }\n",
       "\n",
       "    .dataframe tbody tr th {\n",
       "        vertical-align: top;\n",
       "    }\n",
       "\n",
       "    .dataframe thead th {\n",
       "        text-align: right;\n",
       "    }\n",
       "</style>\n",
       "<table border=\"1\" class=\"dataframe\">\n",
       "  <thead>\n",
       "    <tr style=\"text-align: right;\">\n",
       "      <th></th>\n",
       "      <th>time</th>\n",
       "      <th>PNL</th>\n",
       "    </tr>\n",
       "  </thead>\n",
       "  <tbody>\n",
       "    <tr>\n",
       "      <th>3889</th>\n",
       "      <td>2013-12-09</td>\n",
       "      <td>4.1867</td>\n",
       "    </tr>\n",
       "  </tbody>\n",
       "</table>\n",
       "</div>"
      ],
      "text/plain": [
       "           time     PNL\n",
       "3889 2013-12-09  4.1867"
      ]
     },
     "execution_count": 9,
     "metadata": {},
     "output_type": "execute_result"
    }
   ],
   "source": [
    "PNL_df = df[['time','PNL']].copy()\n",
    "\n",
    "# Test\n",
    "PNL_df.sample()"
   ]
  },
  {
   "cell_type": "code",
   "execution_count": 10,
   "id": "6c8687e1",
   "metadata": {
    "execution": {
     "iopub.execute_input": "2022-01-21T00:33:43.416134Z",
     "iopub.status.busy": "2022-01-21T00:33:43.415119Z",
     "iopub.status.idle": "2022-01-21T00:33:43.426384Z",
     "shell.execute_reply": "2022-01-21T00:33:43.427042Z",
     "shell.execute_reply.started": "2022-01-20T23:58:08.785234Z"
    },
    "papermill": {
     "duration": 0.090352,
     "end_time": "2022-01-21T00:33:43.427229",
     "exception": false,
     "start_time": "2022-01-21T00:33:43.336877",
     "status": "completed"
    },
    "tags": []
   },
   "outputs": [
    {
     "data": {
      "text/plain": [
       "-         62\n",
       "4.2953     6\n",
       "4.2925     6\n",
       "4.1765     6\n",
       "4.1770     6\n",
       "          ..\n",
       "3.8103     1\n",
       "3.8123     1\n",
       "3.8141     1\n",
       "3.8008     1\n",
       "4.5334     1\n",
       "Name: PNL, Length: 4300, dtype: int64"
      ]
     },
     "execution_count": 10,
     "metadata": {},
     "output_type": "execute_result"
    }
   ],
   "source": [
    "PNL_df.PNL.value_counts()"
   ]
  },
  {
   "cell_type": "markdown",
   "id": "638b54be",
   "metadata": {
    "papermill": {
     "duration": 0.073997,
     "end_time": "2022-01-21T00:33:43.573643",
     "exception": false,
     "start_time": "2022-01-21T00:33:43.499646",
     "status": "completed"
    },
    "tags": []
   },
   "source": [
    "## Drop rows with `PNL` value = `-`"
   ]
  },
  {
   "cell_type": "code",
   "execution_count": 11,
   "id": "b8959819",
   "metadata": {
    "execution": {
     "iopub.execute_input": "2022-01-21T00:33:43.731982Z",
     "iopub.status.busy": "2022-01-21T00:33:43.727908Z",
     "iopub.status.idle": "2022-01-21T00:33:43.739444Z",
     "shell.execute_reply": "2022-01-21T00:33:43.740059Z",
     "shell.execute_reply.started": "2022-01-20T23:58:08.802971Z"
    },
    "papermill": {
     "duration": 0.093542,
     "end_time": "2022-01-21T00:33:43.740232",
     "exception": false,
     "start_time": "2022-01-21T00:33:43.646690",
     "status": "completed"
    },
    "tags": []
   },
   "outputs": [
    {
     "data": {
      "text/plain": [
       "4.2925    6\n",
       "4.1770    6\n",
       "4.1765    6\n",
       "4.2953    6\n",
       "4.0875    5\n",
       "         ..\n",
       "3.8103    1\n",
       "3.8123    1\n",
       "3.8141    1\n",
       "3.8008    1\n",
       "4.5334    1\n",
       "Name: PNL, Length: 4299, dtype: int64"
      ]
     },
     "execution_count": 11,
     "metadata": {},
     "output_type": "execute_result"
    }
   ],
   "source": [
    "PNL_df.drop(index=PNL_df[PNL_df['PNL']=='-'].index, inplace=True)\n",
    "\n",
    "# Test\n",
    "PNL_df.PNL.value_counts()"
   ]
  },
  {
   "cell_type": "markdown",
   "id": "0fa09486",
   "metadata": {
    "papermill": {
     "duration": 0.070043,
     "end_time": "2022-01-21T00:33:43.880940",
     "exception": false,
     "start_time": "2022-01-21T00:33:43.810897",
     "status": "completed"
    },
    "tags": []
   },
   "source": [
    "## Convert the `PNL` column to a float data type."
   ]
  },
  {
   "cell_type": "code",
   "execution_count": 12,
   "id": "c8e78cac",
   "metadata": {
    "execution": {
     "iopub.execute_input": "2022-01-21T00:33:44.035447Z",
     "iopub.status.busy": "2022-01-21T00:33:44.023950Z",
     "iopub.status.idle": "2022-01-21T00:33:44.039190Z",
     "shell.execute_reply": "2022-01-21T00:33:44.039932Z",
     "shell.execute_reply.started": "2022-01-20T23:58:08.824513Z"
    },
    "papermill": {
     "duration": 0.088139,
     "end_time": "2022-01-21T00:33:44.040163",
     "exception": false,
     "start_time": "2022-01-21T00:33:43.952024",
     "status": "completed"
    },
    "tags": []
   },
   "outputs": [
    {
     "name": "stdout",
     "output_type": "stream",
     "text": [
      "<class 'pandas.core.frame.DataFrame'>\n",
      "Int64Index: 5896 entries, 0 to 5957\n",
      "Data columns (total 2 columns):\n",
      " #   Column  Non-Null Count  Dtype         \n",
      "---  ------  --------------  -----         \n",
      " 0   time    5896 non-null   datetime64[ns]\n",
      " 1   PNL     5896 non-null   object        \n",
      "dtypes: datetime64[ns](1), object(1)\n",
      "memory usage: 138.2+ KB\n"
     ]
    },
    {
     "name": "stderr",
     "output_type": "stream",
     "text": [
      "/opt/conda/lib/python3.7/site-packages/ipykernel_launcher.py:1: UserWarning: Pandas doesn't allow columns to be created via a new attribute name - see https://pandas.pydata.org/pandas-docs/stable/indexing.html#attribute-access\n",
      "  \"\"\"Entry point for launching an IPython kernel.\n"
     ]
    }
   ],
   "source": [
    "PNL_df.us_dollar = PNL_df.PNL.astype('float')\n",
    "\n",
    "# Test\n",
    "PNL_df.info()"
   ]
  },
  {
   "cell_type": "code",
   "execution_count": 13,
   "id": "4728d93f",
   "metadata": {
    "execution": {
     "iopub.execute_input": "2022-01-21T00:33:44.189346Z",
     "iopub.status.busy": "2022-01-21T00:33:44.188640Z",
     "iopub.status.idle": "2022-01-21T00:33:44.191486Z",
     "shell.execute_reply": "2022-01-21T00:33:44.190952Z",
     "shell.execute_reply.started": "2022-01-20T23:58:08.842264Z"
    },
    "papermill": {
     "duration": 0.076906,
     "end_time": "2022-01-21T00:33:44.191635",
     "exception": false,
     "start_time": "2022-01-21T00:33:44.114729",
     "status": "completed"
    },
    "tags": []
   },
   "outputs": [],
   "source": [
    "#save it for the forecast\n",
    "future_pnl = PNL_df"
   ]
  },
  {
   "cell_type": "markdown",
   "id": "e39d02d6",
   "metadata": {
    "papermill": {
     "duration": 0.071186,
     "end_time": "2022-01-21T00:33:44.336838",
     "exception": false,
     "start_time": "2022-01-21T00:33:44.265652",
     "status": "completed"
    },
    "tags": []
   },
   "source": [
    "# EDA and currency comparisons\n"
   ]
  },
  {
   "cell_type": "code",
   "execution_count": 14,
   "id": "e4822fef",
   "metadata": {
    "execution": {
     "iopub.execute_input": "2022-01-21T00:33:44.492626Z",
     "iopub.status.busy": "2022-01-21T00:33:44.491923Z",
     "iopub.status.idle": "2022-01-21T00:33:44.616673Z",
     "shell.execute_reply": "2022-01-21T00:33:44.617242Z",
     "shell.execute_reply.started": "2022-01-20T23:58:08.856547Z"
    },
    "papermill": {
     "duration": 0.207188,
     "end_time": "2022-01-21T00:33:44.617461",
     "exception": false,
     "start_time": "2022-01-21T00:33:44.410273",
     "status": "completed"
    },
    "tags": []
   },
   "outputs": [
    {
     "data": {
      "text/html": [
       "<div>\n",
       "<style scoped>\n",
       "    .dataframe tbody tr th:only-of-type {\n",
       "        vertical-align: middle;\n",
       "    }\n",
       "\n",
       "    .dataframe tbody tr th {\n",
       "        vertical-align: top;\n",
       "    }\n",
       "\n",
       "    .dataframe thead th {\n",
       "        text-align: right;\n",
       "    }\n",
       "</style>\n",
       "<table border=\"1\" class=\"dataframe\">\n",
       "  <thead>\n",
       "    <tr style=\"text-align: right;\">\n",
       "      <th></th>\n",
       "      <th>Period\\Unit:</th>\n",
       "      <th>[Australian dollar ]</th>\n",
       "      <th>[Bulgarian lev ]</th>\n",
       "      <th>[Brazilian real ]</th>\n",
       "      <th>[Canadian dollar ]</th>\n",
       "      <th>[Swiss franc ]</th>\n",
       "      <th>[Chinese yuan renminbi ]</th>\n",
       "      <th>[Cypriot pound ]</th>\n",
       "      <th>[Czech koruna ]</th>\n",
       "      <th>[Danish krone ]</th>\n",
       "      <th>...</th>\n",
       "      <th>[Romanian leu ]</th>\n",
       "      <th>[Russian rouble ]</th>\n",
       "      <th>[Swedish krona ]</th>\n",
       "      <th>[Singapore dollar ]</th>\n",
       "      <th>[Slovenian tolar ]</th>\n",
       "      <th>[Slovak koruna ]</th>\n",
       "      <th>[Thai baht ]</th>\n",
       "      <th>[Turkish lira ]</th>\n",
       "      <th>[US dollar ]</th>\n",
       "      <th>[South African rand ]</th>\n",
       "    </tr>\n",
       "  </thead>\n",
       "  <tbody>\n",
       "    <tr>\n",
       "      <th>5948</th>\n",
       "      <td>1999-01-15</td>\n",
       "      <td>1.8388</td>\n",
       "      <td>NaN</td>\n",
       "      <td>NaN</td>\n",
       "      <td>1.7797</td>\n",
       "      <td>1.5984</td>\n",
       "      <td>NaN</td>\n",
       "      <td>0.58187</td>\n",
       "      <td>35.860</td>\n",
       "      <td>7.4441</td>\n",
       "      <td>...</td>\n",
       "      <td>1.3164</td>\n",
       "      <td>26.5662</td>\n",
       "      <td>9.1570</td>\n",
       "      <td>1.9570</td>\n",
       "      <td>187.1333</td>\n",
       "      <td>42.738</td>\n",
       "      <td>43.4042</td>\n",
       "      <td>0.3742</td>\n",
       "      <td>1.1626</td>\n",
       "      <td>7.2197</td>\n",
       "    </tr>\n",
       "    <tr>\n",
       "      <th>1960</th>\n",
       "      <td>2014-05-16</td>\n",
       "      <td>1.4633</td>\n",
       "      <td>1.9558</td>\n",
       "      <td>3.0353</td>\n",
       "      <td>1.4897</td>\n",
       "      <td>1.2210</td>\n",
       "      <td>8.5379</td>\n",
       "      <td>NaN</td>\n",
       "      <td>27.443</td>\n",
       "      <td>7.4646</td>\n",
       "      <td>...</td>\n",
       "      <td>4.4357</td>\n",
       "      <td>47.6920</td>\n",
       "      <td>9.0122</td>\n",
       "      <td>1.7136</td>\n",
       "      <td>NaN</td>\n",
       "      <td>NaN</td>\n",
       "      <td>44.5120</td>\n",
       "      <td>2.8755</td>\n",
       "      <td>1.3696</td>\n",
       "      <td>14.2219</td>\n",
       "    </tr>\n",
       "    <tr>\n",
       "      <th>3585</th>\n",
       "      <td>2008-02-06</td>\n",
       "      <td>1.6315</td>\n",
       "      <td>1.9558</td>\n",
       "      <td>2.5737</td>\n",
       "      <td>1.4705</td>\n",
       "      <td>1.6061</td>\n",
       "      <td>10.5037</td>\n",
       "      <td>NaN</td>\n",
       "      <td>25.635</td>\n",
       "      <td>7.4527</td>\n",
       "      <td>...</td>\n",
       "      <td>3.6610</td>\n",
       "      <td>36.0530</td>\n",
       "      <td>9.4288</td>\n",
       "      <td>2.0696</td>\n",
       "      <td>NaN</td>\n",
       "      <td>33.400</td>\n",
       "      <td>45.3030</td>\n",
       "      <td>1.7335</td>\n",
       "      <td>1.4621</td>\n",
       "      <td>11.1924</td>\n",
       "    </tr>\n",
       "    <tr>\n",
       "      <th>1689</th>\n",
       "      <td>2015-06-09</td>\n",
       "      <td>1.4606</td>\n",
       "      <td>1.9558</td>\n",
       "      <td>3.4925</td>\n",
       "      <td>1.3889</td>\n",
       "      <td>1.0465</td>\n",
       "      <td>6.9810</td>\n",
       "      <td>NaN</td>\n",
       "      <td>27.356</td>\n",
       "      <td>7.4603</td>\n",
       "      <td>...</td>\n",
       "      <td>4.4708</td>\n",
       "      <td>62.8285</td>\n",
       "      <td>9.3535</td>\n",
       "      <td>1.5196</td>\n",
       "      <td>NaN</td>\n",
       "      <td>NaN</td>\n",
       "      <td>37.9410</td>\n",
       "      <td>3.0758</td>\n",
       "      <td>1.1249</td>\n",
       "      <td>13.9876</td>\n",
       "    </tr>\n",
       "    <tr>\n",
       "      <th>952</th>\n",
       "      <td>2018-04-24</td>\n",
       "      <td>1.6038</td>\n",
       "      <td>1.9558</td>\n",
       "      <td>4.2085</td>\n",
       "      <td>1.5662</td>\n",
       "      <td>1.1944</td>\n",
       "      <td>7.7012</td>\n",
       "      <td>NaN</td>\n",
       "      <td>25.437</td>\n",
       "      <td>7.4478</td>\n",
       "      <td>...</td>\n",
       "      <td>4.6530</td>\n",
       "      <td>75.2566</td>\n",
       "      <td>10.3775</td>\n",
       "      <td>1.6154</td>\n",
       "      <td>NaN</td>\n",
       "      <td>NaN</td>\n",
       "      <td>38.4100</td>\n",
       "      <td>4.9985</td>\n",
       "      <td>1.2213</td>\n",
       "      <td>15.0663</td>\n",
       "    </tr>\n",
       "  </tbody>\n",
       "</table>\n",
       "<p>5 rows × 41 columns</p>\n",
       "</div>"
      ],
      "text/plain": [
       "     Period\\Unit: [Australian dollar ] [Bulgarian lev ] [Brazilian real ]  \\\n",
       "5948   1999-01-15               1.8388              NaN               NaN   \n",
       "1960   2014-05-16               1.4633           1.9558            3.0353   \n",
       "3585   2008-02-06               1.6315           1.9558            2.5737   \n",
       "1689   2015-06-09               1.4606           1.9558            3.4925   \n",
       "952    2018-04-24               1.6038           1.9558            4.2085   \n",
       "\n",
       "     [Canadian dollar ] [Swiss franc ] [Chinese yuan renminbi ]  \\\n",
       "5948             1.7797         1.5984                      NaN   \n",
       "1960             1.4897         1.2210                   8.5379   \n",
       "3585             1.4705         1.6061                  10.5037   \n",
       "1689             1.3889         1.0465                   6.9810   \n",
       "952              1.5662         1.1944                   7.7012   \n",
       "\n",
       "     [Cypriot pound ] [Czech koruna ] [Danish krone ]  ... [Romanian leu ]  \\\n",
       "5948          0.58187          35.860          7.4441  ...          1.3164   \n",
       "1960              NaN          27.443          7.4646  ...          4.4357   \n",
       "3585              NaN          25.635          7.4527  ...          3.6610   \n",
       "1689              NaN          27.356          7.4603  ...          4.4708   \n",
       "952               NaN          25.437          7.4478  ...          4.6530   \n",
       "\n",
       "     [Russian rouble ] [Swedish krona ] [Singapore dollar ]  \\\n",
       "5948           26.5662           9.1570              1.9570   \n",
       "1960           47.6920           9.0122              1.7136   \n",
       "3585           36.0530           9.4288              2.0696   \n",
       "1689           62.8285           9.3535              1.5196   \n",
       "952            75.2566          10.3775              1.6154   \n",
       "\n",
       "     [Slovenian tolar ] [Slovak koruna ] [Thai baht ] [Turkish lira ]  \\\n",
       "5948           187.1333           42.738      43.4042          0.3742   \n",
       "1960                NaN              NaN      44.5120          2.8755   \n",
       "3585                NaN           33.400      45.3030          1.7335   \n",
       "1689                NaN              NaN      37.9410          3.0758   \n",
       "952                 NaN              NaN      38.4100          4.9985   \n",
       "\n",
       "     [US dollar ]  [South African rand ]  \n",
       "5948       1.1626                 7.2197  \n",
       "1960       1.3696                14.2219  \n",
       "3585       1.4621                11.1924  \n",
       "1689       1.1249                13.9876  \n",
       "952        1.2213                15.0663  \n",
       "\n",
       "[5 rows x 41 columns]"
      ]
     },
     "execution_count": 14,
     "metadata": {},
     "output_type": "execute_result"
    }
   ],
   "source": [
    "df_cur = pd.read_csv(\"../input/euro-exchange-daily-rates-19992020/euro-daily-hist_1999_2022.csv\", parse_dates=[\"Period\\\\Unit:\"])\n",
    "df_cur.sample(5)"
   ]
  },
  {
   "cell_type": "code",
   "execution_count": 15,
   "id": "495e3761",
   "metadata": {
    "execution": {
     "iopub.execute_input": "2022-01-21T00:33:44.779718Z",
     "iopub.status.busy": "2022-01-21T00:33:44.778752Z",
     "iopub.status.idle": "2022-01-21T00:33:44.805212Z",
     "shell.execute_reply": "2022-01-21T00:33:44.805849Z",
     "shell.execute_reply.started": "2022-01-20T23:58:08.985877Z"
    },
    "papermill": {
     "duration": 0.117494,
     "end_time": "2022-01-21T00:33:44.806043",
     "exception": false,
     "start_time": "2022-01-21T00:33:44.688549",
     "status": "completed"
    },
    "tags": []
   },
   "outputs": [
    {
     "name": "stdout",
     "output_type": "stream",
     "text": [
      "<class 'pandas.core.frame.DataFrame'>\n",
      "DatetimeIndex: 5958 entries, 2022-01-10 to 1999-01-04\n",
      "Data columns (total 40 columns):\n",
      " #   Column                 Non-Null Count  Dtype  \n",
      "---  ------                 --------------  -----  \n",
      " 0   Australian dollar      5958 non-null   object \n",
      " 1   Bulgarian lev          5556 non-null   object \n",
      " 2   Brazilian real         5690 non-null   object \n",
      " 3   Canadian dollar        5958 non-null   object \n",
      " 4   Swiss franc            5958 non-null   object \n",
      " 5   Chinese yuan renminbi  5690 non-null   object \n",
      " 6   Cypriot pound          2346 non-null   object \n",
      " 7   Czech koruna           5958 non-null   object \n",
      " 8   Danish krone           5958 non-null   object \n",
      " 9   Estonian kroon         3130 non-null   object \n",
      " 10  UK pound sterling      5958 non-null   object \n",
      " 11  Greek drachma          520 non-null    object \n",
      " 12  Hong Kong dollar       5958 non-null   object \n",
      " 13  Croatian kuna          5690 non-null   object \n",
      " 14  Hungarian forint       5958 non-null   object \n",
      " 15  Indonesian rupiah      5958 non-null   object \n",
      " 16  Israeli shekel         5690 non-null   object \n",
      " 17  Indian rupee           5690 non-null   object \n",
      " 18  Iceland krona          3551 non-null   float64\n",
      " 19  Japanese yen           5958 non-null   object \n",
      " 20  Korean won             5958 non-null   object \n",
      " 21  Lithuanian litas       4159 non-null   object \n",
      " 22  Latvian lats           3904 non-null   object \n",
      " 23  Maltese lira           2346 non-null   object \n",
      " 24  Mexican peso           5958 non-null   object \n",
      " 25  Malaysian ringgit      5958 non-null   object \n",
      " 26  Norwegian krone        5958 non-null   object \n",
      " 27  New Zealand dollar     5958 non-null   object \n",
      " 28  Philippine peso        5958 non-null   object \n",
      " 29  Polish zloty           5958 non-null   object \n",
      " 30  Romanian leu           5896 non-null   float64\n",
      " 31  Russian rouble         5958 non-null   object \n",
      " 32  Swedish krona          5958 non-null   object \n",
      " 33  Singapore dollar       5958 non-null   object \n",
      " 34  Slovenian tolar        2085 non-null   object \n",
      " 35  Slovak koruna          2608 non-null   object \n",
      " 36  Thai baht              5958 non-null   object \n",
      " 37  Turkish lira           5896 non-null   float64\n",
      " 38  US dollar              5958 non-null   object \n",
      " 39  South African rand     5958 non-null   object \n",
      "dtypes: float64(3), object(37)\n",
      "memory usage: 1.9+ MB\n"
     ]
    }
   ],
   "source": [
    "names = str.maketrans('', '', '[]')\n",
    "df_cur.columns = df_cur.columns.str.translate(names)\n",
    "df_cur.columns = df_cur.columns.str.strip()\n",
    "df_cur.set_index('Period\\\\Unit:', inplace=True)\n",
    "df_cur.index.rename('DateSeries', inplace = True)\n",
    "df_cur.info()"
   ]
  },
  {
   "cell_type": "markdown",
   "id": "89f42da3",
   "metadata": {
    "papermill": {
     "duration": 0.071401,
     "end_time": "2022-01-21T00:33:44.951044",
     "exception": false,
     "start_time": "2022-01-21T00:33:44.879643",
     "status": "completed"
    },
    "tags": []
   },
   "source": [
    "### Dataframe:  \n",
    "* has 1 unique DatetimeIndex (column `DateSeries`) and 40 data columns of different currencies;\n",
    "* Not all of 40 data columns were converted straight to `float64` type. `Object` type indicates a column has text. It's most common to one-hot encode these \"object\" columns, since they can't be plugged directly into most models;\n",
    "* there is null data in some columns, for example Iceland krona, Greek Drachma etc.\n",
    "\n",
    "### 2. Convert columns data to numeric\n",
    "* convert all series to float64. Then invalid parsing will be set as NaN ('coerse' parameter)."
   ]
  },
  {
   "cell_type": "code",
   "execution_count": 16,
   "id": "d02a5394",
   "metadata": {
    "execution": {
     "iopub.execute_input": "2022-01-21T00:33:45.102256Z",
     "iopub.status.busy": "2022-01-21T00:33:45.101577Z",
     "iopub.status.idle": "2022-01-21T00:33:45.297732Z",
     "shell.execute_reply": "2022-01-21T00:33:45.298315Z",
     "shell.execute_reply.started": "2022-01-20T23:58:09.035421Z"
    },
    "papermill": {
     "duration": 0.275088,
     "end_time": "2022-01-21T00:33:45.298536",
     "exception": false,
     "start_time": "2022-01-21T00:33:45.023448",
     "status": "completed"
    },
    "tags": []
   },
   "outputs": [
    {
     "name": "stdout",
     "output_type": "stream",
     "text": [
      "<class 'pandas.core.frame.DataFrame'>\n",
      "DatetimeIndex: 5958 entries, 2022-01-10 to 1999-01-04\n",
      "Data columns (total 40 columns):\n",
      " #   Column                 Non-Null Count  Dtype  \n",
      "---  ------                 --------------  -----  \n",
      " 0   Australian dollar      5896 non-null   float64\n",
      " 1   Bulgarian lev          5498 non-null   float64\n",
      " 2   Brazilian real         5629 non-null   float64\n",
      " 3   Canadian dollar        5896 non-null   float64\n",
      " 4   Swiss franc            5896 non-null   float64\n",
      " 5   Chinese yuan renminbi  5629 non-null   float64\n",
      " 6   Cypriot pound          2304 non-null   float64\n",
      " 7   Czech koruna           5896 non-null   float64\n",
      " 8   Danish krone           5896 non-null   float64\n",
      " 9   Estonian kroon         3074 non-null   float64\n",
      " 10  UK pound sterling      5896 non-null   float64\n",
      " 11  Greek drachma          514 non-null    float64\n",
      " 12  Hong Kong dollar       5896 non-null   float64\n",
      " 13  Croatian kuna          5629 non-null   float64\n",
      " 14  Hungarian forint       5896 non-null   float64\n",
      " 15  Indonesian rupiah      5896 non-null   float64\n",
      " 16  Israeli shekel         5628 non-null   float64\n",
      " 17  Indian rupee           5629 non-null   float64\n",
      " 18  Iceland krona          3551 non-null   float64\n",
      " 19  Japanese yen           5896 non-null   float64\n",
      " 20  Korean won             5896 non-null   float64\n",
      " 21  Lithuanian litas       4097 non-null   float64\n",
      " 22  Latvian lats           3842 non-null   float64\n",
      " 23  Maltese lira           2304 non-null   float64\n",
      " 24  Mexican peso           5896 non-null   float64\n",
      " 25  Malaysian ringgit      5896 non-null   float64\n",
      " 26  Norwegian krone        5896 non-null   float64\n",
      " 27  New Zealand dollar     5896 non-null   float64\n",
      " 28  Philippine peso        5896 non-null   float64\n",
      " 29  Polish zloty           5896 non-null   float64\n",
      " 30  Romanian leu           5896 non-null   float64\n",
      " 31  Russian rouble         5896 non-null   float64\n",
      " 32  Swedish krona          5896 non-null   float64\n",
      " 33  Singapore dollar       5896 non-null   float64\n",
      " 34  Slovenian tolar        2049 non-null   float64\n",
      " 35  Slovak koruna          2560 non-null   float64\n",
      " 36  Thai baht              5896 non-null   float64\n",
      " 37  Turkish lira           5896 non-null   float64\n",
      " 38  US dollar              5896 non-null   float64\n",
      " 39  South African rand     5896 non-null   float64\n",
      "dtypes: float64(40)\n",
      "memory usage: 1.9 MB\n"
     ]
    }
   ],
   "source": [
    "cols = list(df_cur)\n",
    "df_cur[cols] = df_cur[cols].apply(pd.to_numeric, errors='coerce')\n",
    "df_cur.info()"
   ]
  },
  {
   "cell_type": "markdown",
   "id": "9603d47f",
   "metadata": {
    "papermill": {
     "duration": 0.074852,
     "end_time": "2022-01-21T00:33:45.446098",
     "exception": false,
     "start_time": "2022-01-21T00:33:45.371246",
     "status": "completed"
    },
    "tags": []
   },
   "source": [
    "### 2. Process NaN values\n",
    "\n",
    "* count NaN values in every column:"
   ]
  },
  {
   "cell_type": "code",
   "execution_count": 17,
   "id": "643f7b78",
   "metadata": {
    "execution": {
     "iopub.execute_input": "2022-01-21T00:33:45.604071Z",
     "iopub.status.busy": "2022-01-21T00:33:45.603098Z",
     "iopub.status.idle": "2022-01-21T00:33:45.616869Z",
     "shell.execute_reply": "2022-01-21T00:33:45.616173Z",
     "shell.execute_reply.started": "2022-01-20T23:58:09.237334Z"
    },
    "papermill": {
     "duration": 0.096431,
     "end_time": "2022-01-21T00:33:45.617016",
     "exception": false,
     "start_time": "2022-01-21T00:33:45.520585",
     "status": "completed"
    },
    "tags": []
   },
   "outputs": [
    {
     "data": {
      "text/plain": [
       "Australian dollar          62\n",
       "Bulgarian lev             460\n",
       "Brazilian real            329\n",
       "Canadian dollar            62\n",
       "Swiss franc                62\n",
       "Chinese yuan renminbi     329\n",
       "Cypriot pound            3654\n",
       "Czech koruna               62\n",
       "Danish krone               62\n",
       "Estonian kroon           2884\n",
       "UK pound sterling          62\n",
       "Greek drachma            5444\n",
       "Hong Kong dollar           62\n",
       "Croatian kuna             329\n",
       "Hungarian forint           62\n",
       "Indonesian rupiah          62\n",
       "Israeli shekel            330\n",
       "Indian rupee              329\n",
       "Iceland krona            2407\n",
       "Japanese yen               62\n",
       "Korean won                 62\n",
       "Lithuanian litas         1861\n",
       "Latvian lats             2116\n",
       "Maltese lira             3654\n",
       "Mexican peso               62\n",
       "Malaysian ringgit          62\n",
       "Norwegian krone            62\n",
       "New Zealand dollar         62\n",
       "Philippine peso            62\n",
       "Polish zloty               62\n",
       "Romanian leu               62\n",
       "Russian rouble             62\n",
       "Swedish krona              62\n",
       "Singapore dollar           62\n",
       "Slovenian tolar          3909\n",
       "Slovak koruna            3398\n",
       "Thai baht                  62\n",
       "Turkish lira               62\n",
       "US dollar                  62\n",
       "South African rand         62\n",
       "dtype: int64"
      ]
     },
     "execution_count": 17,
     "metadata": {},
     "output_type": "execute_result"
    }
   ],
   "source": [
    "df_cur.isnull().sum(axis = 0)"
   ]
  },
  {
   "cell_type": "markdown",
   "id": "58f71b83",
   "metadata": {
    "papermill": {
     "duration": 0.074344,
     "end_time": "2022-01-21T00:33:45.766946",
     "exception": false,
     "start_time": "2022-01-21T00:33:45.692602",
     "status": "completed"
    },
    "tags": []
   },
   "source": [
    "* find rows with only NaN values: print them by index (DateSeries) and delete these rows:"
   ]
  },
  {
   "cell_type": "code",
   "execution_count": 18,
   "id": "55c460a5",
   "metadata": {
    "execution": {
     "iopub.execute_input": "2022-01-21T00:33:45.925627Z",
     "iopub.status.busy": "2022-01-21T00:33:45.924841Z",
     "iopub.status.idle": "2022-01-21T00:33:45.933417Z",
     "shell.execute_reply": "2022-01-21T00:33:45.933924Z",
     "shell.execute_reply.started": "2022-01-20T23:58:09.253548Z"
    },
    "papermill": {
     "duration": 0.091369,
     "end_time": "2022-01-21T00:33:45.934114",
     "exception": false,
     "start_time": "2022-01-21T00:33:45.842745",
     "status": "completed"
    },
    "tags": []
   },
   "outputs": [
    {
     "name": "stdout",
     "output_type": "stream",
     "text": [
      "DatetimeIndex(['2012-05-01', '2012-04-09', '2012-04-06', '2011-12-26',\n",
      "               '2011-04-25', '2011-04-22', '2010-04-05', '2010-04-02',\n",
      "               '2010-01-01', '2009-12-25', '2009-05-01', '2009-04-13',\n",
      "               '2009-04-10', '2009-01-01', '2008-12-26', '2008-12-25',\n",
      "               '2008-05-01', '2008-03-24', '2008-03-21', '2008-01-01',\n",
      "               '2007-12-26', '2007-12-25', '2007-05-01', '2007-04-09',\n",
      "               '2007-04-06', '2007-01-01', '2006-12-26', '2006-12-25',\n",
      "               '2006-05-01', '2006-04-17', '2006-04-14', '2005-12-26',\n",
      "               '2005-03-28', '2005-03-25', '2004-04-12', '2004-04-09',\n",
      "               '2004-01-01', '2003-12-26', '2003-12-25', '2003-05-01',\n",
      "               '2003-04-21', '2003-04-18', '2003-01-01', '2002-12-26',\n",
      "               '2002-12-25', '2002-05-01', '2002-04-01', '2002-03-29',\n",
      "               '2002-01-01', '2001-12-31', '2001-12-26', '2001-12-25',\n",
      "               '2001-05-01', '2001-04-16', '2001-04-13', '2001-01-01',\n",
      "               '2000-12-26', '2000-12-25', '2000-05-01', '2000-04-24',\n",
      "               '2000-04-21', '1999-12-31'],\n",
      "              dtype='datetime64[ns]', name='DateSeries', freq=None)\n",
      "Number of NaN rows: 62\n"
     ]
    }
   ],
   "source": [
    "n = df_cur.index[df_cur.isnull().all(1)]\n",
    "print(n)\n",
    "print('Number of NaN rows: {}'.format(len(n)))"
   ]
  },
  {
   "cell_type": "code",
   "execution_count": 19,
   "id": "8e10ba00",
   "metadata": {
    "execution": {
     "iopub.execute_input": "2022-01-21T00:33:46.090463Z",
     "iopub.status.busy": "2022-01-21T00:33:46.089377Z",
     "iopub.status.idle": "2022-01-21T00:33:46.099635Z",
     "shell.execute_reply": "2022-01-21T00:33:46.099026Z",
     "shell.execute_reply.started": "2022-01-20T23:58:09.266493Z"
    },
    "papermill": {
     "duration": 0.089648,
     "end_time": "2022-01-21T00:33:46.099792",
     "exception": false,
     "start_time": "2022-01-21T00:33:46.010144",
     "status": "completed"
    },
    "tags": []
   },
   "outputs": [],
   "source": [
    "df_cur = df_cur.drop(n)"
   ]
  },
  {
   "cell_type": "markdown",
   "id": "dac3205e",
   "metadata": {
    "papermill": {
     "duration": 0.075314,
     "end_time": "2022-01-21T00:33:46.247273",
     "exception": false,
     "start_time": "2022-01-21T00:33:46.171959",
     "status": "completed"
    },
    "tags": []
   },
   "source": [
    "* U can replace currency which doesn't exist anymore by the last value it had before it was replaced by the Euro €: Cypriot pound (2007), Estonian kroon (2011), Greek drachma (2002), Lithuanian litas (2015), Latvian lats (2014), Maltese lira (2008), Slovenian tolar (2007), Slovak koruna (2009). For now this cell is commented.\n"
   ]
  },
  {
   "cell_type": "code",
   "execution_count": 20,
   "id": "83dac0ae",
   "metadata": {
    "execution": {
     "iopub.execute_input": "2022-01-21T00:33:46.403614Z",
     "iopub.status.busy": "2022-01-21T00:33:46.402893Z",
     "iopub.status.idle": "2022-01-21T00:33:46.404334Z",
     "shell.execute_reply": "2022-01-21T00:33:46.404875Z",
     "shell.execute_reply.started": "2022-01-20T23:58:09.278446Z"
    },
    "papermill": {
     "duration": 0.080534,
     "end_time": "2022-01-21T00:33:46.405051",
     "exception": false,
     "start_time": "2022-01-21T00:33:46.324517",
     "status": "completed"
    },
    "tags": []
   },
   "outputs": [],
   "source": [
    "#df_cur = df_cur.fillna(method='backfill')"
   ]
  },
  {
   "cell_type": "code",
   "execution_count": 21,
   "id": "aaff9284",
   "metadata": {
    "execution": {
     "iopub.execute_input": "2022-01-21T00:33:46.555794Z",
     "iopub.status.busy": "2022-01-21T00:33:46.555015Z",
     "iopub.status.idle": "2022-01-21T00:33:46.662558Z",
     "shell.execute_reply": "2022-01-21T00:33:46.663058Z",
     "shell.execute_reply.started": "2022-01-20T23:58:09.291948Z"
    },
    "papermill": {
     "duration": 0.184223,
     "end_time": "2022-01-21T00:33:46.663243",
     "exception": false,
     "start_time": "2022-01-21T00:33:46.479020",
     "status": "completed"
    },
    "tags": []
   },
   "outputs": [
    {
     "data": {
      "text/html": [
       "<div>\n",
       "<style scoped>\n",
       "    .dataframe tbody tr th:only-of-type {\n",
       "        vertical-align: middle;\n",
       "    }\n",
       "\n",
       "    .dataframe tbody tr th {\n",
       "        vertical-align: top;\n",
       "    }\n",
       "\n",
       "    .dataframe thead th {\n",
       "        text-align: right;\n",
       "    }\n",
       "</style>\n",
       "<table border=\"1\" class=\"dataframe\">\n",
       "  <thead>\n",
       "    <tr style=\"text-align: right;\">\n",
       "      <th></th>\n",
       "      <th>Australian dollar</th>\n",
       "      <th>Bulgarian lev</th>\n",
       "      <th>Brazilian real</th>\n",
       "      <th>Canadian dollar</th>\n",
       "      <th>Swiss franc</th>\n",
       "      <th>Chinese yuan renminbi</th>\n",
       "      <th>Cypriot pound</th>\n",
       "      <th>Czech koruna</th>\n",
       "      <th>Danish krone</th>\n",
       "      <th>Estonian kroon</th>\n",
       "      <th>...</th>\n",
       "      <th>Romanian leu</th>\n",
       "      <th>Russian rouble</th>\n",
       "      <th>Swedish krona</th>\n",
       "      <th>Singapore dollar</th>\n",
       "      <th>Slovenian tolar</th>\n",
       "      <th>Slovak koruna</th>\n",
       "      <th>Thai baht</th>\n",
       "      <th>Turkish lira</th>\n",
       "      <th>US dollar</th>\n",
       "      <th>South African rand</th>\n",
       "    </tr>\n",
       "  </thead>\n",
       "  <tbody>\n",
       "    <tr>\n",
       "      <th>count</th>\n",
       "      <td>5896.000000</td>\n",
       "      <td>5498.000000</td>\n",
       "      <td>5629.000000</td>\n",
       "      <td>5896.000000</td>\n",
       "      <td>5896.000000</td>\n",
       "      <td>5629.000000</td>\n",
       "      <td>2304.000000</td>\n",
       "      <td>5896.000000</td>\n",
       "      <td>5896.000000</td>\n",
       "      <td>3.074000e+03</td>\n",
       "      <td>...</td>\n",
       "      <td>5896.000000</td>\n",
       "      <td>5896.000000</td>\n",
       "      <td>5896.000000</td>\n",
       "      <td>5896.000000</td>\n",
       "      <td>2049.000000</td>\n",
       "      <td>2560.000000</td>\n",
       "      <td>5896.000000</td>\n",
       "      <td>5896.000000</td>\n",
       "      <td>5896.000000</td>\n",
       "      <td>5896.000000</td>\n",
       "    </tr>\n",
       "    <tr>\n",
       "      <th>mean</th>\n",
       "      <td>1.579404</td>\n",
       "      <td>1.954538</td>\n",
       "      <td>3.319873</td>\n",
       "      <td>1.469863</td>\n",
       "      <td>1.348151</td>\n",
       "      <td>8.560950</td>\n",
       "      <td>0.578354</td>\n",
       "      <td>28.299537</td>\n",
       "      <td>7.448393</td>\n",
       "      <td>1.564660e+01</td>\n",
       "      <td>...</td>\n",
       "      <td>3.914325</td>\n",
       "      <td>47.989682</td>\n",
       "      <td>9.431224</td>\n",
       "      <td>1.756232</td>\n",
       "      <td>224.630090</td>\n",
       "      <td>39.512409</td>\n",
       "      <td>41.877210</td>\n",
       "      <td>3.039845</td>\n",
       "      <td>1.198867</td>\n",
       "      <td>11.657293</td>\n",
       "    </tr>\n",
       "    <tr>\n",
       "      <th>std</th>\n",
       "      <td>0.152259</td>\n",
       "      <td>0.003024</td>\n",
       "      <td>1.160572</td>\n",
       "      <td>0.097613</td>\n",
       "      <td>0.209035</td>\n",
       "      <td>1.153093</td>\n",
       "      <td>0.004393</td>\n",
       "      <td>3.528093</td>\n",
       "      <td>0.011462</td>\n",
       "      <td>3.375627e-14</td>\n",
       "      <td>...</td>\n",
       "      <td>0.870561</td>\n",
       "      <td>19.420172</td>\n",
       "      <td>0.632512</td>\n",
       "      <td>0.211610</td>\n",
       "      <td>16.102436</td>\n",
       "      <td>4.154182</td>\n",
       "      <td>4.737736</td>\n",
       "      <td>2.485289</td>\n",
       "      <td>0.158882</td>\n",
       "      <td>3.686819</td>\n",
       "    </tr>\n",
       "    <tr>\n",
       "      <th>min</th>\n",
       "      <td>1.163900</td>\n",
       "      <td>1.944100</td>\n",
       "      <td>1.563000</td>\n",
       "      <td>1.213900</td>\n",
       "      <td>0.981600</td>\n",
       "      <td>6.555200</td>\n",
       "      <td>0.570970</td>\n",
       "      <td>22.968000</td>\n",
       "      <td>7.423400</td>\n",
       "      <td>1.564660e+01</td>\n",
       "      <td>...</td>\n",
       "      <td>1.291200</td>\n",
       "      <td>23.190300</td>\n",
       "      <td>8.055000</td>\n",
       "      <td>1.440000</td>\n",
       "      <td>187.133300</td>\n",
       "      <td>30.126000</td>\n",
       "      <td>33.204000</td>\n",
       "      <td>0.370100</td>\n",
       "      <td>0.825200</td>\n",
       "      <td>6.078500</td>\n",
       "    </tr>\n",
       "    <tr>\n",
       "      <th>25%</th>\n",
       "      <td>1.479900</td>\n",
       "      <td>1.955800</td>\n",
       "      <td>2.553400</td>\n",
       "      <td>1.402175</td>\n",
       "      <td>1.136375</td>\n",
       "      <td>7.674300</td>\n",
       "      <td>0.574580</td>\n",
       "      <td>25.653000</td>\n",
       "      <td>7.438800</td>\n",
       "      <td>1.564660e+01</td>\n",
       "      <td>...</td>\n",
       "      <td>3.526650</td>\n",
       "      <td>34.456000</td>\n",
       "      <td>9.052575</td>\n",
       "      <td>1.584475</td>\n",
       "      <td>213.493900</td>\n",
       "      <td>37.474500</td>\n",
       "      <td>38.313750</td>\n",
       "      <td>1.706575</td>\n",
       "      <td>1.102875</td>\n",
       "      <td>8.563475</td>\n",
       "    </tr>\n",
       "    <tr>\n",
       "      <th>50%</th>\n",
       "      <td>1.601300</td>\n",
       "      <td>1.955800</td>\n",
       "      <td>3.033100</td>\n",
       "      <td>1.469500</td>\n",
       "      <td>1.370150</td>\n",
       "      <td>8.157400</td>\n",
       "      <td>0.577800</td>\n",
       "      <td>27.035000</td>\n",
       "      <td>7.448300</td>\n",
       "      <td>1.564660e+01</td>\n",
       "      <td>...</td>\n",
       "      <td>4.240900</td>\n",
       "      <td>40.140250</td>\n",
       "      <td>9.272150</td>\n",
       "      <td>1.683400</td>\n",
       "      <td>230.305000</td>\n",
       "      <td>40.910000</td>\n",
       "      <td>40.609800</td>\n",
       "      <td>2.154650</td>\n",
       "      <td>1.197200</td>\n",
       "      <td>10.708300</td>\n",
       "    </tr>\n",
       "    <tr>\n",
       "      <th>75%</th>\n",
       "      <td>1.673300</td>\n",
       "      <td>1.955800</td>\n",
       "      <td>3.757300</td>\n",
       "      <td>1.542125</td>\n",
       "      <td>1.546800</td>\n",
       "      <td>9.601400</td>\n",
       "      <td>0.582000</td>\n",
       "      <td>30.390000</td>\n",
       "      <td>7.458600</td>\n",
       "      <td>1.564660e+01</td>\n",
       "      <td>...</td>\n",
       "      <td>4.508350</td>\n",
       "      <td>68.646425</td>\n",
       "      <td>9.764600</td>\n",
       "      <td>1.985300</td>\n",
       "      <td>239.510000</td>\n",
       "      <td>42.769750</td>\n",
       "      <td>45.660250</td>\n",
       "      <td>3.292875</td>\n",
       "      <td>1.315900</td>\n",
       "      <td>14.808000</td>\n",
       "    </tr>\n",
       "    <tr>\n",
       "      <th>max</th>\n",
       "      <td>2.073500</td>\n",
       "      <td>1.962000</td>\n",
       "      <td>6.955300</td>\n",
       "      <td>1.812300</td>\n",
       "      <td>1.680300</td>\n",
       "      <td>11.284000</td>\n",
       "      <td>0.588800</td>\n",
       "      <td>38.583000</td>\n",
       "      <td>7.473200</td>\n",
       "      <td>1.564660e+01</td>\n",
       "      <td>...</td>\n",
       "      <td>4.951000</td>\n",
       "      <td>93.745000</td>\n",
       "      <td>11.713500</td>\n",
       "      <td>2.232300</td>\n",
       "      <td>240.030000</td>\n",
       "      <td>47.484000</td>\n",
       "      <td>53.536000</td>\n",
       "      <td>20.043400</td>\n",
       "      <td>1.599000</td>\n",
       "      <td>20.845200</td>\n",
       "    </tr>\n",
       "  </tbody>\n",
       "</table>\n",
       "<p>8 rows × 40 columns</p>\n",
       "</div>"
      ],
      "text/plain": [
       "       Australian dollar  Bulgarian lev  Brazilian real  Canadian dollar  \\\n",
       "count        5896.000000    5498.000000     5629.000000      5896.000000   \n",
       "mean            1.579404       1.954538        3.319873         1.469863   \n",
       "std             0.152259       0.003024        1.160572         0.097613   \n",
       "min             1.163900       1.944100        1.563000         1.213900   \n",
       "25%             1.479900       1.955800        2.553400         1.402175   \n",
       "50%             1.601300       1.955800        3.033100         1.469500   \n",
       "75%             1.673300       1.955800        3.757300         1.542125   \n",
       "max             2.073500       1.962000        6.955300         1.812300   \n",
       "\n",
       "       Swiss franc  Chinese yuan renminbi  Cypriot pound  Czech koruna  \\\n",
       "count  5896.000000            5629.000000    2304.000000   5896.000000   \n",
       "mean      1.348151               8.560950       0.578354     28.299537   \n",
       "std       0.209035               1.153093       0.004393      3.528093   \n",
       "min       0.981600               6.555200       0.570970     22.968000   \n",
       "25%       1.136375               7.674300       0.574580     25.653000   \n",
       "50%       1.370150               8.157400       0.577800     27.035000   \n",
       "75%       1.546800               9.601400       0.582000     30.390000   \n",
       "max       1.680300              11.284000       0.588800     38.583000   \n",
       "\n",
       "       Danish krone  Estonian kroon  ...  Romanian leu  Russian rouble  \\\n",
       "count   5896.000000    3.074000e+03  ...   5896.000000     5896.000000   \n",
       "mean       7.448393    1.564660e+01  ...      3.914325       47.989682   \n",
       "std        0.011462    3.375627e-14  ...      0.870561       19.420172   \n",
       "min        7.423400    1.564660e+01  ...      1.291200       23.190300   \n",
       "25%        7.438800    1.564660e+01  ...      3.526650       34.456000   \n",
       "50%        7.448300    1.564660e+01  ...      4.240900       40.140250   \n",
       "75%        7.458600    1.564660e+01  ...      4.508350       68.646425   \n",
       "max        7.473200    1.564660e+01  ...      4.951000       93.745000   \n",
       "\n",
       "       Swedish krona  Singapore dollar  Slovenian tolar  Slovak koruna  \\\n",
       "count    5896.000000       5896.000000      2049.000000    2560.000000   \n",
       "mean        9.431224          1.756232       224.630090      39.512409   \n",
       "std         0.632512          0.211610        16.102436       4.154182   \n",
       "min         8.055000          1.440000       187.133300      30.126000   \n",
       "25%         9.052575          1.584475       213.493900      37.474500   \n",
       "50%         9.272150          1.683400       230.305000      40.910000   \n",
       "75%         9.764600          1.985300       239.510000      42.769750   \n",
       "max        11.713500          2.232300       240.030000      47.484000   \n",
       "\n",
       "         Thai baht  Turkish lira    US dollar  South African rand  \n",
       "count  5896.000000   5896.000000  5896.000000         5896.000000  \n",
       "mean     41.877210      3.039845     1.198867           11.657293  \n",
       "std       4.737736      2.485289     0.158882            3.686819  \n",
       "min      33.204000      0.370100     0.825200            6.078500  \n",
       "25%      38.313750      1.706575     1.102875            8.563475  \n",
       "50%      40.609800      2.154650     1.197200           10.708300  \n",
       "75%      45.660250      3.292875     1.315900           14.808000  \n",
       "max      53.536000     20.043400     1.599000           20.845200  \n",
       "\n",
       "[8 rows x 40 columns]"
      ]
     },
     "execution_count": 21,
     "metadata": {},
     "output_type": "execute_result"
    }
   ],
   "source": [
    "df_cur.describe(include='all')"
   ]
  },
  {
   "cell_type": "markdown",
   "id": "c6d37657",
   "metadata": {
    "papermill": {
     "duration": 0.072651,
     "end_time": "2022-01-21T00:33:46.809642",
     "exception": false,
     "start_time": "2022-01-21T00:33:46.736991",
     "status": "completed"
    },
    "tags": []
   },
   "source": [
    "# Melt data\n",
    "* Change the structure of dataframe:   \n",
    "     reset index and make 2 columns: one with all the currency types: `Currency name` and another with `Value` attribute."
   ]
  },
  {
   "cell_type": "code",
   "execution_count": 22,
   "id": "6fc5ef00",
   "metadata": {
    "execution": {
     "iopub.execute_input": "2022-01-21T00:33:46.962852Z",
     "iopub.status.busy": "2022-01-21T00:33:46.962174Z",
     "iopub.status.idle": "2022-01-21T00:33:46.988815Z",
     "shell.execute_reply": "2022-01-21T00:33:46.989393Z",
     "shell.execute_reply.started": "2022-01-20T23:58:09.406751Z"
    },
    "papermill": {
     "duration": 0.105839,
     "end_time": "2022-01-21T00:33:46.989573",
     "exception": false,
     "start_time": "2022-01-21T00:33:46.883734",
     "status": "completed"
    },
    "tags": []
   },
   "outputs": [
    {
     "data": {
      "text/html": [
       "<div>\n",
       "<style scoped>\n",
       "    .dataframe tbody tr th:only-of-type {\n",
       "        vertical-align: middle;\n",
       "    }\n",
       "\n",
       "    .dataframe tbody tr th {\n",
       "        vertical-align: top;\n",
       "    }\n",
       "\n",
       "    .dataframe thead th {\n",
       "        text-align: right;\n",
       "    }\n",
       "</style>\n",
       "<table border=\"1\" class=\"dataframe\">\n",
       "  <thead>\n",
       "    <tr style=\"text-align: right;\">\n",
       "      <th></th>\n",
       "      <th>DateSeries</th>\n",
       "      <th>Currency name</th>\n",
       "      <th>Value</th>\n",
       "    </tr>\n",
       "  </thead>\n",
       "  <tbody>\n",
       "    <tr>\n",
       "      <th>0</th>\n",
       "      <td>2022-01-10</td>\n",
       "      <td>Australian dollar</td>\n",
       "      <td>1.5774</td>\n",
       "    </tr>\n",
       "    <tr>\n",
       "      <th>1</th>\n",
       "      <td>2022-01-07</td>\n",
       "      <td>Australian dollar</td>\n",
       "      <td>1.5804</td>\n",
       "    </tr>\n",
       "    <tr>\n",
       "      <th>2</th>\n",
       "      <td>2022-01-06</td>\n",
       "      <td>Australian dollar</td>\n",
       "      <td>1.5778</td>\n",
       "    </tr>\n",
       "    <tr>\n",
       "      <th>3</th>\n",
       "      <td>2022-01-05</td>\n",
       "      <td>Australian dollar</td>\n",
       "      <td>1.5600</td>\n",
       "    </tr>\n",
       "    <tr>\n",
       "      <th>4</th>\n",
       "      <td>2022-01-04</td>\n",
       "      <td>Australian dollar</td>\n",
       "      <td>1.5682</td>\n",
       "    </tr>\n",
       "  </tbody>\n",
       "</table>\n",
       "</div>"
      ],
      "text/plain": [
       "  DateSeries      Currency name   Value\n",
       "0 2022-01-10  Australian dollar  1.5774\n",
       "1 2022-01-07  Australian dollar  1.5804\n",
       "2 2022-01-06  Australian dollar  1.5778\n",
       "3 2022-01-05  Australian dollar  1.5600\n",
       "4 2022-01-04  Australian dollar  1.5682"
      ]
     },
     "execution_count": 22,
     "metadata": {},
     "output_type": "execute_result"
    }
   ],
   "source": [
    "df_cur1 = df_cur.reset_index()\n",
    "df_melted=df_cur1.melt(id_vars=['DateSeries'], var_name='Currency name', value_name='Value')\n",
    "df_melted.head(5)"
   ]
  },
  {
   "cell_type": "markdown",
   "id": "c2ab29eb",
   "metadata": {
    "papermill": {
     "duration": 0.075778,
     "end_time": "2022-01-21T00:33:47.141867",
     "exception": false,
     "start_time": "2022-01-21T00:33:47.066089",
     "status": "completed"
    },
    "tags": []
   },
   "source": [
    "# Example: EUR/USD, EUR/GBP and EUR/PNL\n",
    "\n",
    "* Create new dataframe `dataUSDGBP` containig only values of US dollar and UK pound sterling amd get 5 sample rows;\n",
    "* Plot the graph including both currencies in rates of Euro."
   ]
  },
  {
   "cell_type": "code",
   "execution_count": 23,
   "id": "3e991c6f",
   "metadata": {
    "execution": {
     "iopub.execute_input": "2022-01-21T00:33:47.302218Z",
     "iopub.status.busy": "2022-01-21T00:33:47.301584Z",
     "iopub.status.idle": "2022-01-21T00:33:47.430070Z",
     "shell.execute_reply": "2022-01-21T00:33:47.429447Z",
     "shell.execute_reply.started": "2022-01-20T23:58:09.434205Z"
    },
    "papermill": {
     "duration": 0.210689,
     "end_time": "2022-01-21T00:33:47.430222",
     "exception": false,
     "start_time": "2022-01-21T00:33:47.219533",
     "status": "completed"
    },
    "tags": []
   },
   "outputs": [
    {
     "data": {
      "text/html": [
       "<div>\n",
       "<style scoped>\n",
       "    .dataframe tbody tr th:only-of-type {\n",
       "        vertical-align: middle;\n",
       "    }\n",
       "\n",
       "    .dataframe tbody tr th {\n",
       "        vertical-align: top;\n",
       "    }\n",
       "\n",
       "    .dataframe thead th {\n",
       "        text-align: right;\n",
       "    }\n",
       "</style>\n",
       "<table border=\"1\" class=\"dataframe\">\n",
       "  <thead>\n",
       "    <tr style=\"text-align: right;\">\n",
       "      <th></th>\n",
       "      <th>DateSeries</th>\n",
       "      <th>Currency name</th>\n",
       "      <th>Value</th>\n",
       "    </tr>\n",
       "  </thead>\n",
       "  <tbody>\n",
       "    <tr>\n",
       "      <th>171128</th>\n",
       "      <td>2021-06-22</td>\n",
       "      <td>Polish zloty</td>\n",
       "      <td>4.53280</td>\n",
       "    </tr>\n",
       "    <tr>\n",
       "      <th>64837</th>\n",
       "      <td>1999-01-28</td>\n",
       "      <td>UK pound sterling</td>\n",
       "      <td>0.69280</td>\n",
       "    </tr>\n",
       "    <tr>\n",
       "      <th>175710</th>\n",
       "      <td>2003-07-30</td>\n",
       "      <td>Polish zloty</td>\n",
       "      <td>4.37400</td>\n",
       "    </tr>\n",
       "    <tr>\n",
       "      <th>227987</th>\n",
       "      <td>2006-08-21</td>\n",
       "      <td>US dollar</td>\n",
       "      <td>1.29190</td>\n",
       "    </tr>\n",
       "    <tr>\n",
       "      <th>60392</th>\n",
       "      <td>2016-06-08</td>\n",
       "      <td>UK pound sterling</td>\n",
       "      <td>0.78048</td>\n",
       "    </tr>\n",
       "  </tbody>\n",
       "</table>\n",
       "</div>"
      ],
      "text/plain": [
       "       DateSeries      Currency name    Value\n",
       "171128 2021-06-22       Polish zloty  4.53280\n",
       "64837  1999-01-28  UK pound sterling  0.69280\n",
       "175710 2003-07-30       Polish zloty  4.37400\n",
       "227987 2006-08-21          US dollar  1.29190\n",
       "60392  2016-06-08  UK pound sterling  0.78048"
      ]
     },
     "execution_count": 23,
     "metadata": {},
     "output_type": "execute_result"
    }
   ],
   "source": [
    "dataUSDGBPPNL = df_melted.loc[(df_melted['Currency name'] == 'US dollar')| (df_melted['Currency name'] == 'Polish zloty')| (df_melted['Currency name'] == 'UK pound sterling')]\n",
    "dataUSDGBPPNL.sample(5)"
   ]
  },
  {
   "cell_type": "code",
   "execution_count": 24,
   "id": "00588170",
   "metadata": {
    "execution": {
     "iopub.execute_input": "2022-01-21T00:33:47.595158Z",
     "iopub.status.busy": "2022-01-21T00:33:47.594100Z",
     "iopub.status.idle": "2022-01-21T00:33:49.209174Z",
     "shell.execute_reply": "2022-01-21T00:33:49.208469Z",
     "shell.execute_reply.started": "2022-01-20T23:58:09.558808Z"
    },
    "papermill": {
     "duration": 1.695443,
     "end_time": "2022-01-21T00:33:49.209343",
     "exception": false,
     "start_time": "2022-01-21T00:33:47.513900",
     "status": "completed"
    },
    "tags": []
   },
   "outputs": [
    {
     "data": {
      "image/png": "[encoded data removed]",
      "text/plain": [
       "<Figure size 1080x576 with 1 Axes>"
      ]
     },
     "metadata": {},
     "output_type": "display_data"
    }
   ],
   "source": [
    "fig = plt.figure(figsize=(15,8))\n",
    "plt.grid(which='major', linewidth = 2)\n",
    "plt.minorticks_on()\n",
    "plt.grid(which='minor', linewidth = 0.5)\n",
    "sns.lineplot(x='DateSeries', y='Value', hue='Currency name', data = dataUSDGBPPNL)\n",
    "plt.legend(bbox_to_anchor=(1.05, 1), loc=2, borderaxespad=0.);"
   ]
  },
  {
   "cell_type": "markdown",
   "id": "e90efaf7",
   "metadata": {
    "papermill": {
     "duration": 0.080833,
     "end_time": "2022-01-21T00:33:49.373322",
     "exception": false,
     "start_time": "2022-01-21T00:33:49.292489",
     "status": "completed"
    },
    "tags": []
   },
   "source": [
    "From graph you can clearly see that 1 GBP was never less expensive than 1 EUR (but 1 USD was).\n",
    "\n",
    "### Find MAXIMUM and MINIMUM \n",
    "* Minimum and maximum for USD (US dollar) over years (sorting descending):"
   ]
  },
  {
   "cell_type": "code",
   "execution_count": 25,
   "id": "106be3d3",
   "metadata": {
    "execution": {
     "iopub.execute_input": "2022-01-21T00:33:49.534980Z",
     "iopub.status.busy": "2022-01-21T00:33:49.534271Z",
     "iopub.status.idle": "2022-01-21T00:33:49.552496Z",
     "shell.execute_reply": "2022-01-21T00:33:49.553144Z",
     "shell.execute_reply.started": "2022-01-20T23:58:11.156484Z"
    },
    "papermill": {
     "duration": 0.101358,
     "end_time": "2022-01-21T00:33:49.553343",
     "exception": false,
     "start_time": "2022-01-21T00:33:49.451985",
     "status": "completed"
    },
    "tags": []
   },
   "outputs": [
    {
     "name": "stdout",
     "output_type": "stream",
     "text": [
      "------USD: 5 largest values by dates------\n",
      "DateSeries\n",
      "2008-07-15    1.5990\n",
      "2008-04-23    1.5940\n",
      "2008-04-22    1.5931\n",
      "2008-04-16    1.5928\n",
      "2008-07-22    1.5919\n",
      "Name: Value, dtype: float64\n",
      "------USD: 5 smallest values by dates-----\n",
      "DateSeries\n",
      "2001-07-06    0.8384\n",
      "2000-10-23    0.8377\n",
      "2000-10-27    0.8324\n",
      "2000-10-25    0.8307\n",
      "2000-10-26    0.8252\n",
      "Name: Value, dtype: float64\n"
     ]
    }
   ],
   "source": [
    "dataUSD = dataUSDGBPPNL.loc[(dataUSDGBPPNL['Currency name'] == 'US dollar')]\n",
    "dataUSD.set_index('DateSeries', inplace=True)\n",
    "print('------USD: 5 largest values by dates------')\n",
    "print(dataUSD['Value'].nlargest().sort_values(ascending = False))\n",
    "print('------USD: 5 smallest values by dates-----')\n",
    "print(dataUSD['Value'].nsmallest().sort_values(ascending = False))"
   ]
  },
  {
   "cell_type": "code",
   "execution_count": 26,
   "id": "d04e1e44",
   "metadata": {
    "execution": {
     "iopub.execute_input": "2022-01-21T00:33:49.733447Z",
     "iopub.status.busy": "2022-01-21T00:33:49.732141Z",
     "iopub.status.idle": "2022-01-21T00:33:50.998360Z",
     "shell.execute_reply": "2022-01-21T00:33:50.997788Z",
     "shell.execute_reply.started": "2022-01-20T23:58:11.177922Z"
    },
    "papermill": {
     "duration": 1.363361,
     "end_time": "2022-01-21T00:33:50.998529",
     "exception": false,
     "start_time": "2022-01-21T00:33:49.635168",
     "status": "completed"
    },
    "tags": []
   },
   "outputs": [
    {
     "data": {
      "image/png": "[encoded data removed]",
      "text/plain": [
       "<Figure size 1080x576 with 1 Axes>"
      ]
     },
     "metadata": {},
     "output_type": "display_data"
    }
   ],
   "source": [
    "fig = plt.figure(figsize=(15,8))\n",
    "\n",
    "plt.grid(which='major', linewidth = 2)\n",
    "plt.minorticks_on()\n",
    "plt.grid(which='minor', linewidth = 0.5)\n",
    "sns.lineplot(x='DateSeries', y='Value', hue='Currency name', data = dataUSD)\n",
    "plt.legend(bbox_to_anchor=(1.05, 1), loc=2, borderaxespad=0.);"
   ]
  },
  {
   "cell_type": "markdown",
   "id": "20ba8b9b",
   "metadata": {
    "papermill": {
     "duration": 0.082329,
     "end_time": "2022-01-21T00:33:51.165657",
     "exception": false,
     "start_time": "2022-01-21T00:33:51.083328",
     "status": "completed"
    },
    "tags": []
   },
   "source": [
    "* Minimum and maximum for GBP (UK pound sterling) over years (sorting descending):"
   ]
  },
  {
   "cell_type": "code",
   "execution_count": 27,
   "id": "a1704f22",
   "metadata": {
    "execution": {
     "iopub.execute_input": "2022-01-21T00:33:51.334242Z",
     "iopub.status.busy": "2022-01-21T00:33:51.333521Z",
     "iopub.status.idle": "2022-01-21T00:33:51.349139Z",
     "shell.execute_reply": "2022-01-21T00:33:51.349754Z",
     "shell.execute_reply.started": "2022-01-20T23:58:12.459862Z"
    },
    "papermill": {
     "duration": 0.102683,
     "end_time": "2022-01-21T00:33:51.349963",
     "exception": false,
     "start_time": "2022-01-21T00:33:51.247280",
     "status": "completed"
    },
    "tags": []
   },
   "outputs": [
    {
     "name": "stdout",
     "output_type": "stream",
     "text": [
      "------GBP: 5 largest values by dates------\n",
      "DateSeries\n",
      "2008-12-29    0.97855\n",
      "2008-12-30    0.97420\n",
      "2009-01-02    0.96100\n",
      "2008-12-31    0.95250\n",
      "2008-12-18    0.95090\n",
      "Name: Value, dtype: float64\n",
      "------GBP: 5 smallest values by dates-----\n",
      "DateSeries\n",
      "2000-04-28    0.5794\n",
      "2000-10-25    0.5771\n",
      "2000-10-24    0.5770\n",
      "2000-10-23    0.5760\n",
      "2000-05-03    0.5711\n",
      "Name: Value, dtype: float64\n"
     ]
    }
   ],
   "source": [
    "dataGBP = dataUSDGBPPNL.loc[(dataUSDGBPPNL['Currency name'] == 'UK pound sterling')]\n",
    "dataGBP.set_index('DateSeries', inplace=True)\n",
    "print('------GBP: 5 largest values by dates------')\n",
    "print(dataGBP['Value'].nlargest().sort_values(ascending = False))\n",
    "print('------GBP: 5 smallest values by dates-----')\n",
    "print(dataGBP['Value'].nsmallest().sort_values(ascending = False))"
   ]
  },
  {
   "cell_type": "code",
   "execution_count": 28,
   "id": "b3d51b24",
   "metadata": {
    "execution": {
     "iopub.execute_input": "2022-01-21T00:33:51.524541Z",
     "iopub.status.busy": "2022-01-21T00:33:51.523842Z",
     "iopub.status.idle": "2022-01-21T00:33:52.905145Z",
     "shell.execute_reply": "2022-01-21T00:33:52.903837Z",
     "shell.execute_reply.started": "2022-01-20T23:58:12.483168Z"
    },
    "papermill": {
     "duration": 1.474783,
     "end_time": "2022-01-21T00:33:52.905333",
     "exception": false,
     "start_time": "2022-01-21T00:33:51.430550",
     "status": "completed"
    },
    "tags": []
   },
   "outputs": [
    {
     "data": {
      "image/png": "[encoded data removed]",
      "text/plain": [
       "<Figure size 1080x576 with 1 Axes>"
      ]
     },
     "metadata": {},
     "output_type": "display_data"
    }
   ],
   "source": [
    "fig = plt.figure(figsize=(15,8))\n",
    "\n",
    "plt.grid(which='major', linewidth = 2)\n",
    "plt.minorticks_on()\n",
    "plt.grid(which='minor', linewidth = 0.5)\n",
    "sns.lineplot(x='DateSeries', y='Value', hue='Currency name', data = dataGBP)\n",
    "plt.legend(bbox_to_anchor=(1.05, 1), loc=2, borderaxespad=0.);"
   ]
  },
  {
   "cell_type": "markdown",
   "id": "391e444f",
   "metadata": {
    "papermill": {
     "duration": 0.083838,
     "end_time": "2022-01-21T00:33:53.074259",
     "exception": false,
     "start_time": "2022-01-21T00:33:52.990421",
     "status": "completed"
    },
    "tags": []
   },
   "source": [
    "* Minimum and maximum for PNL (Polish Zloty) over years (sorting descending):"
   ]
  },
  {
   "cell_type": "code",
   "execution_count": 29,
   "id": "15e052bf",
   "metadata": {
    "execution": {
     "iopub.execute_input": "2022-01-21T00:33:53.246840Z",
     "iopub.status.busy": "2022-01-21T00:33:53.245762Z",
     "iopub.status.idle": "2022-01-21T00:33:53.260282Z",
     "shell.execute_reply": "2022-01-21T00:33:53.261089Z",
     "shell.execute_reply.started": "2022-01-20T23:58:13.752331Z"
    },
    "papermill": {
     "duration": 0.10331,
     "end_time": "2022-01-21T00:33:53.261333",
     "exception": false,
     "start_time": "2022-01-21T00:33:53.158023",
     "status": "completed"
    },
    "tags": []
   },
   "outputs": [
    {
     "name": "stdout",
     "output_type": "stream",
     "text": [
      "------PNL: 5 largest values by dates------\n",
      "DateSeries\n",
      "2004-02-20    4.9346\n",
      "2004-02-19    4.8986\n",
      "2004-03-01    4.8944\n",
      "2004-02-18    4.8899\n",
      "2004-02-23    4.8854\n",
      "Name: Value, dtype: float64\n",
      "------PNL: 5 smallest values by dates-----\n",
      "DateSeries\n",
      "2008-08-04    3.2131\n",
      "2008-07-25    3.2080\n",
      "2008-07-29    3.2067\n",
      "2008-07-31    3.2063\n",
      "2008-07-28    3.2053\n",
      "Name: Value, dtype: float64\n"
     ]
    }
   ],
   "source": [
    "dataPNL = dataUSDGBPPNL.loc[(dataUSDGBPPNL['Currency name'] == 'Polish zloty')]\n",
    "dataPNL.set_index('DateSeries', inplace=True)\n",
    "print('------PNL: 5 largest values by dates------')\n",
    "print(dataPNL['Value'].nlargest().sort_values(ascending = False))\n",
    "print('------PNL: 5 smallest values by dates-----')\n",
    "print(dataPNL['Value'].nsmallest().sort_values(ascending = False))"
   ]
  },
  {
   "cell_type": "code",
   "execution_count": 30,
   "id": "16c68098",
   "metadata": {
    "execution": {
     "iopub.execute_input": "2022-01-21T00:33:53.437670Z",
     "iopub.status.busy": "2022-01-21T00:33:53.436965Z",
     "iopub.status.idle": "2022-01-21T00:33:54.680337Z",
     "shell.execute_reply": "2022-01-21T00:33:54.680868Z",
     "shell.execute_reply.started": "2022-01-20T23:58:13.770429Z"
    },
    "papermill": {
     "duration": 1.328498,
     "end_time": "2022-01-21T00:33:54.681044",
     "exception": false,
     "start_time": "2022-01-21T00:33:53.352546",
     "status": "completed"
    },
    "tags": []
   },
   "outputs": [
    {
     "data": {
      "image/png": "[encoded data removed]",
      "text/plain": [
       "<Figure size 1080x576 with 1 Axes>"
      ]
     },
     "metadata": {},
     "output_type": "display_data"
    }
   ],
   "source": [
    "fig = plt.figure(figsize=(15,8))\n",
    "\n",
    "plt.grid(which='major', linewidth = 2)\n",
    "plt.minorticks_on()\n",
    "plt.grid(which='minor', linewidth = 0.5)\n",
    "sns.lineplot(x='DateSeries', y='Value', hue='Currency name', data = dataPNL)\n",
    "plt.legend(bbox_to_anchor=(1.05, 1), loc=2, borderaxespad=0.);"
   ]
  },
  {
   "cell_type": "markdown",
   "id": "59f0c345",
   "metadata": {
    "papermill": {
     "duration": 0.08736,
     "end_time": "2022-01-21T00:33:54.856829",
     "exception": false,
     "start_time": "2022-01-21T00:33:54.769469",
     "status": "completed"
    },
    "tags": []
   },
   "source": [
    "Inspired by the notebook STARTER: EURO currency 1999-2022 + USD and GBP ex by DARIA CHEMKAEVA - https://www.kaggle.com/lsind18/starter-euro-currency-1999-2022-usd-and-gbp-ex"
   ]
  },
  {
   "cell_type": "markdown",
   "id": "560aa1ee",
   "metadata": {
    "papermill": {
     "duration": 0.083721,
     "end_time": "2022-01-21T00:33:55.025687",
     "exception": false,
     "start_time": "2022-01-21T00:33:54.941966",
     "status": "completed"
    },
    "tags": []
   },
   "source": [
    "---\n",
    "# Trend Analysis on Euro and Polish Zloty \n",
    "Now we'll generate a line plot to visualize the evolution of the euro-PNL exchange rate trends"
   ]
  },
  {
   "cell_type": "code",
   "execution_count": 31,
   "id": "d0a0f7a4",
   "metadata": {
    "execution": {
     "iopub.execute_input": "2022-01-21T00:33:55.210200Z",
     "iopub.status.busy": "2022-01-21T00:33:55.209325Z",
     "iopub.status.idle": "2022-01-21T00:33:55.212980Z",
     "shell.execute_reply": "2022-01-21T00:33:55.212496Z",
     "shell.execute_reply.started": "2022-01-21T00:03:22.129262Z"
    },
    "papermill": {
     "duration": 0.101619,
     "end_time": "2022-01-21T00:33:55.213135",
     "exception": false,
     "start_time": "2022-01-21T00:33:55.111516",
     "status": "completed"
    },
    "tags": []
   },
   "outputs": [
    {
     "data": {
      "text/html": [
       "<div>\n",
       "<style scoped>\n",
       "    .dataframe tbody tr th:only-of-type {\n",
       "        vertical-align: middle;\n",
       "    }\n",
       "\n",
       "    .dataframe tbody tr th {\n",
       "        vertical-align: top;\n",
       "    }\n",
       "\n",
       "    .dataframe thead th {\n",
       "        text-align: right;\n",
       "    }\n",
       "</style>\n",
       "<table border=\"1\" class=\"dataframe\">\n",
       "  <thead>\n",
       "    <tr style=\"text-align: right;\">\n",
       "      <th></th>\n",
       "      <th>time</th>\n",
       "      <th>PNL</th>\n",
       "    </tr>\n",
       "  </thead>\n",
       "  <tbody>\n",
       "    <tr>\n",
       "      <th>0</th>\n",
       "      <td>1999-01-04</td>\n",
       "      <td>4.0712</td>\n",
       "    </tr>\n",
       "    <tr>\n",
       "      <th>1</th>\n",
       "      <td>1999-01-05</td>\n",
       "      <td>4.0245</td>\n",
       "    </tr>\n",
       "    <tr>\n",
       "      <th>2</th>\n",
       "      <td>1999-01-06</td>\n",
       "      <td>4.0065</td>\n",
       "    </tr>\n",
       "    <tr>\n",
       "      <th>3</th>\n",
       "      <td>1999-01-07</td>\n",
       "      <td>4.0165</td>\n",
       "    </tr>\n",
       "    <tr>\n",
       "      <th>4</th>\n",
       "      <td>1999-01-08</td>\n",
       "      <td>4.0363</td>\n",
       "    </tr>\n",
       "    <tr>\n",
       "      <th>...</th>\n",
       "      <td>...</td>\n",
       "      <td>...</td>\n",
       "    </tr>\n",
       "    <tr>\n",
       "      <th>5953</th>\n",
       "      <td>2022-01-04</td>\n",
       "      <td>4.5667</td>\n",
       "    </tr>\n",
       "    <tr>\n",
       "      <th>5954</th>\n",
       "      <td>2022-01-05</td>\n",
       "      <td>4.5666</td>\n",
       "    </tr>\n",
       "    <tr>\n",
       "      <th>5955</th>\n",
       "      <td>2022-01-06</td>\n",
       "      <td>4.5614</td>\n",
       "    </tr>\n",
       "    <tr>\n",
       "      <th>5956</th>\n",
       "      <td>2022-01-07</td>\n",
       "      <td>4.5496</td>\n",
       "    </tr>\n",
       "    <tr>\n",
       "      <th>5957</th>\n",
       "      <td>2022-01-10</td>\n",
       "      <td>4.5334</td>\n",
       "    </tr>\n",
       "  </tbody>\n",
       "</table>\n",
       "<p>5896 rows × 2 columns</p>\n",
       "</div>"
      ],
      "text/plain": [
       "           time     PNL\n",
       "0    1999-01-04  4.0712\n",
       "1    1999-01-05  4.0245\n",
       "2    1999-01-06  4.0065\n",
       "3    1999-01-07  4.0165\n",
       "4    1999-01-08  4.0363\n",
       "...         ...     ...\n",
       "5953 2022-01-04  4.5667\n",
       "5954 2022-01-05  4.5666\n",
       "5955 2022-01-06  4.5614\n",
       "5956 2022-01-07  4.5496\n",
       "5957 2022-01-10  4.5334\n",
       "\n",
       "[5896 rows x 2 columns]"
      ]
     },
     "execution_count": 31,
     "metadata": {},
     "output_type": "execute_result"
    }
   ],
   "source": [
    "PNL_df"
   ]
  },
  {
   "cell_type": "code",
   "execution_count": 32,
   "id": "e1e94b98",
   "metadata": {
    "execution": {
     "iopub.execute_input": "2022-01-21T00:33:55.393269Z",
     "iopub.status.busy": "2022-01-21T00:33:55.392601Z",
     "iopub.status.idle": "2022-01-21T00:33:55.748718Z",
     "shell.execute_reply": "2022-01-21T00:33:55.749229Z",
     "shell.execute_reply.started": "2022-01-21T00:03:30.013461Z"
    },
    "papermill": {
     "duration": 0.449804,
     "end_time": "2022-01-21T00:33:55.749425",
     "exception": false,
     "start_time": "2022-01-21T00:33:55.299621",
     "status": "completed"
    },
    "tags": []
   },
   "outputs": [
    {
     "data": {
      "text/plain": [
       "<AxesSubplot:>"
      ]
     },
     "execution_count": 32,
     "metadata": {},
     "output_type": "execute_result"
    },
    {
     "data": {
      "image/png": "[encoded data removed]",
      "text/plain": [
       "<Figure size 864x360 with 1 Axes>"
      ]
     },
     "metadata": {},
     "output_type": "display_data"
    }
   ],
   "source": [
    "from statsmodels.tsa.filters.hp_filter import hpfilter\n",
    "price_cycle, price_trend = hpfilter(PNL_df['PNL'], lamb = 129600)\n",
    "PNL_df['trend'] = price_trend\n",
    "PNL_df[['trend', 'PNL']].plot(figsize=(12,5))"
   ]
  },
  {
   "cell_type": "markdown",
   "id": "d3929cf2",
   "metadata": {
    "papermill": {
     "duration": 0.090039,
     "end_time": "2022-01-21T00:33:55.925892",
     "exception": false,
     "start_time": "2022-01-21T00:33:55.835853",
     "status": "completed"
    },
    "tags": []
   },
   "source": [
    "The resulting figure has many wiggles representing the daily variation of the exchange rate. However, we are only interested in long term variation so next we are going to apply rolling mean with rolling window of 30 days showing variation of exchange rate every 30 days."
   ]
  },
  {
   "cell_type": "code",
   "execution_count": 33,
   "id": "6c99d16a",
   "metadata": {
    "execution": {
     "iopub.execute_input": "2022-01-21T00:33:56.113180Z",
     "iopub.status.busy": "2022-01-21T00:33:56.112132Z",
     "iopub.status.idle": "2022-01-21T00:33:56.127427Z",
     "shell.execute_reply": "2022-01-21T00:33:56.128012Z",
     "shell.execute_reply.started": "2022-01-20T23:58:15.139130Z"
    },
    "papermill": {
     "duration": 0.11026,
     "end_time": "2022-01-21T00:33:56.128202",
     "exception": false,
     "start_time": "2022-01-21T00:33:56.017942",
     "status": "completed"
    },
    "tags": []
   },
   "outputs": [
    {
     "data": {
      "text/html": [
       "<div>\n",
       "<style scoped>\n",
       "    .dataframe tbody tr th:only-of-type {\n",
       "        vertical-align: middle;\n",
       "    }\n",
       "\n",
       "    .dataframe tbody tr th {\n",
       "        vertical-align: top;\n",
       "    }\n",
       "\n",
       "    .dataframe thead th {\n",
       "        text-align: right;\n",
       "    }\n",
       "</style>\n",
       "<table border=\"1\" class=\"dataframe\">\n",
       "  <thead>\n",
       "    <tr style=\"text-align: right;\">\n",
       "      <th></th>\n",
       "      <th>time</th>\n",
       "      <th>PNL</th>\n",
       "      <th>trend</th>\n",
       "      <th>rolling_mean_30</th>\n",
       "    </tr>\n",
       "  </thead>\n",
       "  <tbody>\n",
       "    <tr>\n",
       "      <th>5953</th>\n",
       "      <td>2022-01-04</td>\n",
       "      <td>4.5667</td>\n",
       "      <td>4.606949</td>\n",
       "      <td>4.622953</td>\n",
       "    </tr>\n",
       "    <tr>\n",
       "      <th>5954</th>\n",
       "      <td>2022-01-05</td>\n",
       "      <td>4.5666</td>\n",
       "      <td>4.606062</td>\n",
       "      <td>4.619167</td>\n",
       "    </tr>\n",
       "    <tr>\n",
       "      <th>5955</th>\n",
       "      <td>2022-01-06</td>\n",
       "      <td>4.5614</td>\n",
       "      <td>4.605172</td>\n",
       "      <td>4.615677</td>\n",
       "    </tr>\n",
       "    <tr>\n",
       "      <th>5956</th>\n",
       "      <td>2022-01-07</td>\n",
       "      <td>4.5496</td>\n",
       "      <td>4.604280</td>\n",
       "      <td>4.610273</td>\n",
       "    </tr>\n",
       "    <tr>\n",
       "      <th>5957</th>\n",
       "      <td>2022-01-10</td>\n",
       "      <td>4.5334</td>\n",
       "      <td>4.603388</td>\n",
       "      <td>4.604847</td>\n",
       "    </tr>\n",
       "  </tbody>\n",
       "</table>\n",
       "</div>"
      ],
      "text/plain": [
       "           time     PNL     trend  rolling_mean_30\n",
       "5953 2022-01-04  4.5667  4.606949         4.622953\n",
       "5954 2022-01-05  4.5666  4.606062         4.619167\n",
       "5955 2022-01-06  4.5614  4.605172         4.615677\n",
       "5956 2022-01-07  4.5496  4.604280         4.610273\n",
       "5957 2022-01-10  4.5334  4.603388         4.604847"
      ]
     },
     "execution_count": 33,
     "metadata": {},
     "output_type": "execute_result"
    }
   ],
   "source": [
    "PNL_df['rolling_mean_30'] = PNL_df.PNL.rolling(30).mean()\n",
    "\n",
    "# Test\n",
    "PNL_df.tail()"
   ]
  },
  {
   "cell_type": "code",
   "execution_count": 34,
   "id": "c7aff2cd",
   "metadata": {
    "execution": {
     "iopub.execute_input": "2022-01-21T00:33:56.330161Z",
     "iopub.status.busy": "2022-01-21T00:33:56.329127Z",
     "iopub.status.idle": "2022-01-21T00:33:56.737846Z",
     "shell.execute_reply": "2022-01-21T00:33:56.737109Z",
     "shell.execute_reply.started": "2022-01-20T23:58:15.141583Z"
    },
    "papermill": {
     "duration": 0.520366,
     "end_time": "2022-01-21T00:33:56.738013",
     "exception": false,
     "start_time": "2022-01-21T00:33:56.217647",
     "status": "completed"
    },
    "tags": []
   },
   "outputs": [
    {
     "data": {
      "text/plain": [
       "[<matplotlib.lines.Line2D at 0x7f4ff06a6390>]"
      ]
     },
     "execution_count": 34,
     "metadata": {},
     "output_type": "execute_result"
    },
    {
     "data": {
      "image/png": "[encoded data removed]",
      "text/plain": [
       "<Figure size 432x288 with 1 Axes>"
      ]
     },
     "metadata": {},
     "output_type": "display_data"
    }
   ],
   "source": [
    "# Replot vs rolling mean\n",
    "fig, ax = plt.subplots()\n",
    "ax.plot(PNL_df.time, PNL_df.rolling_mean_30)"
   ]
  },
  {
   "cell_type": "markdown",
   "id": "c7accf4d",
   "metadata": {
    "papermill": {
     "duration": 0.091442,
     "end_time": "2022-01-21T00:33:56.920269",
     "exception": false,
     "start_time": "2022-01-21T00:33:56.828827",
     "status": "completed"
    },
    "tags": []
   },
   "source": [
    "# Producing our story"
   ]
  },
  {
   "cell_type": "code",
   "execution_count": 35,
   "id": "e4565e81",
   "metadata": {
    "execution": {
     "iopub.execute_input": "2022-01-21T00:33:57.108580Z",
     "iopub.status.busy": "2022-01-21T00:33:57.107769Z",
     "iopub.status.idle": "2022-01-21T00:33:59.761460Z",
     "shell.execute_reply": "2022-01-21T00:33:59.761987Z",
     "shell.execute_reply.started": "2022-01-20T23:58:15.143835Z"
    },
    "papermill": {
     "duration": 2.749379,
     "end_time": "2022-01-21T00:33:59.762161",
     "exception": false,
     "start_time": "2022-01-21T00:33:57.012782",
     "status": "completed"
    },
    "tags": []
   },
   "outputs": [
    {
     "data": {
      "image/png": "[encoded data removed]",
      "text/plain": [
       "<Figure size 576x1728 with 7 Axes>"
      ]
     },
     "metadata": {},
     "output_type": "display_data"
    }
   ],
   "source": [
    "# Generating figure\n",
    "fig , axs = plt.subplots(7,1,figsize=(8,24))\n",
    "\n",
    "# Initializing our figures parameters\n",
    "starts=[0, 782, 2455, 2807, 3935, 4175, 5440]\n",
    "ends =[782, 2455, 2600, 2940, 4175, 5440, -1]\n",
    "wys = [1.53, 1.48, 1.53, 1.53, 1.48, 1.48, 1.48]\n",
    "texts = ['Euro Introduction', 'Transition From Legacy\\n   Currencies to Euro', 'Global Financial Crisis',\n",
    "       'Greek Crisis', '   Euro Plunging\\nVS Mighty Dollar', 'Quantitative Easing\\n          Policy',\n",
    "       'Coronavirus\\n  Pandemic']\n",
    "sizes=[10, 8, 10, 10, 8, 8, 8]\n",
    "\n",
    "# looping over figures\n",
    "for start, end, wy, text, size, ax in zip(starts, ends, wys, texts, sizes, axs):\n",
    "    # Background figure\n",
    "    ax.plot(PNL_df.time, PNL_df.rolling_mean_30, color='#b00b1e', alpha=0.25)\n",
    "    ax.axhline(y=1, color='#898989', alpha=0.2, xmax=0.97)\n",
    "    ax.spines['right'].set_visible(False)\n",
    "    ax.spines['top'].set_visible(False)\n",
    "    ax.tick_params(left=False)\n",
    "    \n",
    "    # Foreground figure\n",
    "    ax.plot(PNL_df.time[start:end], PNL_df.rolling_mean_30[start:end], color='#b00b1e')\n",
    "    ax.text(x=datetime.strptime('1999', '%Y'), y=wy, s=text, size=size,\n",
    "             bbox=dict(facecolor='none', edgecolor='black', boxstyle='round,pad=0.2'))\n",
    "    \n",
    "# Title & subtitle\n",
    "axs[0].text(x=datetime.strptime('1998', '%Y'), y=1.8, s='Euro more valuable than Zloty:', weight='bold', size=18)\n",
    "axs[0].text(x=datetime.strptime('1998', '%Y'), y=1.71, s='History of the Euro currency', size=15)\n",
    "\n",
    "# Signature\n",
    "axs[6].text(x=datetime.strptime('1997', '%Y'), y=0.59, s='©Jair Ribeiro'+' '*90+'Source:jairribeiro.medium.com',\n",
    "            backgroundcolor='#000000', color='#ffffff');"
   ]
  },
  {
   "cell_type": "markdown",
   "id": "09847064",
   "metadata": {
    "papermill": {
     "duration": 0.096774,
     "end_time": "2022-01-21T00:33:59.956038",
     "exception": false,
     "start_time": "2022-01-21T00:33:59.859264",
     "status": "completed"
    },
    "tags": []
   },
   "source": [
    "The figure above is too long and might be annoying for some readers, Next we are going to generate an animated GIF that summarizes all of the above figures."
   ]
  },
  {
   "cell_type": "code",
   "execution_count": 36,
   "id": "6f1e6a26",
   "metadata": {
    "execution": {
     "iopub.execute_input": "2022-01-21T00:34:00.149985Z",
     "iopub.status.busy": "2022-01-21T00:34:00.149229Z",
     "iopub.status.idle": "2022-01-21T00:34:11.402088Z",
     "shell.execute_reply": "2022-01-21T00:34:11.401506Z",
     "shell.execute_reply.started": "2022-01-20T23:58:15.145956Z"
    },
    "papermill": {
     "duration": 11.350569,
     "end_time": "2022-01-21T00:34:11.402253",
     "exception": false,
     "start_time": "2022-01-21T00:34:00.051684",
     "status": "completed"
    },
    "tags": []
   },
   "outputs": [
    {
     "data": {
      "text/html": [
       "<img src=\"euro_hist.gif\"/>"
      ],
      "text/plain": [
       "<IPython.core.display.Image object>"
      ]
     },
     "execution_count": 36,
     "metadata": {},
     "output_type": "execute_result"
    },
    {
     "data": {
      "text/plain": [
       "<Figure size 1008x576 with 0 Axes>"
      ]
     },
     "metadata": {},
     "output_type": "display_data"
    }
   ],
   "source": [
    "# Initialize plot and animation camera\n",
    "fig1, (ax1, ax2) = plt.subplots(1,2, figsize=(14,8))\n",
    "camera = Camera(fig1)\n",
    "\n",
    "# Looping over figures as above\n",
    "for start, end, wy, text, size in zip(starts, ends, wys, texts, sizes):\n",
    "    for i in range(0,5):\n",
    "        # Main still figure\n",
    "        ax1.plot(PNL_df.time, PNL_df.rolling_mean_30, color='#b00b1e')\n",
    "        ax1.axhline(y=1, color='#898989', alpha=0.4, xmax=0.97)\n",
    "        #ax1.text(x=datetime.strptime('2007', '%Y'), y=1.02, s='Euro stronger ↑', color='#898989')\n",
    "        #ax1.text(x=datetime.strptime('2007', '%Y'), y=0.96, s='Zloty stronger ↓', color='#898989')\n",
    "        ax1.spines['right'].set_visible(False)\n",
    "        ax1.spines['top'].set_visible(False)\n",
    "        ax1.tick_params(left=False)\n",
    "        ax1.set_ylabel('Eur / PNL')\n",
    "    \n",
    "        ax2.plot(PNL_df.time, PNL_df.rolling_mean_30, color='#b00b1e', alpha=0.25)\n",
    "        ax2.axhline(y=1, color='#898989', alpha=0.2, xmax=0.97)\n",
    "        ax2.spines['right'].set_visible(False)\n",
    "        ax2.spines['top'].set_visible(False)\n",
    "        ax2.tick_params(left=False)\n",
    "        \n",
    "        # Title\n",
    "        ax1.text(x=datetime.strptime('1998', '%Y'), y=1.65, s='History of the Euro currency', size=15)\n",
    "        \n",
    "        # Signature\n",
    "        axs[6].text(x=datetime.strptime('1997', '%Y'), y=0.59, s='©Jair Ribeiro'+' '*90+'Source:jairribeiro.medium.com',\n",
    "            backgroundcolor='#000000', color='#ffffff');\n",
    "\n",
    "        # Dynamic figure\n",
    "        ax2.plot(PNL_df.time[start:end], PNL_df.rolling_mean_30[start:end], color='#b00b1e')\n",
    "        ax2.text(x=datetime.strptime('1999', '%Y'), y=wy, s=text, size=size, bbox=dict(facecolor='none', \n",
    "                                                                                        edgecolor='black', \n",
    "                                                                                        boxstyle='round,pad=0.2'))\n",
    "        camera.snap()\n",
    "    \n",
    "# Compile & save animation\n",
    "animation = camera.animate()\n",
    "animation.save('euro_hist.gif')\n",
    "\n",
    "# Clear figure\n",
    "plt.clf()\n",
    "\n",
    "# Display saved GIF\n",
    "Image(url='euro_hist.gif')"
   ]
  },
  {
   "cell_type": "markdown",
   "id": "14cdb219",
   "metadata": {
    "papermill": {
     "duration": 0.093975,
     "end_time": "2022-01-21T00:34:11.595245",
     "exception": false,
     "start_time": "2022-01-21T00:34:11.501270",
     "status": "completed"
    },
    "tags": []
   },
   "source": [
    "# Visualizing the variations of Euro-PNL Currency During the Pandemic"
   ]
  },
  {
   "cell_type": "markdown",
   "id": "150eb77b",
   "metadata": {
    "papermill": {
     "duration": 0.098512,
     "end_time": "2022-01-21T00:34:11.791015",
     "exception": false,
     "start_time": "2022-01-21T00:34:11.692503",
     "status": "completed"
    },
    "tags": []
   },
   "source": [
    "Inspired by the code by HUSSAIN ALI NAQVI: https://www.kaggle.com/hussainalinaqvi/visualizing-euro-usd-currency-during-the-pandemic"
   ]
  },
  {
   "cell_type": "code",
   "execution_count": 37,
   "id": "b7239d32",
   "metadata": {
    "execution": {
     "iopub.execute_input": "2022-01-21T00:34:11.992819Z",
     "iopub.status.busy": "2022-01-21T00:34:11.992136Z",
     "iopub.status.idle": "2022-01-21T00:34:12.015682Z",
     "shell.execute_reply": "2022-01-21T00:34:12.016173Z",
     "shell.execute_reply.started": "2022-01-20T23:58:15.147350Z"
    },
    "papermill": {
     "duration": 0.126348,
     "end_time": "2022-01-21T00:34:12.016386",
     "exception": false,
     "start_time": "2022-01-21T00:34:11.890038",
     "status": "completed"
    },
    "tags": []
   },
   "outputs": [
    {
     "data": {
      "text/html": [
       "<div>\n",
       "<style scoped>\n",
       "    .dataframe tbody tr th:only-of-type {\n",
       "        vertical-align: middle;\n",
       "    }\n",
       "\n",
       "    .dataframe tbody tr th {\n",
       "        vertical-align: top;\n",
       "    }\n",
       "\n",
       "    .dataframe thead th {\n",
       "        text-align: right;\n",
       "    }\n",
       "</style>\n",
       "<table border=\"1\" class=\"dataframe\">\n",
       "  <thead>\n",
       "    <tr style=\"text-align: right;\">\n",
       "      <th></th>\n",
       "      <th>time</th>\n",
       "      <th>PNL</th>\n",
       "      <th>trend</th>\n",
       "      <th>rolling_mean_30</th>\n",
       "    </tr>\n",
       "  </thead>\n",
       "  <tbody>\n",
       "    <tr>\n",
       "      <th>0</th>\n",
       "      <td>1999-01-04</td>\n",
       "      <td>4.0712</td>\n",
       "      <td>4.089802</td>\n",
       "      <td>NaN</td>\n",
       "    </tr>\n",
       "    <tr>\n",
       "      <th>1</th>\n",
       "      <td>1999-01-05</td>\n",
       "      <td>4.0245</td>\n",
       "      <td>4.094993</td>\n",
       "      <td>NaN</td>\n",
       "    </tr>\n",
       "    <tr>\n",
       "      <th>2</th>\n",
       "      <td>1999-01-06</td>\n",
       "      <td>4.0065</td>\n",
       "      <td>4.100184</td>\n",
       "      <td>NaN</td>\n",
       "    </tr>\n",
       "    <tr>\n",
       "      <th>3</th>\n",
       "      <td>1999-01-07</td>\n",
       "      <td>4.0165</td>\n",
       "      <td>4.105374</td>\n",
       "      <td>NaN</td>\n",
       "    </tr>\n",
       "    <tr>\n",
       "      <th>4</th>\n",
       "      <td>1999-01-08</td>\n",
       "      <td>4.0363</td>\n",
       "      <td>4.110561</td>\n",
       "      <td>NaN</td>\n",
       "    </tr>\n",
       "  </tbody>\n",
       "</table>\n",
       "</div>"
      ],
      "text/plain": [
       "        time     PNL     trend  rolling_mean_30\n",
       "0 1999-01-04  4.0712  4.089802              NaN\n",
       "1 1999-01-05  4.0245  4.094993              NaN\n",
       "2 1999-01-06  4.0065  4.100184              NaN\n",
       "3 1999-01-07  4.0165  4.105374              NaN\n",
       "4 1999-01-08  4.0363  4.110561              NaN"
      ]
     },
     "execution_count": 37,
     "metadata": {},
     "output_type": "execute_result"
    }
   ],
   "source": [
    "exchange_rates = PNL_df\n",
    "\n",
    "exchange_rates['time'] = pd.to_datetime(exchange_rates['time'])\n",
    "exchange_rates.sort_values('time', inplace=True)\n",
    "exchange_rates.reset_index(drop=True, inplace=True)\n",
    "exchange_rates.head()"
   ]
  },
  {
   "cell_type": "code",
   "execution_count": 38,
   "id": "cb690acf",
   "metadata": {
    "execution": {
     "iopub.execute_input": "2022-01-21T00:34:12.216918Z",
     "iopub.status.busy": "2022-01-21T00:34:12.216210Z",
     "iopub.status.idle": "2022-01-21T00:34:12.219885Z",
     "shell.execute_reply": "2022-01-21T00:34:12.220516Z",
     "shell.execute_reply.started": "2022-01-20T23:58:15.148552Z"
    },
    "papermill": {
     "duration": 0.107863,
     "end_time": "2022-01-21T00:34:12.220727",
     "exception": false,
     "start_time": "2022-01-21T00:34:12.112864",
     "status": "completed"
    },
    "tags": []
   },
   "outputs": [],
   "source": [
    "#lets calculate the MEAN"
   ]
  },
  {
   "cell_type": "code",
   "execution_count": 39,
   "id": "56301bc2",
   "metadata": {
    "execution": {
     "iopub.execute_input": "2022-01-21T00:34:12.422717Z",
     "iopub.status.busy": "2022-01-21T00:34:12.421665Z",
     "iopub.status.idle": "2022-01-21T00:34:12.436956Z",
     "shell.execute_reply": "2022-01-21T00:34:12.438104Z",
     "shell.execute_reply.started": "2022-01-20T23:58:15.150150Z"
    },
    "papermill": {
     "duration": 0.121756,
     "end_time": "2022-01-21T00:34:12.438403",
     "exception": false,
     "start_time": "2022-01-21T00:34:12.316647",
     "status": "completed"
    },
    "tags": []
   },
   "outputs": [
    {
     "name": "stdout",
     "output_type": "stream",
     "text": [
      "<class 'pandas.core.frame.DataFrame'>\n",
      "Int64Index: 5896 entries, 0 to 5895\n",
      "Data columns (total 4 columns):\n",
      " #   Column           Non-Null Count  Dtype         \n",
      "---  ------           --------------  -----         \n",
      " 0   time             5896 non-null   datetime64[ns]\n",
      " 1   PNL              5896 non-null   float64       \n",
      " 2   trend            5896 non-null   float64       \n",
      " 3   rolling_mean_30  5867 non-null   float64       \n",
      "dtypes: datetime64[ns](1), float64(3)\n",
      "memory usage: 230.3 KB\n"
     ]
    }
   ],
   "source": [
    "euro_to_pnl = PNL_df[PNL_df['PNL'] != '-']\n",
    "euro_to_pnl['PNL'] = euro_to_pnl['PNL'].astype(float)\n",
    "euro_to_pnl.info()"
   ]
  },
  {
   "cell_type": "code",
   "execution_count": 40,
   "id": "18200aff",
   "metadata": {
    "execution": {
     "iopub.execute_input": "2022-01-21T00:34:12.646602Z",
     "iopub.status.busy": "2022-01-21T00:34:12.645528Z",
     "iopub.status.idle": "2022-01-21T00:34:12.665472Z",
     "shell.execute_reply": "2022-01-21T00:34:12.666052Z",
     "shell.execute_reply.started": "2022-01-20T23:58:15.151602Z"
    },
    "papermill": {
     "duration": 0.125531,
     "end_time": "2022-01-21T00:34:12.666239",
     "exception": false,
     "start_time": "2022-01-21T00:34:12.540708",
     "status": "completed"
    },
    "tags": []
   },
   "outputs": [
    {
     "data": {
      "text/html": [
       "<div>\n",
       "<style scoped>\n",
       "    .dataframe tbody tr th:only-of-type {\n",
       "        vertical-align: middle;\n",
       "    }\n",
       "\n",
       "    .dataframe tbody tr th {\n",
       "        vertical-align: top;\n",
       "    }\n",
       "\n",
       "    .dataframe thead th {\n",
       "        text-align: right;\n",
       "    }\n",
       "</style>\n",
       "<table border=\"1\" class=\"dataframe\">\n",
       "  <thead>\n",
       "    <tr style=\"text-align: right;\">\n",
       "      <th></th>\n",
       "      <th>time</th>\n",
       "      <th>PNL</th>\n",
       "      <th>trend</th>\n",
       "      <th>rolling_mean_30</th>\n",
       "      <th>rolling_mean</th>\n",
       "    </tr>\n",
       "  </thead>\n",
       "  <tbody>\n",
       "    <tr>\n",
       "      <th>0</th>\n",
       "      <td>1999-01-04</td>\n",
       "      <td>4.0712</td>\n",
       "      <td>4.089802</td>\n",
       "      <td>NaN</td>\n",
       "      <td>NaN</td>\n",
       "    </tr>\n",
       "    <tr>\n",
       "      <th>1</th>\n",
       "      <td>1999-01-05</td>\n",
       "      <td>4.0245</td>\n",
       "      <td>4.094993</td>\n",
       "      <td>NaN</td>\n",
       "      <td>NaN</td>\n",
       "    </tr>\n",
       "    <tr>\n",
       "      <th>2</th>\n",
       "      <td>1999-01-06</td>\n",
       "      <td>4.0065</td>\n",
       "      <td>4.100184</td>\n",
       "      <td>NaN</td>\n",
       "      <td>NaN</td>\n",
       "    </tr>\n",
       "    <tr>\n",
       "      <th>3</th>\n",
       "      <td>1999-01-07</td>\n",
       "      <td>4.0165</td>\n",
       "      <td>4.105374</td>\n",
       "      <td>NaN</td>\n",
       "      <td>NaN</td>\n",
       "    </tr>\n",
       "    <tr>\n",
       "      <th>4</th>\n",
       "      <td>1999-01-08</td>\n",
       "      <td>4.0363</td>\n",
       "      <td>4.110561</td>\n",
       "      <td>NaN</td>\n",
       "      <td>NaN</td>\n",
       "    </tr>\n",
       "    <tr>\n",
       "      <th>...</th>\n",
       "      <td>...</td>\n",
       "      <td>...</td>\n",
       "      <td>...</td>\n",
       "      <td>...</td>\n",
       "      <td>...</td>\n",
       "    </tr>\n",
       "    <tr>\n",
       "      <th>5891</th>\n",
       "      <td>2022-01-04</td>\n",
       "      <td>4.5667</td>\n",
       "      <td>4.606949</td>\n",
       "      <td>4.622953</td>\n",
       "      <td>4.622953</td>\n",
       "    </tr>\n",
       "    <tr>\n",
       "      <th>5892</th>\n",
       "      <td>2022-01-05</td>\n",
       "      <td>4.5666</td>\n",
       "      <td>4.606062</td>\n",
       "      <td>4.619167</td>\n",
       "      <td>4.619167</td>\n",
       "    </tr>\n",
       "    <tr>\n",
       "      <th>5893</th>\n",
       "      <td>2022-01-06</td>\n",
       "      <td>4.5614</td>\n",
       "      <td>4.605172</td>\n",
       "      <td>4.615677</td>\n",
       "      <td>4.615677</td>\n",
       "    </tr>\n",
       "    <tr>\n",
       "      <th>5894</th>\n",
       "      <td>2022-01-07</td>\n",
       "      <td>4.5496</td>\n",
       "      <td>4.604280</td>\n",
       "      <td>4.610273</td>\n",
       "      <td>4.610273</td>\n",
       "    </tr>\n",
       "    <tr>\n",
       "      <th>5895</th>\n",
       "      <td>2022-01-10</td>\n",
       "      <td>4.5334</td>\n",
       "      <td>4.603388</td>\n",
       "      <td>4.604847</td>\n",
       "      <td>4.604847</td>\n",
       "    </tr>\n",
       "  </tbody>\n",
       "</table>\n",
       "<p>5896 rows × 5 columns</p>\n",
       "</div>"
      ],
      "text/plain": [
       "           time     PNL     trend  rolling_mean_30  rolling_mean\n",
       "0    1999-01-04  4.0712  4.089802              NaN           NaN\n",
       "1    1999-01-05  4.0245  4.094993              NaN           NaN\n",
       "2    1999-01-06  4.0065  4.100184              NaN           NaN\n",
       "3    1999-01-07  4.0165  4.105374              NaN           NaN\n",
       "4    1999-01-08  4.0363  4.110561              NaN           NaN\n",
       "...         ...     ...       ...              ...           ...\n",
       "5891 2022-01-04  4.5667  4.606949         4.622953      4.622953\n",
       "5892 2022-01-05  4.5666  4.606062         4.619167      4.619167\n",
       "5893 2022-01-06  4.5614  4.605172         4.615677      4.615677\n",
       "5894 2022-01-07  4.5496  4.604280         4.610273      4.610273\n",
       "5895 2022-01-10  4.5334  4.603388         4.604847      4.604847\n",
       "\n",
       "[5896 rows x 5 columns]"
      ]
     },
     "execution_count": 40,
     "metadata": {},
     "output_type": "execute_result"
    }
   ],
   "source": [
    "euro_to_pnl['rolling_mean'] = euro_to_pnl['PNL'].rolling(30).mean()\n",
    "euro_to_pnl"
   ]
  },
  {
   "cell_type": "markdown",
   "id": "6552717c",
   "metadata": {
    "papermill": {
     "duration": 0.098811,
     "end_time": "2022-01-21T00:34:12.861759",
     "exception": false,
     "start_time": "2022-01-21T00:34:12.762948",
     "status": "completed"
    },
    "tags": []
   },
   "source": [
    "Let's compare how the value of the dollar changed during the COVID-19 pandemic.\n",
    "\n"
   ]
  },
  {
   "cell_type": "code",
   "execution_count": 41,
   "id": "59816636",
   "metadata": {
    "execution": {
     "iopub.execute_input": "2022-01-21T00:34:13.063083Z",
     "iopub.status.busy": "2022-01-21T00:34:13.062040Z",
     "iopub.status.idle": "2022-01-21T00:34:13.551514Z",
     "shell.execute_reply": "2022-01-21T00:34:13.552032Z",
     "shell.execute_reply.started": "2022-01-20T23:58:15.153184Z"
    },
    "papermill": {
     "duration": 0.590854,
     "end_time": "2022-01-21T00:34:13.552211",
     "exception": false,
     "start_time": "2022-01-21T00:34:12.961357",
     "status": "completed"
    },
    "tags": []
   },
   "outputs": [
    {
     "data": {
      "image/png": "[encoded data removed]",
      "text/plain": [
       "<Figure size 720x720 with 1 Axes>"
      ]
     },
     "metadata": {},
     "output_type": "display_data"
    }
   ],
   "source": [
    "import matplotlib.pyplot as plt\n",
    "import matplotlib.style as style\n",
    "%matplotlib inline\n",
    "\n",
    "style.use('fivethirtyeight')\n",
    "pandemic=euro_to_pnl.copy()[euro_to_pnl['time'].dt.year>=2020]\n",
    "\n",
    "fig,ax=plt.subplots(figsize=(10,10))\n",
    "ax.plot(euro_to_pnl['time'],euro_to_pnl['rolling_mean'],color='#ADD8E6')\n",
    "ax.plot(pandemic['time'],pandemic['rolling_mean'],color='#EE4B2B')\n",
    "ax.set_xlabel('Year')\n",
    "ax.set_ylabel('Rolling Mean of the Euro to the Polish Zloty')\n",
    "ax.set_title('Evaluating the Reaction of the Euro to the Polish Zloty Since the Pandemic (2020)')\n",
    "\n",
    "plt.show()"
   ]
  },
  {
   "cell_type": "markdown",
   "id": "8f4bf523",
   "metadata": {
    "papermill": {
     "duration": 0.100407,
     "end_time": "2022-01-21T00:34:13.756225",
     "exception": false,
     "start_time": "2022-01-21T00:34:13.655818",
     "status": "completed"
    },
    "tags": []
   },
   "source": [
    "# EUR/PNL Exchange Prediction"
   ]
  },
  {
   "cell_type": "code",
   "execution_count": 42,
   "id": "b735efd2",
   "metadata": {
    "execution": {
     "iopub.execute_input": "2022-01-21T00:34:13.962263Z",
     "iopub.status.busy": "2022-01-21T00:34:13.961218Z",
     "iopub.status.idle": "2022-01-21T00:35:18.427443Z",
     "shell.execute_reply": "2022-01-21T00:35:18.427989Z",
     "shell.execute_reply.started": "2022-01-20T23:58:15.155083Z"
    },
    "papermill": {
     "duration": 64.572744,
     "end_time": "2022-01-21T00:35:18.428190",
     "exception": false,
     "start_time": "2022-01-21T00:34:13.855446",
     "status": "completed"
    },
    "tags": []
   },
   "outputs": [
    {
     "name": "stdout",
     "output_type": "stream",
     "text": [
      "Collecting pycaret-ts-alpha\r\n",
      "  Downloading pycaret_ts_alpha-3.0.0.dev1638407153-py3-none-any.whl (488 kB)\r\n",
      "     |████████████████████████████████| 488 kB 285 kB/s            \r\n",
      "\u001b[?25hRequirement already satisfied: IPython in /opt/conda/lib/python3.7/site-packages (from pycaret-ts-alpha) (7.30.0)\r\n",
      "Requirement already satisfied: ipywidgets in /opt/conda/lib/python3.7/site-packages (from pycaret-ts-alpha) (7.6.5)\r\n",
      "Collecting pyyaml<6.0.0\r\n",
      "  Downloading PyYAML-5.4.1-cp37-cp37m-manylinux1_x86_64.whl (636 kB)\r\n",
      "     |████████████████████████████████| 636 kB 5.8 MB/s            \r\n",
      "\u001b[?25hRequirement already satisfied: lightgbm>=2.3.1 in /opt/conda/lib/python3.7/site-packages (from pycaret-ts-alpha) (3.3.1)\r\n",
      "Requirement already satisfied: numpy==1.19.5 in /opt/conda/lib/python3.7/site-packages (from pycaret-ts-alpha) (1.19.5)\r\n",
      "Requirement already satisfied: Boruta in /opt/conda/lib/python3.7/site-packages (from pycaret-ts-alpha) (0.3)\r\n",
      "Requirement already satisfied: plotly>=5.0.0 in /opt/conda/lib/python3.7/site-packages (from pycaret-ts-alpha) (5.5.0)\r\n",
      "Collecting imbalanced-learn==0.7.0\r\n",
      "  Downloading imbalanced_learn-0.7.0-py3-none-any.whl (167 kB)\r\n",
      "     |████████████████████████████████| 167 kB 14.0 MB/s            \r\n",
      "\u001b[?25hCollecting pyod\r\n",
      "  Downloading pyod-0.9.7.tar.gz (114 kB)\r\n",
      "     |████████████████████████████████| 114 kB 13.8 MB/s            \r\n",
      "\u001b[?25h  Preparing metadata (setup.py) ... \u001b[?25l-\b \bdone\r\n",
      "\u001b[?25hRequirement already satisfied: yellowbrick>=1.0.1 in /opt/conda/lib/python3.7/site-packages (from pycaret-ts-alpha) (1.3.post1)\r\n",
      "Requirement already satisfied: cufflinks>=0.17.0 in /opt/conda/lib/python3.7/site-packages (from pycaret-ts-alpha) (0.17.3)\r\n",
      "Requirement already satisfied: statsmodels~=0.12.1 in /opt/conda/lib/python3.7/site-packages (from pycaret-ts-alpha) (0.12.2)\r\n",
      "Requirement already satisfied: pyLDAvis in /opt/conda/lib/python3.7/site-packages (from pycaret-ts-alpha) (3.2.2)\r\n",
      "Requirement already satisfied: kmodes>=0.10.1 in /opt/conda/lib/python3.7/site-packages (from pycaret-ts-alpha) (0.11.1)\r\n",
      "Requirement already satisfied: seaborn in /opt/conda/lib/python3.7/site-packages (from pycaret-ts-alpha) (0.11.2)\r\n",
      "Requirement already satisfied: wordcloud in /opt/conda/lib/python3.7/site-packages (from pycaret-ts-alpha) (1.8.1)\r\n",
      "Requirement already satisfied: matplotlib in /opt/conda/lib/python3.7/site-packages (from pycaret-ts-alpha) (3.5.1)\r\n",
      "Collecting scikit-learn~=0.24.2\r\n",
      "  Downloading scikit_learn-0.24.2-cp37-cp37m-manylinux2010_x86_64.whl (22.3 MB)\r\n",
      "     |████████████████████████████████| 22.3 MB 1.5 MB/s             \r\n",
      "\u001b[?25hRequirement already satisfied: nltk in /opt/conda/lib/python3.7/site-packages (from pycaret-ts-alpha) (3.2.4)\r\n",
      "Collecting gensim<4.0.0\r\n",
      "  Downloading gensim-3.8.3-cp37-cp37m-manylinux1_x86_64.whl (24.2 MB)\r\n",
      "     |████████████████████████████████| 24.2 MB 785 kB/s             \r\n",
      "\u001b[?25hRequirement already satisfied: pandas-profiling>=2.8.0 in /opt/conda/lib/python3.7/site-packages (from pycaret-ts-alpha) (3.0.0)\r\n",
      "Requirement already satisfied: umap-learn in /opt/conda/lib/python3.7/site-packages (from pycaret-ts-alpha) (0.5.2)\r\n",
      "Collecting sktime>=0.8.0\r\n",
      "  Downloading sktime-0.9.0-cp37-cp37m-manylinux_2_17_x86_64.manylinux2014_x86_64.whl (6.2 MB)\r\n",
      "     |████████████████████████████████| 6.2 MB 38.3 MB/s            \r\n",
      "\u001b[?25hRequirement already satisfied: pandas in /opt/conda/lib/python3.7/site-packages (from pycaret-ts-alpha) (1.3.4)\r\n",
      "Collecting tbats>=1.1.0\r\n",
      "  Downloading tbats-1.1.0-py3-none-any.whl (43 kB)\r\n",
      "     |████████████████████████████████| 43 kB 1.2 MB/s             \r\n",
      "\u001b[?25hCollecting mlflow\r\n",
      "  Downloading mlflow-1.23.0-py3-none-any.whl (15.6 MB)\r\n",
      "     |████████████████████████████████| 15.6 MB 56.0 MB/s            \r\n",
      "\u001b[?25hRequirement already satisfied: scikit-plot in /opt/conda/lib/python3.7/site-packages (from pycaret-ts-alpha) (0.3.7)\r\n",
      "Collecting spacy<2.4.0\r\n",
      "  Downloading spacy-2.3.7-cp37-cp37m-manylinux_2_17_x86_64.manylinux2014_x86_64.whl (10.4 MB)\r\n",
      "     |████████████████████████████████| 10.4 MB 34.7 MB/s            \r\n",
      "\u001b[?25hRequirement already satisfied: textblob in /opt/conda/lib/python3.7/site-packages (from pycaret-ts-alpha) (0.17.1)\r\n",
      "Requirement already satisfied: mlxtend>=0.17.0 in /opt/conda/lib/python3.7/site-packages (from pycaret-ts-alpha) (0.19.0)\r\n",
      "Collecting scipy<=1.5.4\r\n",
      "  Downloading scipy-1.5.4-cp37-cp37m-manylinux1_x86_64.whl (25.9 MB)\r\n",
      "     |████████████████████████████████| 25.9 MB 810 kB/s             \r\n",
      "\u001b[?25hRequirement already satisfied: numba in /opt/conda/lib/python3.7/site-packages (from pycaret-ts-alpha) (0.54.1)\r\n",
      "Requirement already satisfied: joblib in /opt/conda/lib/python3.7/site-packages (from pycaret-ts-alpha) (1.1.0)\r\n",
      "Collecting pmdarima>=1.8.0\r\n",
      "  Downloading pmdarima-1.8.4-cp37-cp37m-manylinux_2_17_x86_64.manylinux2014_x86_64.manylinux_2_24_x86_64.whl (1.4 MB)\r\n",
      "     |████████████████████████████████| 1.4 MB 59.4 MB/s            \r\n",
      "\u001b[?25hRequirement already satisfied: colorlover>=0.2.1 in /opt/conda/lib/python3.7/site-packages (from cufflinks>=0.17.0->pycaret-ts-alpha) (0.3.0)\r\n",
      "Requirement already satisfied: setuptools>=34.4.1 in /opt/conda/lib/python3.7/site-packages (from cufflinks>=0.17.0->pycaret-ts-alpha) (59.4.0)\r\n",
      "Requirement already satisfied: six>=1.9.0 in /opt/conda/lib/python3.7/site-packages (from cufflinks>=0.17.0->pycaret-ts-alpha) (1.16.0)\r\n",
      "Requirement already satisfied: smart-open>=1.8.1 in /opt/conda/lib/python3.7/site-packages (from gensim<4.0.0->pycaret-ts-alpha) (5.2.1)\r\n",
      "Requirement already satisfied: pickleshare in /opt/conda/lib/python3.7/site-packages (from IPython->pycaret-ts-alpha) (0.7.5)\r\n",
      "Requirement already satisfied: decorator in /opt/conda/lib/python3.7/site-packages (from IPython->pycaret-ts-alpha) (5.1.0)\r\n",
      "Requirement already satisfied: backcall in /opt/conda/lib/python3.7/site-packages (from IPython->pycaret-ts-alpha) (0.2.0)\r\n",
      "Requirement already satisfied: jedi>=0.16 in /opt/conda/lib/python3.7/site-packages (from IPython->pycaret-ts-alpha) (0.18.1)\r\n",
      "Requirement already satisfied: traitlets>=4.2 in /opt/conda/lib/python3.7/site-packages (from IPython->pycaret-ts-alpha) (5.1.1)\r\n",
      "Requirement already satisfied: pexpect>4.3 in /opt/conda/lib/python3.7/site-packages (from IPython->pycaret-ts-alpha) (4.8.0)\r\n",
      "Requirement already satisfied: matplotlib-inline in /opt/conda/lib/python3.7/site-packages (from IPython->pycaret-ts-alpha) (0.1.3)\r\n",
      "Requirement already satisfied: pygments in /opt/conda/lib/python3.7/site-packages (from IPython->pycaret-ts-alpha) (2.10.0)\r\n",
      "Requirement already satisfied: prompt-toolkit!=3.0.0,!=3.0.1,<3.1.0,>=2.0.0 in /opt/conda/lib/python3.7/site-packages (from IPython->pycaret-ts-alpha) (3.0.22)\r\n",
      "Requirement already satisfied: widgetsnbextension~=3.5.0 in /opt/conda/lib/python3.7/site-packages (from ipywidgets->pycaret-ts-alpha) (3.5.2)\r\n",
      "Requirement already satisfied: nbformat>=4.2.0 in /opt/conda/lib/python3.7/site-packages (from ipywidgets->pycaret-ts-alpha) (5.1.3)\r\n",
      "Requirement already satisfied: jupyterlab-widgets>=1.0.0 in /opt/conda/lib/python3.7/site-packages (from ipywidgets->pycaret-ts-alpha) (1.0.2)\r\n",
      "Requirement already satisfied: ipython-genutils~=0.2.0 in /opt/conda/lib/python3.7/site-packages (from ipywidgets->pycaret-ts-alpha) (0.2.0)\r\n",
      "Requirement already satisfied: ipykernel>=4.5.1 in /opt/conda/lib/python3.7/site-packages (from ipywidgets->pycaret-ts-alpha) (6.5.1)\r\n",
      "Requirement already satisfied: wheel in /opt/conda/lib/python3.7/site-packages (from lightgbm>=2.3.1->pycaret-ts-alpha) (0.37.0)\r\n",
      "Requirement already satisfied: cycler>=0.10 in /opt/conda/lib/python3.7/site-packages (from matplotlib->pycaret-ts-alpha) (0.11.0)\r\n",
      "Requirement already satisfied: pyparsing>=2.2.1 in /opt/conda/lib/python3.7/site-packages (from matplotlib->pycaret-ts-alpha) (3.0.6)\r\n",
      "Requirement already satisfied: fonttools>=4.22.0 in /opt/conda/lib/python3.7/site-packages (from matplotlib->pycaret-ts-alpha) (4.28.2)\r\n",
      "Requirement already satisfied: python-dateutil>=2.7 in /opt/conda/lib/python3.7/site-packages (from matplotlib->pycaret-ts-alpha) (2.8.0)\r\n",
      "Requirement already satisfied: packaging>=20.0 in /opt/conda/lib/python3.7/site-packages (from matplotlib->pycaret-ts-alpha) (21.3)\r\n",
      "Requirement already satisfied: pillow>=6.2.0 in /opt/conda/lib/python3.7/site-packages (from matplotlib->pycaret-ts-alpha) (8.2.0)\r\n",
      "Requirement already satisfied: kiwisolver>=1.0.1 in /opt/conda/lib/python3.7/site-packages (from matplotlib->pycaret-ts-alpha) (1.3.2)\r\n",
      "Requirement already satisfied: pytz>=2017.3 in /opt/conda/lib/python3.7/site-packages (from pandas->pycaret-ts-alpha) (2021.3)\r\n",
      "Requirement already satisfied: phik>=0.11.1 in /opt/conda/lib/python3.7/site-packages (from pandas-profiling>=2.8.0->pycaret-ts-alpha) (0.12.0)\r\n",
      "Requirement already satisfied: missingno>=0.4.2 in /opt/conda/lib/python3.7/site-packages (from pandas-profiling>=2.8.0->pycaret-ts-alpha) (0.4.2)\r\n",
      "Requirement already satisfied: requests>=2.24.0 in /opt/conda/lib/python3.7/site-packages (from pandas-profiling>=2.8.0->pycaret-ts-alpha) (2.26.0)\r\n",
      "Requirement already satisfied: visions[type_image_path]==0.7.1 in /opt/conda/lib/python3.7/site-packages (from pandas-profiling>=2.8.0->pycaret-ts-alpha) (0.7.1)\r\n",
      "Requirement already satisfied: pydantic>=1.8.1 in /opt/conda/lib/python3.7/site-packages (from pandas-profiling>=2.8.0->pycaret-ts-alpha) (1.8.2)\r\n",
      "Requirement already satisfied: jinja2>=2.11.1 in /opt/conda/lib/python3.7/site-packages (from pandas-profiling>=2.8.0->pycaret-ts-alpha) (3.0.3)\r\n",
      "Requirement already satisfied: htmlmin>=0.1.12 in /opt/conda/lib/python3.7/site-packages (from pandas-profiling>=2.8.0->pycaret-ts-alpha) (0.1.12)\r\n",
      "Requirement already satisfied: tqdm>=4.48.2 in /opt/conda/lib/python3.7/site-packages (from pandas-profiling>=2.8.0->pycaret-ts-alpha) (4.62.3)\r\n",
      "Requirement already satisfied: tangled-up-in-unicode==0.1.0 in /opt/conda/lib/python3.7/site-packages (from pandas-profiling>=2.8.0->pycaret-ts-alpha) (0.1.0)\r\n",
      "Requirement already satisfied: attrs>=19.3.0 in /opt/conda/lib/python3.7/site-packages (from visions[type_image_path]==0.7.1->pandas-profiling>=2.8.0->pycaret-ts-alpha) (21.2.0)\r\n",
      "Requirement already satisfied: multimethod==1.4 in /opt/conda/lib/python3.7/site-packages (from visions[type_image_path]==0.7.1->pandas-profiling>=2.8.0->pycaret-ts-alpha) (1.4)\r\n",
      "Requirement already satisfied: networkx>=2.4 in /opt/conda/lib/python3.7/site-packages (from visions[type_image_path]==0.7.1->pandas-profiling>=2.8.0->pycaret-ts-alpha) (2.6.3)\r\n",
      "Requirement already satisfied: bottleneck in /opt/conda/lib/python3.7/site-packages (from visions[type_image_path]==0.7.1->pandas-profiling>=2.8.0->pycaret-ts-alpha) (1.3.2)\r\n",
      "Requirement already satisfied: imagehash in /opt/conda/lib/python3.7/site-packages (from visions[type_image_path]==0.7.1->pandas-profiling>=2.8.0->pycaret-ts-alpha) (4.2.1)\r\n",
      "Requirement already satisfied: tenacity>=6.2.0 in /opt/conda/lib/python3.7/site-packages (from plotly>=5.0.0->pycaret-ts-alpha) (8.0.1)\r\n",
      "Requirement already satisfied: Cython!=0.29.18,>=0.29 in /opt/conda/lib/python3.7/site-packages (from pmdarima>=1.8.0->pycaret-ts-alpha) (0.29.26)\r\n",
      "Requirement already satisfied: urllib3 in /opt/conda/lib/python3.7/site-packages (from pmdarima>=1.8.0->pycaret-ts-alpha) (1.26.7)\r\n",
      "Requirement already satisfied: threadpoolctl>=2.0.0 in /opt/conda/lib/python3.7/site-packages (from scikit-learn~=0.24.2->pycaret-ts-alpha) (3.0.0)\r\n",
      "Collecting statsmodels~=0.12.1\r\n",
      "  Downloading statsmodels-0.12.1-cp37-cp37m-manylinux1_x86_64.whl (9.5 MB)\r\n",
      "     |████████████████████████████████| 9.5 MB 27.9 MB/s            \r\n",
      "\u001b[?25hCollecting sktime>=0.8.0\r\n",
      "  Downloading sktime-0.8.1-cp37-cp37m-manylinux_2_17_x86_64.manylinux2014_x86_64.whl (6.1 MB)\r\n",
      "     |████████████████████████████████| 6.1 MB 37.4 MB/s            \r\n",
      "\u001b[?25hRequirement already satisfied: llvmlite<0.38,>=0.37.0rc1 in /opt/conda/lib/python3.7/site-packages (from numba->pycaret-ts-alpha) (0.37.0)\r\n",
      "Requirement already satisfied: murmurhash<1.1.0,>=0.28.0 in /opt/conda/lib/python3.7/site-packages (from spacy<2.4.0->pycaret-ts-alpha) (1.0.6)\r\n",
      "Requirement already satisfied: blis<0.8.0,>=0.4.0 in /opt/conda/lib/python3.7/site-packages (from spacy<2.4.0->pycaret-ts-alpha) (0.7.5)\r\n",
      "Collecting catalogue<1.1.0,>=0.0.7\r\n",
      "  Downloading catalogue-1.0.0-py2.py3-none-any.whl (7.7 kB)\r\n",
      "Requirement already satisfied: cymem<2.1.0,>=2.0.2 in /opt/conda/lib/python3.7/site-packages (from spacy<2.4.0->pycaret-ts-alpha) (2.0.6)\r\n",
      "Collecting srsly<1.1.0,>=1.0.2\r\n",
      "  Downloading srsly-1.0.5-cp37-cp37m-manylinux2014_x86_64.whl (184 kB)\r\n",
      "     |████████████████████████████████| 184 kB 46.0 MB/s            \r\n",
      "\u001b[?25hRequirement already satisfied: wasabi<1.1.0,>=0.4.0 in /opt/conda/lib/python3.7/site-packages (from spacy<2.4.0->pycaret-ts-alpha) (0.9.0)\r\n",
      "Requirement already satisfied: preshed<3.1.0,>=3.0.2 in /opt/conda/lib/python3.7/site-packages (from spacy<2.4.0->pycaret-ts-alpha) (3.0.6)\r\n",
      "Collecting thinc<7.5.0,>=7.4.1\r\n",
      "  Downloading thinc-7.4.5-cp37-cp37m-manylinux2014_x86_64.whl (1.0 MB)\r\n",
      "     |████████████████████████████████| 1.0 MB 38.6 MB/s            \r\n",
      "\u001b[?25hCollecting plac<1.2.0,>=0.9.6\r\n",
      "  Downloading plac-1.1.3-py2.py3-none-any.whl (20 kB)\r\n",
      "Requirement already satisfied: patsy>=0.5 in /opt/conda/lib/python3.7/site-packages (from statsmodels~=0.12.1->pycaret-ts-alpha) (0.5.2)\r\n",
      "Collecting querystring-parser\r\n",
      "  Downloading querystring_parser-1.2.4-py2.py3-none-any.whl (7.9 kB)\r\n",
      "Requirement already satisfied: gitpython>=2.1.0 in /opt/conda/lib/python3.7/site-packages (from mlflow->pycaret-ts-alpha) (3.1.24)\r\n",
      "Requirement already satisfied: docker>=4.0.0 in /opt/conda/lib/python3.7/site-packages (from mlflow->pycaret-ts-alpha) (5.0.3)\r\n",
      "Requirement already satisfied: cloudpickle in /opt/conda/lib/python3.7/site-packages (from mlflow->pycaret-ts-alpha) (2.0.0)\r\n",
      "Requirement already satisfied: importlib-metadata!=4.7.0,>=3.7.0 in /opt/conda/lib/python3.7/site-packages (from mlflow->pycaret-ts-alpha) (4.10.0)\r\n",
      "Requirement already satisfied: sqlparse>=0.3.1 in /opt/conda/lib/python3.7/site-packages (from mlflow->pycaret-ts-alpha) (0.4.2)\r\n",
      "Requirement already satisfied: click>=7.0 in /opt/conda/lib/python3.7/site-packages (from mlflow->pycaret-ts-alpha) (8.0.3)\r\n",
      "Requirement already satisfied: Flask in /opt/conda/lib/python3.7/site-packages (from mlflow->pycaret-ts-alpha) (2.0.2)\r\n",
      "Requirement already satisfied: sqlalchemy in /opt/conda/lib/python3.7/site-packages (from mlflow->pycaret-ts-alpha) (1.4.27)\r\n",
      "Requirement already satisfied: protobuf>=3.7.0 in /opt/conda/lib/python3.7/site-packages (from mlflow->pycaret-ts-alpha) (3.19.1)\r\n",
      "Collecting gunicorn\r\n",
      "  Downloading gunicorn-20.1.0-py3-none-any.whl (79 kB)\r\n",
      "     |████████████████████████████████| 79 kB 4.6 MB/s             \r\n",
      "\u001b[?25hRequirement already satisfied: alembic in /opt/conda/lib/python3.7/site-packages (from mlflow->pycaret-ts-alpha) (1.7.5)\r\n",
      "Collecting prometheus-flask-exporter\r\n",
      "  Downloading prometheus_flask_exporter-0.18.7-py3-none-any.whl (17 kB)\r\n",
      "Collecting databricks-cli>=0.8.7\r\n",
      "  Downloading databricks-cli-0.16.2.tar.gz (58 kB)\r\n",
      "     |████████████████████████████████| 58 kB 3.2 MB/s             \r\n",
      "\u001b[?25h  Preparing metadata (setup.py) ... \u001b[?25l-\b \bdone\r\n",
      "\u001b[?25hRequirement already satisfied: entrypoints in /opt/conda/lib/python3.7/site-packages (from mlflow->pycaret-ts-alpha) (0.3)\r\n",
      "Requirement already satisfied: funcy in /opt/conda/lib/python3.7/site-packages (from pyLDAvis->pycaret-ts-alpha) (1.17)\r\n",
      "Requirement already satisfied: future in /opt/conda/lib/python3.7/site-packages (from pyLDAvis->pycaret-ts-alpha) (0.18.2)\r\n",
      "Requirement already satisfied: numexpr in /opt/conda/lib/python3.7/site-packages (from pyLDAvis->pycaret-ts-alpha) (2.8.1)\r\n",
      "Requirement already satisfied: pynndescent>=0.5 in /opt/conda/lib/python3.7/site-packages (from umap-learn->pycaret-ts-alpha) (0.5.5)\r\n",
      "Requirement already satisfied: tabulate>=0.7.7 in /opt/conda/lib/python3.7/site-packages (from databricks-cli>=0.8.7->mlflow->pycaret-ts-alpha) (0.8.9)\r\n",
      "Requirement already satisfied: websocket-client>=0.32.0 in /opt/conda/lib/python3.7/site-packages (from docker>=4.0.0->mlflow->pycaret-ts-alpha) (1.2.1)\r\n",
      "Requirement already satisfied: gitdb<5,>=4.0.1 in /opt/conda/lib/python3.7/site-packages (from gitpython>=2.1.0->mlflow->pycaret-ts-alpha) (4.0.9)\r\n",
      "Requirement already satisfied: typing-extensions>=3.7.4.3 in /opt/conda/lib/python3.7/site-packages (from gitpython>=2.1.0->mlflow->pycaret-ts-alpha) (3.10.0.2)\r\n",
      "Requirement already satisfied: zipp>=0.5 in /opt/conda/lib/python3.7/site-packages (from importlib-metadata!=4.7.0,>=3.7.0->mlflow->pycaret-ts-alpha) (3.6.0)\r\n",
      "Requirement already satisfied: argcomplete>=1.12.3 in /opt/conda/lib/python3.7/site-packages (from ipykernel>=4.5.1->ipywidgets->pycaret-ts-alpha) (1.12.3)\r\n",
      "Requirement already satisfied: tornado<7.0,>=4.2 in /opt/conda/lib/python3.7/site-packages (from ipykernel>=4.5.1->ipywidgets->pycaret-ts-alpha) (6.1)\r\n",
      "Requirement already satisfied: jupyter-client<8.0 in /opt/conda/lib/python3.7/site-packages (from ipykernel>=4.5.1->ipywidgets->pycaret-ts-alpha) (7.1.0)\r\n",
      "Requirement already satisfied: debugpy<2.0,>=1.0.0 in /opt/conda/lib/python3.7/site-packages (from ipykernel>=4.5.1->ipywidgets->pycaret-ts-alpha) (1.5.1)\r\n",
      "Requirement already satisfied: parso<0.9.0,>=0.8.0 in /opt/conda/lib/python3.7/site-packages (from jedi>=0.16->IPython->pycaret-ts-alpha) (0.8.3)\r\n",
      "Requirement already satisfied: MarkupSafe>=2.0 in /opt/conda/lib/python3.7/site-packages (from jinja2>=2.11.1->pandas-profiling>=2.8.0->pycaret-ts-alpha) (2.0.1)\r\n",
      "Requirement already satisfied: jupyter-core in /opt/conda/lib/python3.7/site-packages (from nbformat>=4.2.0->ipywidgets->pycaret-ts-alpha) (4.9.1)\r\n",
      "Requirement already satisfied: jsonschema!=2.5.0,>=2.4 in /opt/conda/lib/python3.7/site-packages (from nbformat>=4.2.0->ipywidgets->pycaret-ts-alpha) (3.2.0)\r\n",
      "Requirement already satisfied: ptyprocess>=0.5 in /opt/conda/lib/python3.7/site-packages (from pexpect>4.3->IPython->pycaret-ts-alpha) (0.7.0)\r\n",
      "Requirement already satisfied: wcwidth in /opt/conda/lib/python3.7/site-packages (from prompt-toolkit!=3.0.0,!=3.0.1,<3.1.0,>=2.0.0->IPython->pycaret-ts-alpha) (0.2.5)\r\n",
      "Requirement already satisfied: idna<4,>=2.5 in /opt/conda/lib/python3.7/site-packages (from requests>=2.24.0->pandas-profiling>=2.8.0->pycaret-ts-alpha) (3.1)\r\n",
      "Requirement already satisfied: charset-normalizer~=2.0.0 in /opt/conda/lib/python3.7/site-packages (from requests>=2.24.0->pandas-profiling>=2.8.0->pycaret-ts-alpha) (2.0.8)\r\n",
      "Requirement already satisfied: certifi>=2017.4.17 in /opt/conda/lib/python3.7/site-packages (from requests>=2.24.0->pandas-profiling>=2.8.0->pycaret-ts-alpha) (2021.10.8)\r\n",
      "Requirement already satisfied: notebook>=4.4.1 in /opt/conda/lib/python3.7/site-packages (from widgetsnbextension~=3.5.0->ipywidgets->pycaret-ts-alpha) (6.4.6)\r\n",
      "Requirement already satisfied: importlib-resources in /opt/conda/lib/python3.7/site-packages (from alembic->mlflow->pycaret-ts-alpha) (5.4.0)\r\n",
      "Requirement already satisfied: Mako in /opt/conda/lib/python3.7/site-packages (from alembic->mlflow->pycaret-ts-alpha) (1.1.6)\r\n",
      "Requirement already satisfied: greenlet!=0.4.17 in /opt/conda/lib/python3.7/site-packages (from sqlalchemy->mlflow->pycaret-ts-alpha) (1.1.2)\r\n",
      "Requirement already satisfied: itsdangerous>=2.0 in /opt/conda/lib/python3.7/site-packages (from Flask->mlflow->pycaret-ts-alpha) (2.0.1)\r\n",
      "Requirement already satisfied: Werkzeug>=2.0 in /opt/conda/lib/python3.7/site-packages (from Flask->mlflow->pycaret-ts-alpha) (2.0.2)\r\n",
      "Requirement already satisfied: prometheus-client in /opt/conda/lib/python3.7/site-packages (from prometheus-flask-exporter->mlflow->pycaret-ts-alpha) (0.12.0)\r\n",
      "Requirement already satisfied: smmap<6,>=3.0.1 in /opt/conda/lib/python3.7/site-packages (from gitdb<5,>=4.0.1->gitpython>=2.1.0->mlflow->pycaret-ts-alpha) (3.0.5)\r\n",
      "Requirement already satisfied: pyrsistent>=0.14.0 in /opt/conda/lib/python3.7/site-packages (from jsonschema!=2.5.0,>=2.4->nbformat>=4.2.0->ipywidgets->pycaret-ts-alpha) (0.18.0)\r\n",
      "Requirement already satisfied: nest-asyncio>=1.5 in /opt/conda/lib/python3.7/site-packages (from jupyter-client<8.0->ipykernel>=4.5.1->ipywidgets->pycaret-ts-alpha) (1.5.4)\r\n",
      "Requirement already satisfied: pyzmq>=13 in /opt/conda/lib/python3.7/site-packages (from jupyter-client<8.0->ipykernel>=4.5.1->ipywidgets->pycaret-ts-alpha) (22.3.0)\r\n",
      "Requirement already satisfied: Send2Trash>=1.8.0 in /opt/conda/lib/python3.7/site-packages (from notebook>=4.4.1->widgetsnbextension~=3.5.0->ipywidgets->pycaret-ts-alpha) (1.8.0)\r\n",
      "Requirement already satisfied: argon2-cffi in /opt/conda/lib/python3.7/site-packages (from notebook>=4.4.1->widgetsnbextension~=3.5.0->ipywidgets->pycaret-ts-alpha) (21.1.0)\r\n",
      "Requirement already satisfied: nbconvert in /opt/conda/lib/python3.7/site-packages (from notebook>=4.4.1->widgetsnbextension~=3.5.0->ipywidgets->pycaret-ts-alpha) (6.3.0)\r\n",
      "Requirement already satisfied: terminado>=0.8.3 in /opt/conda/lib/python3.7/site-packages (from notebook>=4.4.1->widgetsnbextension~=3.5.0->ipywidgets->pycaret-ts-alpha) (0.12.1)\r\n",
      "Requirement already satisfied: PyWavelets in /opt/conda/lib/python3.7/site-packages (from imagehash->visions[type_image_path]==0.7.1->pandas-profiling>=2.8.0->pycaret-ts-alpha) (1.2.0)\r\n",
      "Requirement already satisfied: cffi>=1.0.0 in /opt/conda/lib/python3.7/site-packages (from argon2-cffi->notebook>=4.4.1->widgetsnbextension~=3.5.0->ipywidgets->pycaret-ts-alpha) (1.15.0)\r\n",
      "Requirement already satisfied: mistune<2,>=0.8.1 in /opt/conda/lib/python3.7/site-packages (from nbconvert->notebook>=4.4.1->widgetsnbextension~=3.5.0->ipywidgets->pycaret-ts-alpha) (0.8.4)\r\n",
      "Requirement already satisfied: pandocfilters>=1.4.1 in /opt/conda/lib/python3.7/site-packages (from nbconvert->notebook>=4.4.1->widgetsnbextension~=3.5.0->ipywidgets->pycaret-ts-alpha) (1.5.0)\r\n",
      "Requirement already satisfied: defusedxml in /opt/conda/lib/python3.7/site-packages (from nbconvert->notebook>=4.4.1->widgetsnbextension~=3.5.0->ipywidgets->pycaret-ts-alpha) (0.7.1)\r\n",
      "Requirement already satisfied: testpath in /opt/conda/lib/python3.7/site-packages (from nbconvert->notebook>=4.4.1->widgetsnbextension~=3.5.0->ipywidgets->pycaret-ts-alpha) (0.5.0)\r\n",
      "Requirement already satisfied: bleach in /opt/conda/lib/python3.7/site-packages (from nbconvert->notebook>=4.4.1->widgetsnbextension~=3.5.0->ipywidgets->pycaret-ts-alpha) (4.1.0)\r\n",
      "Requirement already satisfied: jupyterlab-pygments in /opt/conda/lib/python3.7/site-packages (from nbconvert->notebook>=4.4.1->widgetsnbextension~=3.5.0->ipywidgets->pycaret-ts-alpha) (0.1.2)\r\n",
      "Requirement already satisfied: nbclient<0.6.0,>=0.5.0 in /opt/conda/lib/python3.7/site-packages (from nbconvert->notebook>=4.4.1->widgetsnbextension~=3.5.0->ipywidgets->pycaret-ts-alpha) (0.5.9)\r\n",
      "Requirement already satisfied: pycparser in /opt/conda/lib/python3.7/site-packages (from cffi>=1.0.0->argon2-cffi->notebook>=4.4.1->widgetsnbextension~=3.5.0->ipywidgets->pycaret-ts-alpha) (2.21)\r\n",
      "Requirement already satisfied: webencodings in /opt/conda/lib/python3.7/site-packages (from bleach->nbconvert->notebook>=4.4.1->widgetsnbextension~=3.5.0->ipywidgets->pycaret-ts-alpha) (0.5.1)\r\n",
      "Building wheels for collected packages: pyod, databricks-cli\r\n",
      "  Building wheel for pyod (setup.py) ... \u001b[?25l-\b \b\\\b \b|\b \bdone\r\n",
      "\u001b[?25h  Created wheel for pyod: filename=pyod-0.9.7-py3-none-any.whl size=136277 sha256=f7e7c58236ee235328b4513d8184a70946ff75880e7a5c1ce895cdcc36332a5c\r\n",
      "  Stored in directory: /root/.cache/pip/wheels/ce/14/ae/60cbb36511e59bc12f8f0883805f586db3b315972b54865d33\r\n",
      "  Building wheel for databricks-cli (setup.py) ... \u001b[?25l-\b \b\\\b \b|\b \bdone\r\n",
      "\u001b[?25h  Created wheel for databricks-cli: filename=databricks_cli-0.16.2-py3-none-any.whl size=106811 sha256=3db6c8b5aa64dbdb80fde73699d1a3e98df90a3bbdb6f4b97fbaddf32cdf8ae1\r\n",
      "  Stored in directory: /root/.cache/pip/wheels/f4/5c/ed/e1ce20a53095f63b27b4964abbad03e59cf3472822addf7d29\r\n",
      "Successfully built pyod databricks-cli\r\n",
      "Installing collected packages: scipy, statsmodels, srsly, scikit-learn, plac, catalogue, thinc, querystring-parser, pyyaml, prometheus-flask-exporter, pmdarima, gunicorn, databricks-cli, tbats, spacy, sktime, pyod, mlflow, imbalanced-learn, gensim, pycaret-ts-alpha\r\n",
      "  Attempting uninstall: scipy\r\n",
      "    Found existing installation: scipy 1.7.3\r\n",
      "    Uninstalling scipy-1.7.3:\r\n",
      "      Successfully uninstalled scipy-1.7.3\r\n",
      "  Attempting uninstall: statsmodels\r\n",
      "    Found existing installation: statsmodels 0.12.2\r\n",
      "    Uninstalling statsmodels-0.12.2:\r\n",
      "      Successfully uninstalled statsmodels-0.12.2\r\n",
      "  Attempting uninstall: srsly\r\n",
      "    Found existing installation: srsly 2.4.2\r\n",
      "    Uninstalling srsly-2.4.2:\r\n",
      "      Successfully uninstalled srsly-2.4.2\r\n",
      "  Attempting uninstall: scikit-learn\r\n",
      "    Found existing installation: scikit-learn 0.23.2\r\n",
      "    Uninstalling scikit-learn-0.23.2:\r\n",
      "      Successfully uninstalled scikit-learn-0.23.2\r\n",
      "  Attempting uninstall: catalogue\r\n",
      "    Found existing installation: catalogue 2.0.6\r\n",
      "    Uninstalling catalogue-2.0.6:\r\n",
      "      Successfully uninstalled catalogue-2.0.6\r\n",
      "  Attempting uninstall: thinc\r\n",
      "    Found existing installation: thinc 8.0.13\r\n",
      "    Uninstalling thinc-8.0.13:\r\n",
      "      Successfully uninstalled thinc-8.0.13\r\n",
      "  Attempting uninstall: pyyaml\r\n",
      "    Found existing installation: PyYAML 6.0\r\n",
      "    Uninstalling PyYAML-6.0:\r\n",
      "      Successfully uninstalled PyYAML-6.0\r\n",
      "  Attempting uninstall: spacy\r\n",
      "    Found existing installation: spacy 3.1.4\r\n",
      "    Uninstalling spacy-3.1.4:\r\n",
      "      Successfully uninstalled spacy-3.1.4\r\n",
      "  Attempting uninstall: imbalanced-learn\r\n",
      "    Found existing installation: imbalanced-learn 0.8.1\r\n",
      "    Uninstalling imbalanced-learn-0.8.1:\r\n",
      "      Successfully uninstalled imbalanced-learn-0.8.1\r\n",
      "  Attempting uninstall: gensim\r\n",
      "    Found existing installation: gensim 4.0.1\r\n",
      "    Uninstalling gensim-4.0.1:\r\n",
      "      Successfully uninstalled gensim-4.0.1\r\n",
      "\u001b[31mERROR: pip's dependency resolver does not currently take into account all the packages that are installed. This behaviour is the source of the following dependency conflicts.\r\n",
      "tsfresh 0.19.0 requires statsmodels>=0.13, but you have statsmodels 0.12.1 which is incompatible.\r\n",
      "scattertext 0.1.5 requires gensim>=4.0.0, but you have gensim 3.8.3 which is incompatible.\r\n",
      "pdpbox 0.2.1 requires matplotlib==3.1.1, but you have matplotlib 3.5.1 which is incompatible.\r\n",
      "hypertools 0.7.0 requires scikit-learn!=0.22,<0.24,>=0.19.1, but you have scikit-learn 0.24.2 which is incompatible.\r\n",
      "en-core-web-sm 3.1.0 requires spacy<3.2.0,>=3.1.0, but you have spacy 2.3.7 which is incompatible.\r\n",
      "en-core-web-lg 3.1.0 requires spacy<3.2.0,>=3.1.0, but you have spacy 2.3.7 which is incompatible.\u001b[0m\r\n",
      "Successfully installed catalogue-1.0.0 databricks-cli-0.16.2 gensim-3.8.3 gunicorn-20.1.0 imbalanced-learn-0.7.0 mlflow-1.23.0 plac-1.1.3 pmdarima-1.8.4 prometheus-flask-exporter-0.18.7 pycaret-ts-alpha-3.0.0.dev1638407153 pyod-0.9.7 pyyaml-5.4.1 querystring-parser-1.2.4 scikit-learn-0.24.2 scipy-1.5.4 sktime-0.8.1 spacy-2.3.7 srsly-1.0.5 statsmodels-0.12.1 tbats-1.1.0 thinc-7.4.5\r\n",
      "\u001b[33mWARNING: Running pip as the 'root' user can result in broken permissions and conflicting behaviour with the system package manager. It is recommended to use a virtual environment instead: https://pip.pypa.io/warnings/venv\u001b[0m\r\n"
     ]
    }
   ],
   "source": [
    "!pip install pycaret-ts-alpha"
   ]
  },
  {
   "cell_type": "code",
   "execution_count": 43,
   "id": "c048b63e",
   "metadata": {
    "execution": {
     "iopub.execute_input": "2022-01-21T00:35:18.877417Z",
     "iopub.status.busy": "2022-01-21T00:35:18.876341Z",
     "iopub.status.idle": "2022-01-21T00:35:22.323506Z",
     "shell.execute_reply": "2022-01-21T00:35:22.322807Z",
     "shell.execute_reply.started": "2022-01-21T00:09:32.843455Z"
    },
    "papermill": {
     "duration": 3.672965,
     "end_time": "2022-01-21T00:35:22.323659",
     "exception": false,
     "start_time": "2022-01-21T00:35:18.650694",
     "status": "completed"
    },
    "tags": []
   },
   "outputs": [
    {
     "data": {
      "text/html": [
       "<style type='text/css'>\n",
       ".datatable table.frame { margin-bottom: 0; }\n",
       ".datatable table.frame thead { border-bottom: none; }\n",
       ".datatable table.frame tr.coltypes td {  color: #FFFFFF;  line-height: 6px;  padding: 0 0.5em;}\n",
       ".datatable .bool    { background: #DDDD99; }\n",
       ".datatable .object  { background: #565656; }\n",
       ".datatable .int     { background: #5D9E5D; }\n",
       ".datatable .float   { background: #4040CC; }\n",
       ".datatable .str     { background: #CC4040; }\n",
       ".datatable .time    { background: #40CC40; }\n",
       ".datatable .row_index {  background: var(--jp-border-color3);  border-right: 1px solid var(--jp-border-color0);  color: var(--jp-ui-font-color3);  font-size: 9px;}\n",
       ".datatable .frame tbody td { text-align: left; }\n",
       ".datatable .frame tr.coltypes .row_index {  background: var(--jp-border-color0);}\n",
       ".datatable th:nth-child(2) { padding-left: 12px; }\n",
       ".datatable .hellipsis {  color: var(--jp-cell-editor-border-color);}\n",
       ".datatable .vellipsis {  background: var(--jp-layout-color0);  color: var(--jp-cell-editor-border-color);}\n",
       ".datatable .na {  color: var(--jp-cell-editor-border-color);  font-size: 80%;}\n",
       ".datatable .sp {  opacity: 0.25;}\n",
       ".datatable .footer { font-size: 9px; }\n",
       ".datatable .frame_dimensions {  background: var(--jp-border-color3);  border-top: 1px solid var(--jp-border-color0);  color: var(--jp-ui-font-color3);  display: inline-block;  opacity: 0.6;  padding: 1px 10px 1px 5px;}\n",
       "</style>\n"
      ],
      "text/plain": [
       "<IPython.core.display.HTML object>"
      ]
     },
     "metadata": {},
     "output_type": "display_data"
    }
   ],
   "source": [
    "import pandas as pd\n",
    "import matplotlib.pyplot as plt\n",
    "from pycaret.internal.pycaret_experiment import TimeSeriesExperiment\n",
    "from sktime.utils.plotting import plot_series"
   ]
  },
  {
   "cell_type": "code",
   "execution_count": 44,
   "id": "5036e4d3",
   "metadata": {
    "execution": {
     "iopub.execute_input": "2022-01-21T00:35:22.747768Z",
     "iopub.status.busy": "2022-01-21T00:35:22.747080Z",
     "iopub.status.idle": "2022-01-21T00:35:22.878559Z",
     "shell.execute_reply": "2022-01-21T00:35:22.879015Z",
     "shell.execute_reply.started": "2022-01-21T00:09:32.851931Z"
    },
    "papermill": {
     "duration": 0.34523,
     "end_time": "2022-01-21T00:35:22.879197",
     "exception": false,
     "start_time": "2022-01-21T00:35:22.533967",
     "status": "completed"
    },
    "tags": []
   },
   "outputs": [
    {
     "data": {
      "text/html": [
       "<div>\n",
       "<style scoped>\n",
       "    .dataframe tbody tr th:only-of-type {\n",
       "        vertical-align: middle;\n",
       "    }\n",
       "\n",
       "    .dataframe tbody tr th {\n",
       "        vertical-align: top;\n",
       "    }\n",
       "\n",
       "    .dataframe thead th {\n",
       "        text-align: right;\n",
       "    }\n",
       "</style>\n",
       "<table border=\"1\" class=\"dataframe\">\n",
       "  <thead>\n",
       "    <tr style=\"text-align: right;\">\n",
       "      <th></th>\n",
       "      <th>Period\\Unit:</th>\n",
       "      <th>[Australian dollar ]</th>\n",
       "      <th>[Bulgarian lev ]</th>\n",
       "      <th>[Brazilian real ]</th>\n",
       "      <th>[Canadian dollar ]</th>\n",
       "      <th>[Swiss franc ]</th>\n",
       "      <th>[Chinese yuan renminbi ]</th>\n",
       "      <th>[Cypriot pound ]</th>\n",
       "      <th>[Czech koruna ]</th>\n",
       "      <th>[Danish krone ]</th>\n",
       "      <th>[Estonian kroon ]</th>\n",
       "      <th>[UK pound sterling ]</th>\n",
       "      <th>[Greek drachma ]</th>\n",
       "      <th>[Hong Kong dollar ]</th>\n",
       "      <th>[Croatian kuna ]</th>\n",
       "      <th>[Hungarian forint ]</th>\n",
       "      <th>[Indonesian rupiah ]</th>\n",
       "      <th>[Israeli shekel ]</th>\n",
       "      <th>[Indian rupee ]</th>\n",
       "      <th>[Iceland krona ]</th>\n",
       "      <th>[Japanese yen ]</th>\n",
       "      <th>[Korean won ]</th>\n",
       "      <th>[Lithuanian litas ]</th>\n",
       "      <th>[Latvian lats ]</th>\n",
       "      <th>[Maltese lira ]</th>\n",
       "      <th>[Mexican peso ]</th>\n",
       "      <th>[Malaysian ringgit ]</th>\n",
       "      <th>[Norwegian krone ]</th>\n",
       "      <th>[New Zealand dollar ]</th>\n",
       "      <th>[Philippine peso ]</th>\n",
       "      <th>[Polish zloty ]</th>\n",
       "      <th>[Romanian leu ]</th>\n",
       "      <th>[Russian rouble ]</th>\n",
       "      <th>[Swedish krona ]</th>\n",
       "      <th>[Singapore dollar ]</th>\n",
       "      <th>[Slovenian tolar ]</th>\n",
       "      <th>[Slovak koruna ]</th>\n",
       "      <th>[Thai baht ]</th>\n",
       "      <th>[Turkish lira ]</th>\n",
       "      <th>[US dollar ]</th>\n",
       "      <th>[South African rand ]</th>\n",
       "    </tr>\n",
       "  </thead>\n",
       "  <tbody>\n",
       "    <tr>\n",
       "      <th>0</th>\n",
       "      <td>2022-01-10</td>\n",
       "      <td>1.5774</td>\n",
       "      <td>1.9558</td>\n",
       "      <td>6.3969</td>\n",
       "      <td>1.4327</td>\n",
       "      <td>1.0446</td>\n",
       "      <td>7.2128</td>\n",
       "      <td>NaN</td>\n",
       "      <td>24.357</td>\n",
       "      <td>7.4381</td>\n",
       "      <td>NaN</td>\n",
       "      <td>0.83398</td>\n",
       "      <td>NaN</td>\n",
       "      <td>8.8233</td>\n",
       "      <td>7.5278</td>\n",
       "      <td>358.40</td>\n",
       "      <td>16181.90</td>\n",
       "      <td>3.5303</td>\n",
       "      <td>83.8000</td>\n",
       "      <td>146.2</td>\n",
       "      <td>130.45</td>\n",
       "      <td>1355.68</td>\n",
       "      <td>NaN</td>\n",
       "      <td>NaN</td>\n",
       "      <td>NaN</td>\n",
       "      <td>23.0597</td>\n",
       "      <td>4.7536</td>\n",
       "      <td>10.0253</td>\n",
       "      <td>1.6753</td>\n",
       "      <td>58.141</td>\n",
       "      <td>4.5334</td>\n",
       "      <td>4.9449</td>\n",
       "      <td>84.9825</td>\n",
       "      <td>10.3038</td>\n",
       "      <td>1.5344</td>\n",
       "      <td>NaN</td>\n",
       "      <td>NaN</td>\n",
       "      <td>38.0740</td>\n",
       "      <td>15.7183</td>\n",
       "      <td>1.1318</td>\n",
       "      <td>17.6999</td>\n",
       "    </tr>\n",
       "    <tr>\n",
       "      <th>1</th>\n",
       "      <td>2022-01-07</td>\n",
       "      <td>1.5804</td>\n",
       "      <td>1.9558</td>\n",
       "      <td>6.4343</td>\n",
       "      <td>1.4374</td>\n",
       "      <td>1.0422</td>\n",
       "      <td>7.2060</td>\n",
       "      <td>NaN</td>\n",
       "      <td>24.439</td>\n",
       "      <td>7.4380</td>\n",
       "      <td>NaN</td>\n",
       "      <td>0.83430</td>\n",
       "      <td>NaN</td>\n",
       "      <td>8.8133</td>\n",
       "      <td>7.5214</td>\n",
       "      <td>358.68</td>\n",
       "      <td>16188.43</td>\n",
       "      <td>3.5135</td>\n",
       "      <td>83.9780</td>\n",
       "      <td>146.0</td>\n",
       "      <td>130.90</td>\n",
       "      <td>1359.96</td>\n",
       "      <td>NaN</td>\n",
       "      <td>NaN</td>\n",
       "      <td>NaN</td>\n",
       "      <td>23.1109</td>\n",
       "      <td>4.7553</td>\n",
       "      <td>10.0288</td>\n",
       "      <td>1.6748</td>\n",
       "      <td>58.046</td>\n",
       "      <td>4.5496</td>\n",
       "      <td>4.9451</td>\n",
       "      <td>85.2980</td>\n",
       "      <td>10.2839</td>\n",
       "      <td>1.5356</td>\n",
       "      <td>NaN</td>\n",
       "      <td>NaN</td>\n",
       "      <td>38.0740</td>\n",
       "      <td>15.7206</td>\n",
       "      <td>1.1298</td>\n",
       "      <td>17.6701</td>\n",
       "    </tr>\n",
       "    <tr>\n",
       "      <th>2</th>\n",
       "      <td>2022-01-06</td>\n",
       "      <td>1.5778</td>\n",
       "      <td>1.9558</td>\n",
       "      <td>6.4420</td>\n",
       "      <td>1.4451</td>\n",
       "      <td>1.0395</td>\n",
       "      <td>7.2187</td>\n",
       "      <td>NaN</td>\n",
       "      <td>24.528</td>\n",
       "      <td>7.4393</td>\n",
       "      <td>NaN</td>\n",
       "      <td>0.83593</td>\n",
       "      <td>NaN</td>\n",
       "      <td>8.8272</td>\n",
       "      <td>7.5197</td>\n",
       "      <td>359.84</td>\n",
       "      <td>16291.88</td>\n",
       "      <td>3.5247</td>\n",
       "      <td>84.2475</td>\n",
       "      <td>146.8</td>\n",
       "      <td>131.05</td>\n",
       "      <td>1362.06</td>\n",
       "      <td>NaN</td>\n",
       "      <td>NaN</td>\n",
       "      <td>NaN</td>\n",
       "      <td>23.2549</td>\n",
       "      <td>4.7670</td>\n",
       "      <td>10.0350</td>\n",
       "      <td>1.6752</td>\n",
       "      <td>57.943</td>\n",
       "      <td>4.5614</td>\n",
       "      <td>4.9435</td>\n",
       "      <td>86.5088</td>\n",
       "      <td>10.3265</td>\n",
       "      <td>1.5388</td>\n",
       "      <td>NaN</td>\n",
       "      <td>NaN</td>\n",
       "      <td>37.9620</td>\n",
       "      <td>15.5504</td>\n",
       "      <td>1.1315</td>\n",
       "      <td>17.7932</td>\n",
       "    </tr>\n",
       "    <tr>\n",
       "      <th>3</th>\n",
       "      <td>2022-01-05</td>\n",
       "      <td>1.5600</td>\n",
       "      <td>1.9558</td>\n",
       "      <td>6.4146</td>\n",
       "      <td>1.4399</td>\n",
       "      <td>1.0364</td>\n",
       "      <td>7.2087</td>\n",
       "      <td>NaN</td>\n",
       "      <td>24.581</td>\n",
       "      <td>7.4384</td>\n",
       "      <td>NaN</td>\n",
       "      <td>0.83546</td>\n",
       "      <td>NaN</td>\n",
       "      <td>8.8227</td>\n",
       "      <td>7.5190</td>\n",
       "      <td>362.15</td>\n",
       "      <td>16263.02</td>\n",
       "      <td>3.4989</td>\n",
       "      <td>84.1610</td>\n",
       "      <td>146.8</td>\n",
       "      <td>131.03</td>\n",
       "      <td>1354.61</td>\n",
       "      <td>NaN</td>\n",
       "      <td>NaN</td>\n",
       "      <td>NaN</td>\n",
       "      <td>23.1422</td>\n",
       "      <td>4.7466</td>\n",
       "      <td>9.9672</td>\n",
       "      <td>1.6597</td>\n",
       "      <td>57.713</td>\n",
       "      <td>4.5666</td>\n",
       "      <td>4.9460</td>\n",
       "      <td>85.7275</td>\n",
       "      <td>10.2545</td>\n",
       "      <td>1.5340</td>\n",
       "      <td>NaN</td>\n",
       "      <td>NaN</td>\n",
       "      <td>37.6070</td>\n",
       "      <td>15.2446</td>\n",
       "      <td>1.1319</td>\n",
       "      <td>17.9369</td>\n",
       "    </tr>\n",
       "    <tr>\n",
       "      <th>4</th>\n",
       "      <td>2022-01-04</td>\n",
       "      <td>1.5682</td>\n",
       "      <td>1.9558</td>\n",
       "      <td>6.4174</td>\n",
       "      <td>1.4382</td>\n",
       "      <td>1.0355</td>\n",
       "      <td>7.1924</td>\n",
       "      <td>NaN</td>\n",
       "      <td>24.745</td>\n",
       "      <td>7.4378</td>\n",
       "      <td>NaN</td>\n",
       "      <td>0.83618</td>\n",
       "      <td>NaN</td>\n",
       "      <td>8.7919</td>\n",
       "      <td>7.5185</td>\n",
       "      <td>365.12</td>\n",
       "      <td>16199.73</td>\n",
       "      <td>3.4909</td>\n",
       "      <td>84.2055</td>\n",
       "      <td>147.8</td>\n",
       "      <td>131.17</td>\n",
       "      <td>1352.91</td>\n",
       "      <td>NaN</td>\n",
       "      <td>NaN</td>\n",
       "      <td>NaN</td>\n",
       "      <td>23.1808</td>\n",
       "      <td>4.7214</td>\n",
       "      <td>10.0138</td>\n",
       "      <td>1.6668</td>\n",
       "      <td>57.988</td>\n",
       "      <td>4.5667</td>\n",
       "      <td>4.9481</td>\n",
       "      <td>84.9202</td>\n",
       "      <td>10.2808</td>\n",
       "      <td>1.5310</td>\n",
       "      <td>NaN</td>\n",
       "      <td>NaN</td>\n",
       "      <td>37.5820</td>\n",
       "      <td>15.1384</td>\n",
       "      <td>1.1279</td>\n",
       "      <td>18.1080</td>\n",
       "    </tr>\n",
       "  </tbody>\n",
       "</table>\n",
       "</div>"
      ],
      "text/plain": [
       "  Period\\Unit: [Australian dollar ] [Bulgarian lev ] [Brazilian real ]  \\\n",
       "0   2022-01-10               1.5774           1.9558            6.3969   \n",
       "1   2022-01-07               1.5804           1.9558            6.4343   \n",
       "2   2022-01-06               1.5778           1.9558            6.4420   \n",
       "3   2022-01-05               1.5600           1.9558            6.4146   \n",
       "4   2022-01-04               1.5682           1.9558            6.4174   \n",
       "\n",
       "  [Canadian dollar ] [Swiss franc ] [Chinese yuan renminbi ] [Cypriot pound ]  \\\n",
       "0             1.4327         1.0446                   7.2128              NaN   \n",
       "1             1.4374         1.0422                   7.2060              NaN   \n",
       "2             1.4451         1.0395                   7.2187              NaN   \n",
       "3             1.4399         1.0364                   7.2087              NaN   \n",
       "4             1.4382         1.0355                   7.1924              NaN   \n",
       "\n",
       "  [Czech koruna ] [Danish krone ] [Estonian kroon ] [UK pound sterling ]  \\\n",
       "0          24.357          7.4381               NaN              0.83398   \n",
       "1          24.439          7.4380               NaN              0.83430   \n",
       "2          24.528          7.4393               NaN              0.83593   \n",
       "3          24.581          7.4384               NaN              0.83546   \n",
       "4          24.745          7.4378               NaN              0.83618   \n",
       "\n",
       "  [Greek drachma ] [Hong Kong dollar ] [Croatian kuna ] [Hungarian forint ]  \\\n",
       "0              NaN              8.8233           7.5278              358.40   \n",
       "1              NaN              8.8133           7.5214              358.68   \n",
       "2              NaN              8.8272           7.5197              359.84   \n",
       "3              NaN              8.8227           7.5190              362.15   \n",
       "4              NaN              8.7919           7.5185              365.12   \n",
       "\n",
       "  [Indonesian rupiah ] [Israeli shekel ] [Indian rupee ]  [Iceland krona ]  \\\n",
       "0             16181.90            3.5303         83.8000             146.2   \n",
       "1             16188.43            3.5135         83.9780             146.0   \n",
       "2             16291.88            3.5247         84.2475             146.8   \n",
       "3             16263.02            3.4989         84.1610             146.8   \n",
       "4             16199.73            3.4909         84.2055             147.8   \n",
       "\n",
       "  [Japanese yen ] [Korean won ] [Lithuanian litas ] [Latvian lats ]  \\\n",
       "0          130.45       1355.68                 NaN             NaN   \n",
       "1          130.90       1359.96                 NaN             NaN   \n",
       "2          131.05       1362.06                 NaN             NaN   \n",
       "3          131.03       1354.61                 NaN             NaN   \n",
       "4          131.17       1352.91                 NaN             NaN   \n",
       "\n",
       "  [Maltese lira ] [Mexican peso ] [Malaysian ringgit ] [Norwegian krone ]  \\\n",
       "0             NaN         23.0597               4.7536            10.0253   \n",
       "1             NaN         23.1109               4.7553            10.0288   \n",
       "2             NaN         23.2549               4.7670            10.0350   \n",
       "3             NaN         23.1422               4.7466             9.9672   \n",
       "4             NaN         23.1808               4.7214            10.0138   \n",
       "\n",
       "  [New Zealand dollar ] [Philippine peso ] [Polish zloty ]  [Romanian leu ]  \\\n",
       "0                1.6753             58.141          4.5334           4.9449   \n",
       "1                1.6748             58.046          4.5496           4.9451   \n",
       "2                1.6752             57.943          4.5614           4.9435   \n",
       "3                1.6597             57.713          4.5666           4.9460   \n",
       "4                1.6668             57.988          4.5667           4.9481   \n",
       "\n",
       "  [Russian rouble ] [Swedish krona ] [Singapore dollar ] [Slovenian tolar ]  \\\n",
       "0           84.9825          10.3038              1.5344                NaN   \n",
       "1           85.2980          10.2839              1.5356                NaN   \n",
       "2           86.5088          10.3265              1.5388                NaN   \n",
       "3           85.7275          10.2545              1.5340                NaN   \n",
       "4           84.9202          10.2808              1.5310                NaN   \n",
       "\n",
       "  [Slovak koruna ] [Thai baht ]  [Turkish lira ] [US dollar ]  \\\n",
       "0              NaN      38.0740          15.7183       1.1318   \n",
       "1              NaN      38.0740          15.7206       1.1298   \n",
       "2              NaN      37.9620          15.5504       1.1315   \n",
       "3              NaN      37.6070          15.2446       1.1319   \n",
       "4              NaN      37.5820          15.1384       1.1279   \n",
       "\n",
       "  [South African rand ]  \n",
       "0               17.6999  \n",
       "1               17.6701  \n",
       "2               17.7932  \n",
       "3               17.9369  \n",
       "4               18.1080  "
      ]
     },
     "execution_count": 44,
     "metadata": {},
     "output_type": "execute_result"
    }
   ],
   "source": [
    "data0=pd.read_csv('../input/euro-exchange-daily-rates-19992020/euro-daily-hist_1999_2022.csv')\n",
    "data0.head()\n"
   ]
  },
  {
   "cell_type": "code",
   "execution_count": 45,
   "id": "83fd4559",
   "metadata": {
    "execution": {
     "iopub.execute_input": "2022-01-21T00:35:23.320155Z",
     "iopub.status.busy": "2022-01-21T00:35:23.319137Z",
     "iopub.status.idle": "2022-01-21T00:35:23.334324Z",
     "shell.execute_reply": "2022-01-21T00:35:23.335156Z",
     "shell.execute_reply.started": "2022-01-21T00:09:32.996304Z"
    },
    "papermill": {
     "duration": 0.234779,
     "end_time": "2022-01-21T00:35:23.335469",
     "exception": false,
     "start_time": "2022-01-21T00:35:23.100690",
     "status": "completed"
    },
    "tags": []
   },
   "outputs": [
    {
     "name": "stdout",
     "output_type": "stream",
     "text": [
      "<class 'pandas.core.frame.DataFrame'>\n",
      "RangeIndex: 5958 entries, 0 to 5957\n",
      "Data columns (total 2 columns):\n",
      " #   Column           Non-Null Count  Dtype \n",
      "---  ------           --------------  ----- \n",
      " 0   Period\\Unit:     5958 non-null   object\n",
      " 1   [Polish zloty ]  5958 non-null   object\n",
      "dtypes: object(2)\n",
      "memory usage: 93.2+ KB\n"
     ]
    }
   ],
   "source": [
    "data1=data0[['Period\\\\Unit:','[Polish zloty ]']]\n",
    "data1.info()"
   ]
  },
  {
   "cell_type": "code",
   "execution_count": 46,
   "id": "094a2481",
   "metadata": {
    "execution": {
     "iopub.execute_input": "2022-01-21T00:35:23.828668Z",
     "iopub.status.busy": "2022-01-21T00:35:23.827947Z",
     "iopub.status.idle": "2022-01-21T00:35:23.833005Z",
     "shell.execute_reply": "2022-01-21T00:35:23.832364Z",
     "shell.execute_reply.started": "2022-01-21T00:09:33.013901Z"
    },
    "papermill": {
     "duration": 0.218094,
     "end_time": "2022-01-21T00:35:23.833173",
     "exception": false,
     "start_time": "2022-01-21T00:35:23.615079",
     "status": "completed"
    },
    "tags": []
   },
   "outputs": [],
   "source": [
    "data1.columns=['Date','EUR/USD']"
   ]
  },
  {
   "cell_type": "code",
   "execution_count": 47,
   "id": "41bd2ccc",
   "metadata": {
    "execution": {
     "iopub.execute_input": "2022-01-21T00:35:24.263969Z",
     "iopub.status.busy": "2022-01-21T00:35:24.262977Z",
     "iopub.status.idle": "2022-01-21T00:35:24.268579Z",
     "shell.execute_reply": "2022-01-21T00:35:24.268011Z",
     "shell.execute_reply.started": "2022-01-21T00:09:33.030501Z"
    },
    "papermill": {
     "duration": 0.221093,
     "end_time": "2022-01-21T00:35:24.268739",
     "exception": false,
     "start_time": "2022-01-21T00:35:24.047646",
     "status": "completed"
    },
    "tags": []
   },
   "outputs": [],
   "source": [
    "drop=[]\n",
    "EURO=[]\n",
    "for i,item in enumerate(data1['EUR/USD']):\n",
    "    if item=='-':\n",
    "        drop+=[i]\n",
    "    else:\n",
    "        EURO+=[float(item)]"
   ]
  },
  {
   "cell_type": "code",
   "execution_count": 48,
   "id": "b4eb4673",
   "metadata": {
    "execution": {
     "iopub.execute_input": "2022-01-21T00:35:24.694635Z",
     "iopub.status.busy": "2022-01-21T00:35:24.693599Z",
     "iopub.status.idle": "2022-01-21T00:35:24.708124Z",
     "shell.execute_reply": "2022-01-21T00:35:24.708776Z",
     "shell.execute_reply.started": "2022-01-21T00:09:33.048535Z"
    },
    "papermill": {
     "duration": 0.229945,
     "end_time": "2022-01-21T00:35:24.708952",
     "exception": false,
     "start_time": "2022-01-21T00:35:24.479007",
     "status": "completed"
    },
    "tags": []
   },
   "outputs": [
    {
     "data": {
      "text/html": [
       "<div>\n",
       "<style scoped>\n",
       "    .dataframe tbody tr th:only-of-type {\n",
       "        vertical-align: middle;\n",
       "    }\n",
       "\n",
       "    .dataframe tbody tr th {\n",
       "        vertical-align: top;\n",
       "    }\n",
       "\n",
       "    .dataframe thead th {\n",
       "        text-align: right;\n",
       "    }\n",
       "</style>\n",
       "<table border=\"1\" class=\"dataframe\">\n",
       "  <thead>\n",
       "    <tr style=\"text-align: right;\">\n",
       "      <th></th>\n",
       "      <th>Date</th>\n",
       "      <th>EUR/USD</th>\n",
       "    </tr>\n",
       "  </thead>\n",
       "  <tbody>\n",
       "    <tr>\n",
       "      <th>0</th>\n",
       "      <td>2022-01-10</td>\n",
       "      <td>4.5334</td>\n",
       "    </tr>\n",
       "    <tr>\n",
       "      <th>1</th>\n",
       "      <td>2022-01-07</td>\n",
       "      <td>4.5496</td>\n",
       "    </tr>\n",
       "    <tr>\n",
       "      <th>2</th>\n",
       "      <td>2022-01-06</td>\n",
       "      <td>4.5614</td>\n",
       "    </tr>\n",
       "    <tr>\n",
       "      <th>3</th>\n",
       "      <td>2022-01-05</td>\n",
       "      <td>4.5666</td>\n",
       "    </tr>\n",
       "    <tr>\n",
       "      <th>4</th>\n",
       "      <td>2022-01-04</td>\n",
       "      <td>4.5667</td>\n",
       "    </tr>\n",
       "    <tr>\n",
       "      <th>...</th>\n",
       "      <td>...</td>\n",
       "      <td>...</td>\n",
       "    </tr>\n",
       "    <tr>\n",
       "      <th>5953</th>\n",
       "      <td>1999-01-08</td>\n",
       "      <td>4.0363</td>\n",
       "    </tr>\n",
       "    <tr>\n",
       "      <th>5954</th>\n",
       "      <td>1999-01-07</td>\n",
       "      <td>4.0165</td>\n",
       "    </tr>\n",
       "    <tr>\n",
       "      <th>5955</th>\n",
       "      <td>1999-01-06</td>\n",
       "      <td>4.0065</td>\n",
       "    </tr>\n",
       "    <tr>\n",
       "      <th>5956</th>\n",
       "      <td>1999-01-05</td>\n",
       "      <td>4.0245</td>\n",
       "    </tr>\n",
       "    <tr>\n",
       "      <th>5957</th>\n",
       "      <td>1999-01-04</td>\n",
       "      <td>4.0712</td>\n",
       "    </tr>\n",
       "  </tbody>\n",
       "</table>\n",
       "<p>5896 rows × 2 columns</p>\n",
       "</div>"
      ],
      "text/plain": [
       "            Date  EUR/USD\n",
       "0     2022-01-10   4.5334\n",
       "1     2022-01-07   4.5496\n",
       "2     2022-01-06   4.5614\n",
       "3     2022-01-05   4.5666\n",
       "4     2022-01-04   4.5667\n",
       "...          ...      ...\n",
       "5953  1999-01-08   4.0363\n",
       "5954  1999-01-07   4.0165\n",
       "5955  1999-01-06   4.0065\n",
       "5956  1999-01-05   4.0245\n",
       "5957  1999-01-04   4.0712\n",
       "\n",
       "[5896 rows x 2 columns]"
      ]
     },
     "execution_count": 48,
     "metadata": {},
     "output_type": "execute_result"
    }
   ],
   "source": [
    "data1=data1.drop(index=drop)\n",
    "data1['EUR/USD']=EURO\n",
    "data1"
   ]
  },
  {
   "cell_type": "code",
   "execution_count": 49,
   "id": "49f5412f",
   "metadata": {
    "execution": {
     "iopub.execute_input": "2022-01-21T00:35:25.133906Z",
     "iopub.status.busy": "2022-01-21T00:35:25.127470Z",
     "iopub.status.idle": "2022-01-21T00:35:25.142152Z",
     "shell.execute_reply": "2022-01-21T00:35:25.142766Z",
     "shell.execute_reply.started": "2022-01-21T00:09:33.073160Z"
    },
    "papermill": {
     "duration": 0.226622,
     "end_time": "2022-01-21T00:35:25.142946",
     "exception": false,
     "start_time": "2022-01-21T00:35:24.916324",
     "status": "completed"
    },
    "tags": []
   },
   "outputs": [
    {
     "name": "stdout",
     "output_type": "stream",
     "text": [
      "<class 'pandas.core.frame.DataFrame'>\n",
      "Int64Index: 5896 entries, 0 to 5957\n",
      "Data columns (total 2 columns):\n",
      " #   Column   Non-Null Count  Dtype  \n",
      "---  ------   --------------  -----  \n",
      " 0   Date     5896 non-null   object \n",
      " 1   EUR/USD  5896 non-null   float64\n",
      "dtypes: float64(1), object(1)\n",
      "memory usage: 138.2+ KB\n"
     ]
    }
   ],
   "source": [
    "data1.info()"
   ]
  },
  {
   "cell_type": "code",
   "execution_count": 50,
   "id": "299c3054",
   "metadata": {
    "execution": {
     "iopub.execute_input": "2022-01-21T00:35:25.567359Z",
     "iopub.status.busy": "2022-01-21T00:35:25.566688Z",
     "iopub.status.idle": "2022-01-21T00:35:25.583408Z",
     "shell.execute_reply": "2022-01-21T00:35:25.582851Z",
     "shell.execute_reply.started": "2022-01-21T00:09:33.433634Z"
    },
    "papermill": {
     "duration": 0.23135,
     "end_time": "2022-01-21T00:35:25.583568",
     "exception": false,
     "start_time": "2022-01-21T00:35:25.352218",
     "status": "completed"
    },
    "tags": []
   },
   "outputs": [
    {
     "data": {
      "text/html": [
       "<div>\n",
       "<style scoped>\n",
       "    .dataframe tbody tr th:only-of-type {\n",
       "        vertical-align: middle;\n",
       "    }\n",
       "\n",
       "    .dataframe tbody tr th {\n",
       "        vertical-align: top;\n",
       "    }\n",
       "\n",
       "    .dataframe thead th {\n",
       "        text-align: right;\n",
       "    }\n",
       "</style>\n",
       "<table border=\"1\" class=\"dataframe\">\n",
       "  <thead>\n",
       "    <tr style=\"text-align: right;\">\n",
       "      <th></th>\n",
       "      <th>EUR/USD</th>\n",
       "    </tr>\n",
       "    <tr>\n",
       "      <th>Date</th>\n",
       "      <th></th>\n",
       "    </tr>\n",
       "  </thead>\n",
       "  <tbody>\n",
       "    <tr>\n",
       "      <th>2022-01-10</th>\n",
       "      <td>4.5334</td>\n",
       "    </tr>\n",
       "    <tr>\n",
       "      <th>2022-01-07</th>\n",
       "      <td>4.5496</td>\n",
       "    </tr>\n",
       "    <tr>\n",
       "      <th>2022-01-06</th>\n",
       "      <td>4.5614</td>\n",
       "    </tr>\n",
       "    <tr>\n",
       "      <th>2022-01-05</th>\n",
       "      <td>4.5666</td>\n",
       "    </tr>\n",
       "    <tr>\n",
       "      <th>2022-01-04</th>\n",
       "      <td>4.5667</td>\n",
       "    </tr>\n",
       "    <tr>\n",
       "      <th>...</th>\n",
       "      <td>...</td>\n",
       "    </tr>\n",
       "    <tr>\n",
       "      <th>1999-01-08</th>\n",
       "      <td>4.0363</td>\n",
       "    </tr>\n",
       "    <tr>\n",
       "      <th>1999-01-07</th>\n",
       "      <td>4.0165</td>\n",
       "    </tr>\n",
       "    <tr>\n",
       "      <th>1999-01-06</th>\n",
       "      <td>4.0065</td>\n",
       "    </tr>\n",
       "    <tr>\n",
       "      <th>1999-01-05</th>\n",
       "      <td>4.0245</td>\n",
       "    </tr>\n",
       "    <tr>\n",
       "      <th>1999-01-04</th>\n",
       "      <td>4.0712</td>\n",
       "    </tr>\n",
       "  </tbody>\n",
       "</table>\n",
       "<p>5896 rows × 1 columns</p>\n",
       "</div>"
      ],
      "text/plain": [
       "            EUR/USD\n",
       "Date               \n",
       "2022-01-10   4.5334\n",
       "2022-01-07   4.5496\n",
       "2022-01-06   4.5614\n",
       "2022-01-05   4.5666\n",
       "2022-01-04   4.5667\n",
       "...             ...\n",
       "1999-01-08   4.0363\n",
       "1999-01-07   4.0165\n",
       "1999-01-06   4.0065\n",
       "1999-01-05   4.0245\n",
       "1999-01-04   4.0712\n",
       "\n",
       "[5896 rows x 1 columns]"
      ]
     },
     "execution_count": 50,
     "metadata": {},
     "output_type": "execute_result"
    }
   ],
   "source": [
    "data1.index = pd.DatetimeIndex(data1[\"Date\"])\n",
    "data1.drop([\"Date\"],axis=1,inplace=True)\n",
    "data1"
   ]
  },
  {
   "cell_type": "code",
   "execution_count": 51,
   "id": "739b1c54",
   "metadata": {
    "execution": {
     "iopub.execute_input": "2022-01-21T00:35:26.009279Z",
     "iopub.status.busy": "2022-01-21T00:35:26.008607Z",
     "iopub.status.idle": "2022-01-21T00:35:26.027400Z",
     "shell.execute_reply": "2022-01-21T00:35:26.026810Z",
     "shell.execute_reply.started": "2022-01-21T00:09:33.454178Z"
    },
    "papermill": {
     "duration": 0.233768,
     "end_time": "2022-01-21T00:35:26.027545",
     "exception": false,
     "start_time": "2022-01-21T00:35:25.793777",
     "status": "completed"
    },
    "tags": []
   },
   "outputs": [
    {
     "name": "stdout",
     "output_type": "stream",
     "text": [
      "<class 'pandas.core.frame.DataFrame'>\n",
      "DatetimeIndex: 8408 entries, 1999-01-04 to 2022-01-10\n",
      "Freq: D\n",
      "Data columns (total 1 columns):\n",
      " #   Column   Non-Null Count  Dtype  \n",
      "---  ------   --------------  -----  \n",
      " 0   EUR/USD  5896 non-null   float64\n",
      "dtypes: float64(1)\n",
      "memory usage: 131.4 KB\n"
     ]
    }
   ],
   "source": [
    "data1 = data1.asfreq('d')\n",
    "data1.info()"
   ]
  },
  {
   "cell_type": "code",
   "execution_count": 52,
   "id": "ac8d7a08",
   "metadata": {
    "execution": {
     "iopub.execute_input": "2022-01-21T00:35:26.495917Z",
     "iopub.status.busy": "2022-01-21T00:35:26.484078Z",
     "iopub.status.idle": "2022-01-21T00:35:26.499475Z",
     "shell.execute_reply": "2022-01-21T00:35:26.500086Z",
     "shell.execute_reply.started": "2022-01-21T00:09:33.481836Z"
    },
    "papermill": {
     "duration": 0.256396,
     "end_time": "2022-01-21T00:35:26.500274",
     "exception": false,
     "start_time": "2022-01-21T00:35:26.243878",
     "status": "completed"
    },
    "tags": []
   },
   "outputs": [
    {
     "name": "stdout",
     "output_type": "stream",
     "text": [
      "<class 'pandas.core.frame.DataFrame'>\n",
      "DatetimeIndex: 8408 entries, 1999-01-04 to 2022-01-10\n",
      "Freq: D\n",
      "Data columns (total 1 columns):\n",
      " #   Column   Non-Null Count  Dtype  \n",
      "---  ------   --------------  -----  \n",
      " 0   EUR/USD  8408 non-null   float64\n",
      "dtypes: float64(1)\n",
      "memory usage: 131.4 KB\n"
     ]
    }
   ],
   "source": [
    "data2=data1.fillna(method='ffill')\n",
    "data2.info()"
   ]
  },
  {
   "cell_type": "code",
   "execution_count": 53,
   "id": "901c1eee",
   "metadata": {
    "execution": {
     "iopub.execute_input": "2022-01-21T00:35:26.931652Z",
     "iopub.status.busy": "2022-01-21T00:35:26.930845Z",
     "iopub.status.idle": "2022-01-21T00:35:26.941983Z",
     "shell.execute_reply": "2022-01-21T00:35:26.942599Z",
     "shell.execute_reply.started": "2022-01-21T00:09:33.498284Z"
    },
    "papermill": {
     "duration": 0.227196,
     "end_time": "2022-01-21T00:35:26.942776",
     "exception": false,
     "start_time": "2022-01-21T00:35:26.715580",
     "status": "completed"
    },
    "tags": []
   },
   "outputs": [
    {
     "name": "stdout",
     "output_type": "stream",
     "text": [
      "<class 'pandas.core.series.Series'>\n"
     ]
    },
    {
     "data": {
      "text/plain": [
       "Date\n",
       "1999-01-04    4.0712\n",
       "1999-01-05    4.0245\n",
       "1999-01-06    4.0065\n",
       "1999-01-07    4.0165\n",
       "1999-01-08    4.0363\n",
       "               ...  \n",
       "2022-01-06    4.5614\n",
       "2022-01-07    4.5496\n",
       "2022-01-08    4.5496\n",
       "2022-01-09    4.5496\n",
       "2022-01-10    4.5334\n",
       "Freq: D, Name: EUR/USD, Length: 8408, dtype: float64"
      ]
     },
     "execution_count": 53,
     "metadata": {},
     "output_type": "execute_result"
    }
   ],
   "source": [
    "# data must be univariate\n",
    "data=data2['EUR/USD']\n",
    "print(type(data))\n",
    "data"
   ]
  },
  {
   "cell_type": "code",
   "execution_count": 54,
   "id": "16a372d3",
   "metadata": {
    "execution": {
     "iopub.execute_input": "2022-01-21T00:35:27.373046Z",
     "iopub.status.busy": "2022-01-21T00:35:27.372378Z",
     "iopub.status.idle": "2022-01-21T00:35:29.096841Z",
     "shell.execute_reply": "2022-01-21T00:35:29.097359Z",
     "shell.execute_reply.started": "2022-01-21T00:09:33.512461Z"
    },
    "papermill": {
     "duration": 1.943323,
     "end_time": "2022-01-21T00:35:29.097536",
     "exception": false,
     "start_time": "2022-01-21T00:35:27.154213",
     "status": "completed"
    },
    "tags": []
   },
   "outputs": [
    {
     "data": {
      "image/png": "[encoded data removed]",
      "text/plain": [
       "<Figure size 1152x288 with 1 Axes>"
      ]
     },
     "metadata": {},
     "output_type": "display_data"
    }
   ],
   "source": [
    "# plot_series\n",
    "_ =plot_series(data)\n",
    "plt.xticks(rotation=90)\n",
    "plt.grid()"
   ]
  },
  {
   "cell_type": "code",
   "execution_count": 55,
   "id": "004e72cf",
   "metadata": {
    "execution": {
     "iopub.execute_input": "2022-01-21T00:35:29.562915Z",
     "iopub.status.busy": "2022-01-21T00:35:29.546579Z",
     "iopub.status.idle": "2022-01-21T00:35:30.730554Z",
     "shell.execute_reply": "2022-01-21T00:35:30.729903Z",
     "shell.execute_reply.started": "2022-01-21T00:09:35.246654Z"
    },
    "papermill": {
     "duration": 1.41826,
     "end_time": "2022-01-21T00:35:30.730711",
     "exception": false,
     "start_time": "2022-01-21T00:35:29.312451",
     "status": "completed"
    },
    "tags": []
   },
   "outputs": [
    {
     "data": {
      "text/html": [
       "<style type=\"text/css\">\n",
       "#T_5157b_row9_col1, #T_5157b_row11_col1, #T_5157b_row13_col1 {\n",
       "  background-color: lightgreen;\n",
       "}\n",
       "</style>\n",
       "<table id=\"T_5157b_\">\n",
       "  <thead>\n",
       "    <tr>\n",
       "      <th class=\"blank level0\" >&nbsp;</th>\n",
       "      <th class=\"col_heading level0 col0\" >Description</th>\n",
       "      <th class=\"col_heading level0 col1\" >Value</th>\n",
       "    </tr>\n",
       "  </thead>\n",
       "  <tbody>\n",
       "    <tr>\n",
       "      <th id=\"T_5157b_level0_row0\" class=\"row_heading level0 row0\" >0</th>\n",
       "      <td id=\"T_5157b_row0_col0\" class=\"data row0 col0\" >session_id</td>\n",
       "      <td id=\"T_5157b_row0_col1\" class=\"data row0 col1\" >42</td>\n",
       "    </tr>\n",
       "    <tr>\n",
       "      <th id=\"T_5157b_level0_row1\" class=\"row_heading level0 row1\" >1</th>\n",
       "      <td id=\"T_5157b_row1_col0\" class=\"data row1 col0\" >Original Data</td>\n",
       "      <td id=\"T_5157b_row1_col1\" class=\"data row1 col1\" >(8408, 1)</td>\n",
       "    </tr>\n",
       "    <tr>\n",
       "      <th id=\"T_5157b_level0_row2\" class=\"row_heading level0 row2\" >2</th>\n",
       "      <td id=\"T_5157b_row2_col0\" class=\"data row2 col0\" >Missing Values</td>\n",
       "      <td id=\"T_5157b_row2_col1\" class=\"data row2 col1\" >False</td>\n",
       "    </tr>\n",
       "    <tr>\n",
       "      <th id=\"T_5157b_level0_row3\" class=\"row_heading level0 row3\" >3</th>\n",
       "      <td id=\"T_5157b_row3_col0\" class=\"data row3 col0\" >Transformed Train Set</td>\n",
       "      <td id=\"T_5157b_row3_col1\" class=\"data row3 col1\" >(8378,)</td>\n",
       "    </tr>\n",
       "    <tr>\n",
       "      <th id=\"T_5157b_level0_row4\" class=\"row_heading level0 row4\" >4</th>\n",
       "      <td id=\"T_5157b_row4_col0\" class=\"data row4 col0\" >Transformed Test Set</td>\n",
       "      <td id=\"T_5157b_row4_col1\" class=\"data row4 col1\" >(30,)</td>\n",
       "    </tr>\n",
       "    <tr>\n",
       "      <th id=\"T_5157b_level0_row5\" class=\"row_heading level0 row5\" >5</th>\n",
       "      <td id=\"T_5157b_row5_col0\" class=\"data row5 col0\" >Fold Generator</td>\n",
       "      <td id=\"T_5157b_row5_col1\" class=\"data row5 col1\" >ExpandingWindowSplitter</td>\n",
       "    </tr>\n",
       "    <tr>\n",
       "      <th id=\"T_5157b_level0_row6\" class=\"row_heading level0 row6\" >6</th>\n",
       "      <td id=\"T_5157b_row6_col0\" class=\"data row6 col0\" >Fold Number</td>\n",
       "      <td id=\"T_5157b_row6_col1\" class=\"data row6 col1\" >3</td>\n",
       "    </tr>\n",
       "    <tr>\n",
       "      <th id=\"T_5157b_level0_row7\" class=\"row_heading level0 row7\" >7</th>\n",
       "      <td id=\"T_5157b_row7_col0\" class=\"data row7 col0\" >Enforce Prediction Interval</td>\n",
       "      <td id=\"T_5157b_row7_col1\" class=\"data row7 col1\" >False</td>\n",
       "    </tr>\n",
       "    <tr>\n",
       "      <th id=\"T_5157b_level0_row8\" class=\"row_heading level0 row8\" >8</th>\n",
       "      <td id=\"T_5157b_row8_col0\" class=\"data row8 col0\" >Seasonal Period Tested</td>\n",
       "      <td id=\"T_5157b_row8_col1\" class=\"data row8 col1\" >7</td>\n",
       "    </tr>\n",
       "    <tr>\n",
       "      <th id=\"T_5157b_level0_row9\" class=\"row_heading level0 row9\" >9</th>\n",
       "      <td id=\"T_5157b_row9_col0\" class=\"data row9 col0\" >Seasonality Detected</td>\n",
       "      <td id=\"T_5157b_row9_col1\" class=\"data row9 col1\" >True</td>\n",
       "    </tr>\n",
       "    <tr>\n",
       "      <th id=\"T_5157b_level0_row10\" class=\"row_heading level0 row10\" >10</th>\n",
       "      <td id=\"T_5157b_row10_col0\" class=\"data row10 col0\" >Seasonality Used in Models</td>\n",
       "      <td id=\"T_5157b_row10_col1\" class=\"data row10 col1\" >7</td>\n",
       "    </tr>\n",
       "    <tr>\n",
       "      <th id=\"T_5157b_level0_row11\" class=\"row_heading level0 row11\" >11</th>\n",
       "      <td id=\"T_5157b_row11_col0\" class=\"data row11 col0\" >Target Strictly Positive</td>\n",
       "      <td id=\"T_5157b_row11_col1\" class=\"data row11 col1\" >True</td>\n",
       "    </tr>\n",
       "    <tr>\n",
       "      <th id=\"T_5157b_level0_row12\" class=\"row_heading level0 row12\" >12</th>\n",
       "      <td id=\"T_5157b_row12_col0\" class=\"data row12 col0\" >Target White Noise</td>\n",
       "      <td id=\"T_5157b_row12_col1\" class=\"data row12 col1\" >No</td>\n",
       "    </tr>\n",
       "    <tr>\n",
       "      <th id=\"T_5157b_level0_row13\" class=\"row_heading level0 row13\" >13</th>\n",
       "      <td id=\"T_5157b_row13_col0\" class=\"data row13 col0\" >Recommended d</td>\n",
       "      <td id=\"T_5157b_row13_col1\" class=\"data row13 col1\" >1</td>\n",
       "    </tr>\n",
       "    <tr>\n",
       "      <th id=\"T_5157b_level0_row14\" class=\"row_heading level0 row14\" >14</th>\n",
       "      <td id=\"T_5157b_row14_col0\" class=\"data row14 col0\" >Recommended Seasonal D</td>\n",
       "      <td id=\"T_5157b_row14_col1\" class=\"data row14 col1\" >0</td>\n",
       "    </tr>\n",
       "    <tr>\n",
       "      <th id=\"T_5157b_level0_row15\" class=\"row_heading level0 row15\" >15</th>\n",
       "      <td id=\"T_5157b_row15_col0\" class=\"data row15 col0\" >CPU Jobs</td>\n",
       "      <td id=\"T_5157b_row15_col1\" class=\"data row15 col1\" >-1</td>\n",
       "    </tr>\n",
       "    <tr>\n",
       "      <th id=\"T_5157b_level0_row16\" class=\"row_heading level0 row16\" >16</th>\n",
       "      <td id=\"T_5157b_row16_col0\" class=\"data row16 col0\" >Use GPU</td>\n",
       "      <td id=\"T_5157b_row16_col1\" class=\"data row16 col1\" >False</td>\n",
       "    </tr>\n",
       "    <tr>\n",
       "      <th id=\"T_5157b_level0_row17\" class=\"row_heading level0 row17\" >17</th>\n",
       "      <td id=\"T_5157b_row17_col0\" class=\"data row17 col0\" >Log Experiment</td>\n",
       "      <td id=\"T_5157b_row17_col1\" class=\"data row17 col1\" >False</td>\n",
       "    </tr>\n",
       "    <tr>\n",
       "      <th id=\"T_5157b_level0_row18\" class=\"row_heading level0 row18\" >18</th>\n",
       "      <td id=\"T_5157b_row18_col0\" class=\"data row18 col0\" >Experiment Name</td>\n",
       "      <td id=\"T_5157b_row18_col1\" class=\"data row18 col1\" >ts-default-name</td>\n",
       "    </tr>\n",
       "    <tr>\n",
       "      <th id=\"T_5157b_level0_row19\" class=\"row_heading level0 row19\" >19</th>\n",
       "      <td id=\"T_5157b_row19_col0\" class=\"data row19 col0\" >USI</td>\n",
       "      <td id=\"T_5157b_row19_col1\" class=\"data row19 col1\" >a304</td>\n",
       "    </tr>\n",
       "    <tr>\n",
       "      <th id=\"T_5157b_level0_row20\" class=\"row_heading level0 row20\" >20</th>\n",
       "      <td id=\"T_5157b_row20_col0\" class=\"data row20 col0\" >Imputation Type</td>\n",
       "      <td id=\"T_5157b_row20_col1\" class=\"data row20 col1\" >simple</td>\n",
       "    </tr>\n",
       "  </tbody>\n",
       "</table>\n"
      ],
      "text/plain": [
       "<pandas.io.formats.style.Styler at 0x7f4fca77da10>"
      ]
     },
     "metadata": {},
     "output_type": "display_data"
    },
    {
     "data": {
      "text/plain": [
       "<pycaret.internal.pycaret_experiment.time_series_experiment.TimeSeriesExperiment at 0x7f4fca7f2e10>"
      ]
     },
     "execution_count": 55,
     "metadata": {},
     "output_type": "execute_result"
    }
   ],
   "source": [
    "#TimeSeriesExperiment from pycarat\n",
    "exp = TimeSeriesExperiment()\n",
    "exp.setup(data=data,session_id=42,fh=30)"
   ]
  },
  {
   "cell_type": "code",
   "execution_count": 56,
   "id": "73e9ad2a",
   "metadata": {
    "execution": {
     "iopub.execute_input": "2022-01-21T00:35:31.171050Z",
     "iopub.status.busy": "2022-01-21T00:35:31.169912Z",
     "iopub.status.idle": "2022-01-21T00:35:41.489666Z",
     "shell.execute_reply": "2022-01-21T00:35:41.490189Z",
     "shell.execute_reply.started": "2022-01-21T00:09:35.841979Z"
    },
    "papermill": {
     "duration": 10.543491,
     "end_time": "2022-01-21T00:35:41.490385",
     "exception": false,
     "start_time": "2022-01-21T00:35:30.946894",
     "status": "completed"
    },
    "tags": []
   },
   "outputs": [
    {
     "data": {
      "text/html": [
       "<style type=\"text/css\">\n",
       "#T_a0aa0_row3_col0, #T_a0aa0_row3_col1, #T_a0aa0_row3_col2, #T_a0aa0_row3_col3, #T_a0aa0_row3_col4, #T_a0aa0_row3_col5, #T_a0aa0_row3_col6 {\n",
       "  background: yellow;\n",
       "}\n",
       "</style>\n",
       "<table id=\"T_a0aa0_\">\n",
       "  <thead>\n",
       "    <tr>\n",
       "      <th class=\"blank level0\" >&nbsp;</th>\n",
       "      <th class=\"col_heading level0 col0\" >cutoff</th>\n",
       "      <th class=\"col_heading level0 col1\" >MAE</th>\n",
       "      <th class=\"col_heading level0 col2\" >RMSE</th>\n",
       "      <th class=\"col_heading level0 col3\" >MAPE</th>\n",
       "      <th class=\"col_heading level0 col4\" >SMAPE</th>\n",
       "      <th class=\"col_heading level0 col5\" >MASE</th>\n",
       "      <th class=\"col_heading level0 col6\" >R2</th>\n",
       "    </tr>\n",
       "  </thead>\n",
       "  <tbody>\n",
       "    <tr>\n",
       "      <th id=\"T_a0aa0_level0_row0\" class=\"row_heading level0 row0\" >0</th>\n",
       "      <td id=\"T_a0aa0_row0_col0\" class=\"data row0 col0\" >2021-09-12</td>\n",
       "      <td id=\"T_a0aa0_row0_col1\" class=\"data row0 col1\" >0.0399</td>\n",
       "      <td id=\"T_a0aa0_row0_col2\" class=\"data row0 col2\" >0.0456</td>\n",
       "      <td id=\"T_a0aa0_row0_col3\" class=\"data row0 col3\" >0.0087</td>\n",
       "      <td id=\"T_a0aa0_row0_col4\" class=\"data row0 col4\" >0.0087</td>\n",
       "      <td id=\"T_a0aa0_row0_col5\" class=\"data row0 col5\" >1.1449</td>\n",
       "      <td id=\"T_a0aa0_row0_col6\" class=\"data row0 col6\" >-2.7120</td>\n",
       "    </tr>\n",
       "    <tr>\n",
       "      <th id=\"T_a0aa0_level0_row1\" class=\"row_heading level0 row1\" >1</th>\n",
       "      <td id=\"T_a0aa0_row1_col0\" class=\"data row1 col0\" >2021-10-12</td>\n",
       "      <td id=\"T_a0aa0_row1_col1\" class=\"data row1 col1\" >0.0298</td>\n",
       "      <td id=\"T_a0aa0_row1_col2\" class=\"data row1 col2\" >0.0402</td>\n",
       "      <td id=\"T_a0aa0_row1_col3\" class=\"data row1 col3\" >0.0065</td>\n",
       "      <td id=\"T_a0aa0_row1_col4\" class=\"data row1 col4\" >0.0065</td>\n",
       "      <td id=\"T_a0aa0_row1_col5\" class=\"data row1 col5\" >0.8542</td>\n",
       "      <td id=\"T_a0aa0_row1_col6\" class=\"data row1 col6\" >-3.3750</td>\n",
       "    </tr>\n",
       "    <tr>\n",
       "      <th id=\"T_a0aa0_level0_row2\" class=\"row_heading level0 row2\" >2</th>\n",
       "      <td id=\"T_a0aa0_row2_col0\" class=\"data row2 col0\" >2021-11-11</td>\n",
       "      <td id=\"T_a0aa0_row2_col1\" class=\"data row2 col1\" >0.0447</td>\n",
       "      <td id=\"T_a0aa0_row2_col2\" class=\"data row2 col2\" >0.0517</td>\n",
       "      <td id=\"T_a0aa0_row2_col3\" class=\"data row2 col3\" >0.0096</td>\n",
       "      <td id=\"T_a0aa0_row2_col4\" class=\"data row2 col4\" >0.0096</td>\n",
       "      <td id=\"T_a0aa0_row2_col5\" class=\"data row2 col5\" >1.2821</td>\n",
       "      <td id=\"T_a0aa0_row2_col6\" class=\"data row2 col6\" >-0.5409</td>\n",
       "    </tr>\n",
       "    <tr>\n",
       "      <th id=\"T_a0aa0_level0_row3\" class=\"row_heading level0 row3\" >Mean</th>\n",
       "      <td id=\"T_a0aa0_row3_col0\" class=\"data row3 col0\" >NaT</td>\n",
       "      <td id=\"T_a0aa0_row3_col1\" class=\"data row3 col1\" >0.0381</td>\n",
       "      <td id=\"T_a0aa0_row3_col2\" class=\"data row3 col2\" >0.0459</td>\n",
       "      <td id=\"T_a0aa0_row3_col3\" class=\"data row3 col3\" >0.0082</td>\n",
       "      <td id=\"T_a0aa0_row3_col4\" class=\"data row3 col4\" >0.0083</td>\n",
       "      <td id=\"T_a0aa0_row3_col5\" class=\"data row3 col5\" >1.0937</td>\n",
       "      <td id=\"T_a0aa0_row3_col6\" class=\"data row3 col6\" >-2.2093</td>\n",
       "    </tr>\n",
       "    <tr>\n",
       "      <th id=\"T_a0aa0_level0_row4\" class=\"row_heading level0 row4\" >SD</th>\n",
       "      <td id=\"T_a0aa0_row4_col0\" class=\"data row4 col0\" >NaT</td>\n",
       "      <td id=\"T_a0aa0_row4_col1\" class=\"data row4 col1\" >0.0062</td>\n",
       "      <td id=\"T_a0aa0_row4_col2\" class=\"data row4 col2\" >0.0047</td>\n",
       "      <td id=\"T_a0aa0_row4_col3\" class=\"data row4 col3\" >0.0013</td>\n",
       "      <td id=\"T_a0aa0_row4_col4\" class=\"data row4 col4\" >0.0013</td>\n",
       "      <td id=\"T_a0aa0_row4_col5\" class=\"data row4 col5\" >0.1784</td>\n",
       "      <td id=\"T_a0aa0_row4_col6\" class=\"data row4 col6\" >1.2104</td>\n",
       "    </tr>\n",
       "  </tbody>\n",
       "</table>\n"
      ],
      "text/plain": [
       "<pandas.io.formats.style.Styler at 0x7f4f9ddfd690>"
      ]
     },
     "metadata": {},
     "output_type": "display_data"
    },
    {
     "data": {
      "text/plain": [
       "ARIMA(maxiter=50, method='lbfgs', order=(1, 0, 0), out_of_sample_size=0,\n",
       "      scoring='mse', scoring_args=None, seasonal_order=(0, 1, 0, 7),\n",
       "      start_params=None, suppress_warnings=False, trend=None,\n",
       "      with_intercept=True)"
      ]
     },
     "execution_count": 56,
     "metadata": {},
     "output_type": "execute_result"
    }
   ],
   "source": [
    "#ARIMA\n",
    "model = exp.create_model(\"arima\")\n",
    "model"
   ]
  },
  {
   "cell_type": "code",
   "execution_count": 57,
   "id": "cbfe2373",
   "metadata": {
    "execution": {
     "iopub.execute_input": "2022-01-21T00:35:41.927136Z",
     "iopub.status.busy": "2022-01-21T00:35:41.926456Z",
     "iopub.status.idle": "2022-01-21T00:35:41.937274Z",
     "shell.execute_reply": "2022-01-21T00:35:41.937851Z",
     "shell.execute_reply.started": "2022-01-21T00:09:46.658348Z"
    },
    "papermill": {
     "duration": 0.229761,
     "end_time": "2022-01-21T00:35:41.938033",
     "exception": false,
     "start_time": "2022-01-21T00:35:41.708272",
     "status": "completed"
    },
    "tags": []
   },
   "outputs": [
    {
     "data": {
      "text/plain": [
       "1999-01-09    4.0363\n",
       "1999-01-10    4.0363\n",
       "1999-01-11    4.0320\n",
       "1999-01-12    4.0330\n",
       "1999-01-13    4.2033\n",
       "               ...  \n",
       "2021-12-07    4.5942\n",
       "2021-12-08    4.5962\n",
       "2021-12-09    4.6045\n",
       "2021-12-10    4.6123\n",
       "2021-12-11    4.6123\n",
       "Freq: D, Name: EUR/USD, Length: 8373, dtype: float64"
      ]
     },
     "execution_count": 57,
     "metadata": {},
     "output_type": "execute_result"
    }
   ],
   "source": [
    "y_train = exp.get_config(\"y_train\")\n",
    "y_train[5:]"
   ]
  },
  {
   "cell_type": "code",
   "execution_count": 58,
   "id": "8b34a0e6",
   "metadata": {
    "execution": {
     "iopub.execute_input": "2022-01-21T00:35:42.391210Z",
     "iopub.status.busy": "2022-01-21T00:35:42.390575Z",
     "iopub.status.idle": "2022-01-21T00:35:42.748737Z",
     "shell.execute_reply": "2022-01-21T00:35:42.748142Z",
     "shell.execute_reply.started": "2022-01-21T00:09:46.673015Z"
    },
    "papermill": {
     "duration": 0.585891,
     "end_time": "2022-01-21T00:35:42.748898",
     "exception": false,
     "start_time": "2022-01-21T00:35:42.163007",
     "status": "completed"
    },
    "tags": []
   },
   "outputs": [
    {
     "data": {
      "text/html": [
       "<style type=\"text/css\">\n",
       "</style>\n",
       "<table id=\"T_d32ce_\">\n",
       "  <thead>\n",
       "    <tr>\n",
       "      <th class=\"blank level0\" >&nbsp;</th>\n",
       "      <th class=\"col_heading level0 col0\" >Model</th>\n",
       "      <th class=\"col_heading level0 col1\" >MAE</th>\n",
       "      <th class=\"col_heading level0 col2\" >RMSE</th>\n",
       "      <th class=\"col_heading level0 col3\" >MAPE</th>\n",
       "      <th class=\"col_heading level0 col4\" >SMAPE</th>\n",
       "      <th class=\"col_heading level0 col5\" >MASE</th>\n",
       "      <th class=\"col_heading level0 col6\" >R2</th>\n",
       "    </tr>\n",
       "  </thead>\n",
       "  <tbody>\n",
       "    <tr>\n",
       "      <th id=\"T_d32ce_level0_row0\" class=\"row_heading level0 row0\" >0</th>\n",
       "      <td id=\"T_d32ce_row0_col0\" class=\"data row0 col0\" >ARIMA</td>\n",
       "      <td id=\"T_d32ce_row0_col1\" class=\"data row0 col1\" >0.0266</td>\n",
       "      <td id=\"T_d32ce_row0_col2\" class=\"data row0 col2\" >0.0349</td>\n",
       "      <td id=\"T_d32ce_row0_col3\" class=\"data row0 col3\" >0.0058</td>\n",
       "      <td id=\"T_d32ce_row0_col4\" class=\"data row0 col4\" >0.0058</td>\n",
       "      <td id=\"T_d32ce_row0_col5\" class=\"data row0 col5\" >0.7640</td>\n",
       "      <td id=\"T_d32ce_row0_col6\" class=\"data row0 col6\" >-0.3179</td>\n",
       "    </tr>\n",
       "  </tbody>\n",
       "</table>\n"
      ],
      "text/plain": [
       "<pandas.io.formats.style.Styler at 0x7f4f9dea0750>"
      ]
     },
     "metadata": {},
     "output_type": "display_data"
    }
   ],
   "source": [
    "y_predict = exp.predict_model(model)\n",
    "#plot_series(data, y_train, y_predict, labels=['All','Train','Test Predictions','Future Prediciton'])\n",
    "#plt.grid()"
   ]
  },
  {
   "cell_type": "code",
   "execution_count": 59,
   "id": "76aa4034",
   "metadata": {
    "execution": {
     "iopub.execute_input": "2022-01-21T00:35:43.222634Z",
     "iopub.status.busy": "2022-01-21T00:35:43.221921Z",
     "iopub.status.idle": "2022-01-21T00:37:27.273218Z",
     "shell.execute_reply": "2022-01-21T00:37:27.270425Z",
     "shell.execute_reply.started": "2022-01-21T00:09:47.160745Z"
    },
    "papermill": {
     "duration": 104.299168,
     "end_time": "2022-01-21T00:37:27.273400",
     "exception": false,
     "start_time": "2022-01-21T00:35:42.974232",
     "status": "completed"
    },
    "tags": []
   },
   "outputs": [
    {
     "data": {
      "text/html": [
       "<style type=\"text/css\">\n",
       "#T_99a69_row3_col0, #T_99a69_row3_col1, #T_99a69_row3_col2, #T_99a69_row3_col3, #T_99a69_row3_col4, #T_99a69_row3_col5, #T_99a69_row3_col6 {\n",
       "  background: yellow;\n",
       "}\n",
       "</style>\n",
       "<table id=\"T_99a69_\">\n",
       "  <thead>\n",
       "    <tr>\n",
       "      <th class=\"blank level0\" >&nbsp;</th>\n",
       "      <th class=\"col_heading level0 col0\" >cutoff</th>\n",
       "      <th class=\"col_heading level0 col1\" >MAE</th>\n",
       "      <th class=\"col_heading level0 col2\" >RMSE</th>\n",
       "      <th class=\"col_heading level0 col3\" >MAPE</th>\n",
       "      <th class=\"col_heading level0 col4\" >SMAPE</th>\n",
       "      <th class=\"col_heading level0 col5\" >MASE</th>\n",
       "      <th class=\"col_heading level0 col6\" >R2</th>\n",
       "    </tr>\n",
       "  </thead>\n",
       "  <tbody>\n",
       "    <tr>\n",
       "      <th id=\"T_99a69_level0_row0\" class=\"row_heading level0 row0\" >0</th>\n",
       "      <td id=\"T_99a69_row0_col0\" class=\"data row0 col0\" >2021-09-12</td>\n",
       "      <td id=\"T_99a69_row0_col1\" class=\"data row0 col1\" >0.0510</td>\n",
       "      <td id=\"T_99a69_row0_col2\" class=\"data row0 col2\" >0.0561</td>\n",
       "      <td id=\"T_99a69_row0_col3\" class=\"data row0 col3\" >0.0111</td>\n",
       "      <td id=\"T_99a69_row0_col4\" class=\"data row0 col4\" >0.0111</td>\n",
       "      <td id=\"T_99a69_row0_col5\" class=\"data row0 col5\" >1.4615</td>\n",
       "      <td id=\"T_99a69_row0_col6\" class=\"data row0 col6\" >-4.6267</td>\n",
       "    </tr>\n",
       "    <tr>\n",
       "      <th id=\"T_99a69_level0_row1\" class=\"row_heading level0 row1\" >1</th>\n",
       "      <td id=\"T_99a69_row1_col0\" class=\"data row1 col0\" >2021-10-12</td>\n",
       "      <td id=\"T_99a69_row1_col1\" class=\"data row1 col1\" >0.0225</td>\n",
       "      <td id=\"T_99a69_row1_col2\" class=\"data row1 col2\" >0.0260</td>\n",
       "      <td id=\"T_99a69_row1_col3\" class=\"data row1 col3\" >0.0049</td>\n",
       "      <td id=\"T_99a69_row1_col4\" class=\"data row1 col4\" >0.0049</td>\n",
       "      <td id=\"T_99a69_row1_col5\" class=\"data row1 col5\" >0.6454</td>\n",
       "      <td id=\"T_99a69_row1_col6\" class=\"data row1 col6\" >-0.8242</td>\n",
       "    </tr>\n",
       "    <tr>\n",
       "      <th id=\"T_99a69_level0_row2\" class=\"row_heading level0 row2\" >2</th>\n",
       "      <td id=\"T_99a69_row2_col0\" class=\"data row2 col0\" >2021-11-11</td>\n",
       "      <td id=\"T_99a69_row2_col1\" class=\"data row2 col1\" >0.0395</td>\n",
       "      <td id=\"T_99a69_row2_col2\" class=\"data row2 col2\" >0.0454</td>\n",
       "      <td id=\"T_99a69_row2_col3\" class=\"data row2 col3\" >0.0085</td>\n",
       "      <td id=\"T_99a69_row2_col4\" class=\"data row2 col4\" >0.0085</td>\n",
       "      <td id=\"T_99a69_row2_col5\" class=\"data row2 col5\" >1.1353</td>\n",
       "      <td id=\"T_99a69_row2_col6\" class=\"data row2 col6\" >-0.1851</td>\n",
       "    </tr>\n",
       "    <tr>\n",
       "      <th id=\"T_99a69_level0_row3\" class=\"row_heading level0 row3\" >Mean</th>\n",
       "      <td id=\"T_99a69_row3_col0\" class=\"data row3 col0\" >NaT</td>\n",
       "      <td id=\"T_99a69_row3_col1\" class=\"data row3 col1\" >0.0377</td>\n",
       "      <td id=\"T_99a69_row3_col2\" class=\"data row3 col2\" >0.0425</td>\n",
       "      <td id=\"T_99a69_row3_col3\" class=\"data row3 col3\" >0.0081</td>\n",
       "      <td id=\"T_99a69_row3_col4\" class=\"data row3 col4\" >0.0082</td>\n",
       "      <td id=\"T_99a69_row3_col5\" class=\"data row3 col5\" >1.0807</td>\n",
       "      <td id=\"T_99a69_row3_col6\" class=\"data row3 col6\" >-1.8787</td>\n",
       "    </tr>\n",
       "    <tr>\n",
       "      <th id=\"T_99a69_level0_row4\" class=\"row_heading level0 row4\" >SD</th>\n",
       "      <td id=\"T_99a69_row4_col0\" class=\"data row4 col0\" >NaT</td>\n",
       "      <td id=\"T_99a69_row4_col1\" class=\"data row4 col1\" >0.0117</td>\n",
       "      <td id=\"T_99a69_row4_col2\" class=\"data row4 col2\" >0.0125</td>\n",
       "      <td id=\"T_99a69_row4_col3\" class=\"data row4 col3\" >0.0025</td>\n",
       "      <td id=\"T_99a69_row4_col4\" class=\"data row4 col4\" >0.0026</td>\n",
       "      <td id=\"T_99a69_row4_col5\" class=\"data row4 col5\" >0.3354</td>\n",
       "      <td id=\"T_99a69_row4_col6\" class=\"data row4 col6\" >1.9606</td>\n",
       "    </tr>\n",
       "  </tbody>\n",
       "</table>\n"
      ],
      "text/plain": [
       "<pandas.io.formats.style.Styler at 0x7f4f9dd69090>"
      ]
     },
     "metadata": {},
     "output_type": "display_data"
    },
    {
     "data": {
      "text/plain": [
       "ARIMA(maxiter=50, method='lbfgs', order=(0, 1, 1), out_of_sample_size=0,\n",
       "      scoring='mse', scoring_args=None, seasonal_order=(1, 0, 0, 14),\n",
       "      start_params=None, suppress_warnings=False, trend=None,\n",
       "      with_intercept=True)"
      ]
     },
     "execution_count": 59,
     "metadata": {},
     "output_type": "execute_result"
    }
   ],
   "source": [
    "#SMAPE\n",
    "tuned_model = exp.tune_model(model,optimize = 'SMAPE')\n",
    "tuned_model"
   ]
  },
  {
   "cell_type": "code",
   "execution_count": 60,
   "id": "4b71b51e",
   "metadata": {
    "execution": {
     "iopub.execute_input": "2022-01-21T00:37:27.733117Z",
     "iopub.status.busy": "2022-01-21T00:37:27.732483Z",
     "iopub.status.idle": "2022-01-21T00:37:28.190926Z",
     "shell.execute_reply": "2022-01-21T00:37:28.191453Z",
     "shell.execute_reply.started": "2022-01-21T00:11:36.024736Z"
    },
    "papermill": {
     "duration": 0.677357,
     "end_time": "2022-01-21T00:37:28.191641",
     "exception": false,
     "start_time": "2022-01-21T00:37:27.514284",
     "status": "completed"
    },
    "tags": []
   },
   "outputs": [
    {
     "data": {
      "text/html": [
       "<style type=\"text/css\">\n",
       "</style>\n",
       "<table id=\"T_098b7_\">\n",
       "  <thead>\n",
       "    <tr>\n",
       "      <th class=\"blank level0\" >&nbsp;</th>\n",
       "      <th class=\"col_heading level0 col0\" >Model</th>\n",
       "      <th class=\"col_heading level0 col1\" >MAE</th>\n",
       "      <th class=\"col_heading level0 col2\" >RMSE</th>\n",
       "      <th class=\"col_heading level0 col3\" >MAPE</th>\n",
       "      <th class=\"col_heading level0 col4\" >SMAPE</th>\n",
       "      <th class=\"col_heading level0 col5\" >MASE</th>\n",
       "      <th class=\"col_heading level0 col6\" >R2</th>\n",
       "    </tr>\n",
       "  </thead>\n",
       "  <tbody>\n",
       "    <tr>\n",
       "      <th id=\"T_098b7_level0_row0\" class=\"row_heading level0 row0\" >0</th>\n",
       "      <td id=\"T_098b7_row0_col0\" class=\"data row0 col0\" >ARIMA</td>\n",
       "      <td id=\"T_098b7_row0_col1\" class=\"data row0 col1\" >0.0251</td>\n",
       "      <td id=\"T_098b7_row0_col2\" class=\"data row0 col2\" >0.0324</td>\n",
       "      <td id=\"T_098b7_row0_col3\" class=\"data row0 col3\" >0.0055</td>\n",
       "      <td id=\"T_098b7_row0_col4\" class=\"data row0 col4\" >0.0055</td>\n",
       "      <td id=\"T_098b7_row0_col5\" class=\"data row0 col5\" >0.7207</td>\n",
       "      <td id=\"T_098b7_row0_col6\" class=\"data row0 col6\" >-0.1405</td>\n",
       "    </tr>\n",
       "  </tbody>\n",
       "</table>\n"
      ],
      "text/plain": [
       "<pandas.io.formats.style.Styler at 0x7f4f9ccd0090>"
      ]
     },
     "metadata": {},
     "output_type": "display_data"
    },
    {
     "data": {
      "text/plain": [
       "2021-12-12    4.6124\n",
       "2021-12-13    4.6123\n",
       "2021-12-14    4.6121\n",
       "2021-12-15    4.6119\n",
       "2021-12-16    4.6117\n",
       "2021-12-17    4.6117\n",
       "2021-12-18    4.6118\n",
       "2021-12-19    4.6118\n",
       "2021-12-20    4.6119\n",
       "2021-12-21    4.6120\n",
       "2021-12-22    4.6120\n",
       "2021-12-23    4.6122\n",
       "2021-12-24    4.6123\n",
       "2021-12-25    4.6124\n",
       "2021-12-26    4.6124\n",
       "2021-12-27    4.6125\n",
       "2021-12-28    4.6126\n",
       "2021-12-29    4.6126\n",
       "2021-12-30    4.6127\n",
       "2021-12-31    4.6128\n",
       "2022-01-01    4.6128\n",
       "2022-01-02    4.6129\n",
       "2022-01-03    4.6130\n",
       "2022-01-04    4.6130\n",
       "2022-01-05    4.6131\n",
       "2022-01-06    4.6131\n",
       "2022-01-07    4.6132\n",
       "2022-01-08    4.6133\n",
       "2022-01-09    4.6133\n",
       "2022-01-10    4.6134\n",
       "Freq: D, Name: EUR/USD, dtype: float64"
      ]
     },
     "execution_count": 60,
     "metadata": {},
     "output_type": "execute_result"
    }
   ],
   "source": [
    "exp.predict_model(tuned_model)"
   ]
  },
  {
   "cell_type": "code",
   "execution_count": 61,
   "id": "1d028dfb",
   "metadata": {
    "execution": {
     "iopub.execute_input": "2022-01-21T00:37:28.634920Z",
     "iopub.status.busy": "2022-01-21T00:37:28.634233Z",
     "iopub.status.idle": "2022-01-21T00:37:50.710941Z",
     "shell.execute_reply": "2022-01-21T00:37:50.710315Z",
     "shell.execute_reply.started": "2022-01-21T00:11:36.553639Z"
    },
    "papermill": {
     "duration": 22.300827,
     "end_time": "2022-01-21T00:37:50.711108",
     "exception": false,
     "start_time": "2022-01-21T00:37:28.410281",
     "status": "completed"
    },
    "tags": []
   },
   "outputs": [],
   "source": [
    "# y_pred_future for Future Prediciton\n",
    "final_model = exp.finalize_model(tuned_model)\n",
    "y_pred_future = exp.predict_model(final_model, verbose=False)\n",
    "\n",
    "#_=plot_series(data, y_train, y_predict, y_pred_future, labels=['All','Train','Test Predictions','Future Prediciton'])\n",
    "#plt.grid()"
   ]
  },
  {
   "cell_type": "code",
   "execution_count": 62,
   "id": "ef8de291",
   "metadata": {
    "execution": {
     "iopub.execute_input": "2022-01-21T00:37:51.157857Z",
     "iopub.status.busy": "2022-01-21T00:37:51.156896Z",
     "iopub.status.idle": "2022-01-21T00:37:51.575202Z",
     "shell.execute_reply": "2022-01-21T00:37:51.575708Z",
     "shell.execute_reply.started": "2022-01-21T00:11:59.248141Z"
    },
    "papermill": {
     "duration": 0.644415,
     "end_time": "2022-01-21T00:37:51.575896",
     "exception": false,
     "start_time": "2022-01-21T00:37:50.931481",
     "status": "completed"
    },
    "tags": []
   },
   "outputs": [
    {
     "data": {
      "text/plain": [
       "2022-01-11    4.5331\n",
       "2022-01-12    4.5331\n",
       "2022-01-13    4.5331\n",
       "2022-01-14    4.5332\n",
       "2022-01-15    4.5332\n",
       "2022-01-16    4.5333\n",
       "2022-01-17    4.5333\n",
       "2022-01-18    4.5331\n",
       "2022-01-19    4.5332\n",
       "2022-01-20    4.5332\n",
       "2022-01-21    4.5332\n",
       "2022-01-22    4.5332\n",
       "2022-01-23    4.5333\n",
       "2022-01-24    4.5332\n",
       "2022-01-25    4.5332\n",
       "2022-01-26    4.5333\n",
       "2022-01-27    4.5333\n",
       "2022-01-28    4.5334\n",
       "2022-01-29    4.5335\n",
       "2022-01-30    4.5335\n",
       "2022-01-31    4.5336\n",
       "2022-02-01    4.5336\n",
       "2022-02-02    4.5337\n",
       "2022-02-03    4.5337\n",
       "2022-02-04    4.5338\n",
       "2022-02-05    4.5338\n",
       "2022-02-06    4.5339\n",
       "2022-02-07    4.5340\n",
       "2022-02-08    4.5340\n",
       "2022-02-09    4.5341\n",
       "Freq: D, Name: EUR/USD, dtype: float64"
      ]
     },
     "execution_count": 62,
     "metadata": {},
     "output_type": "execute_result"
    }
   ],
   "source": [
    "exp.predict_model(final_model)"
   ]
  },
  {
   "cell_type": "markdown",
   "id": "8b67ff2d",
   "metadata": {
    "papermill": {
     "duration": 0.218756,
     "end_time": "2022-01-21T00:37:52.015646",
     "exception": false,
     "start_time": "2022-01-21T00:37:51.796890",
     "status": "completed"
    },
    "tags": []
   },
   "source": [
    "Official Rates for january:\n",
    "\n",
    "\"2022-01-03\" \"1.1355\"\n",
    "\n",
    "\"2022-01-04\" \"1.1279\"\n",
    "\n",
    "\"2022-01-05\" \"1.1319\"\n",
    "\n",
    "\"2022-01-06\" \"1.1315\"\n",
    "\n",
    "\"2022-01-07\" \"1.1298\"\n",
    "\n",
    "\"2022-01-10\" \"1.1318\"\n",
    "\n",
    "\"2022-01-11\" \"1.1336\" \n",
    "\n",
    "\"2022-01-12\" \"1.1370\"\n",
    "\n",
    "\"2022-01-13\" \"1.1463\"\n",
    "\n",
    "\"2022-01-14\" \"1.1447\"\n",
    "\n",
    "\"2022-01-17\" \"1.1403\"\n",
    "\n",
    "\"2022-01-18\" \"1.1367\"\n",
    "\n",
    "\"2022-01-19\" \"1.1345\"\n",
    "\n",
    "\"2022-01-20\" \"1.1338\" "
   ]
  },
  {
   "cell_type": "markdown",
   "id": "77918466",
   "metadata": {
    "papermill": {
     "duration": 0.219701,
     "end_time": "2022-01-21T00:37:52.459122",
     "exception": false,
     "start_time": "2022-01-21T00:37:52.239421",
     "status": "completed"
    },
    "tags": []
   },
   "source": [
    "Inspired by the notebook: EUR/USD Exchange Prediction Pycaret by STPETE_ISHII - https://www.kaggle.com/stpeteishii/eur-usd-exchange-prediction-pycaret"
   ]
  },
  {
   "cell_type": "code",
   "execution_count": 63,
   "id": "8c2a1c3a",
   "metadata": {
    "execution": {
     "iopub.execute_input": "2022-01-21T00:37:52.905640Z",
     "iopub.status.busy": "2022-01-21T00:37:52.904889Z",
     "iopub.status.idle": "2022-01-21T00:37:52.934462Z",
     "shell.execute_reply": "2022-01-21T00:37:52.933801Z",
     "shell.execute_reply.started": "2022-01-21T00:31:21.757687Z"
    },
    "papermill": {
     "duration": 0.253902,
     "end_time": "2022-01-21T00:37:52.934604",
     "exception": false,
     "start_time": "2022-01-21T00:37:52.680702",
     "status": "completed"
    },
    "tags": []
   },
   "outputs": [
    {
     "data": {
      "text/html": [
       "<table class=\"simpletable\">\n",
       "<caption>SARIMAX Results</caption>\n",
       "<tr>\n",
       "  <th>Dep. Variable:</th>                 <td>y</td>               <th>  No. Observations:  </th>    <td>8378</td>   \n",
       "</tr>\n",
       "<tr>\n",
       "  <th>Model:</th>           <td>SARIMAX(1, 0, 0)x(0, 1, 0, 7)</td> <th>  Log Likelihood     </th>  <td>18403.540</td>\n",
       "</tr>\n",
       "<tr>\n",
       "  <th>Date:</th>                  <td>Fri, 21 Jan 2022</td>        <th>  AIC                </th> <td>-36801.079</td>\n",
       "</tr>\n",
       "<tr>\n",
       "  <th>Time:</th>                      <td>00:37:52</td>            <th>  BIC                </th> <td>-36779.982</td>\n",
       "</tr>\n",
       "<tr>\n",
       "  <th>Sample:</th>                        <td>0</td>               <th>  HQIC               </th> <td>-36793.874</td>\n",
       "</tr>\n",
       "<tr>\n",
       "  <th></th>                            <td> - 8378</td>            <th>                     </th>      <td> </td>    \n",
       "</tr>\n",
       "<tr>\n",
       "  <th>Covariance Type:</th>              <td>opg</td>              <th>                     </th>      <td> </td>    \n",
       "</tr>\n",
       "</table>\n",
       "<table class=\"simpletable\">\n",
       "<tr>\n",
       "      <td></td>         <th>coef</th>     <th>std err</th>      <th>z</th>      <th>P>|z|</th>  <th>[0.025</th>    <th>0.975]</th>  \n",
       "</tr>\n",
       "<tr>\n",
       "  <th>intercept</th> <td> 7.495e-05</td> <td>    0.000</td> <td>    0.250</td> <td> 0.803</td> <td>   -0.001</td> <td>    0.001</td>\n",
       "</tr>\n",
       "<tr>\n",
       "  <th>ar.L1</th>     <td>    0.8411</td> <td>    0.003</td> <td>  269.238</td> <td> 0.000</td> <td>    0.835</td> <td>    0.847</td>\n",
       "</tr>\n",
       "<tr>\n",
       "  <th>sigma2</th>    <td>    0.0007</td> <td> 4.52e-06</td> <td>  159.530</td> <td> 0.000</td> <td>    0.001</td> <td>    0.001</td>\n",
       "</tr>\n",
       "</table>\n",
       "<table class=\"simpletable\">\n",
       "<tr>\n",
       "  <th>Ljung-Box (L1) (Q):</th>     <td>95.86</td> <th>  Jarque-Bera (JB):  </th> <td>38063.66</td>\n",
       "</tr>\n",
       "<tr>\n",
       "  <th>Prob(Q):</th>                <td>0.00</td>  <th>  Prob(JB):          </th>   <td>0.00</td>  \n",
       "</tr>\n",
       "<tr>\n",
       "  <th>Heteroskedasticity (H):</th> <td>0.28</td>  <th>  Skew:              </th>   <td>0.13</td>  \n",
       "</tr>\n",
       "<tr>\n",
       "  <th>Prob(H) (two-sided):</th>    <td>0.00</td>  <th>  Kurtosis:          </th>   <td>13.44</td> \n",
       "</tr>\n",
       "</table><br/><br/>Warnings:<br/>[1] Covariance matrix calculated using the outer product of gradients (complex-step)."
      ],
      "text/plain": [
       "<class 'statsmodels.iolib.summary.Summary'>\n",
       "\"\"\"\n",
       "                                     SARIMAX Results                                     \n",
       "=========================================================================================\n",
       "Dep. Variable:                                 y   No. Observations:                 8378\n",
       "Model:             SARIMAX(1, 0, 0)x(0, 1, 0, 7)   Log Likelihood               18403.540\n",
       "Date:                           Fri, 21 Jan 2022   AIC                         -36801.079\n",
       "Time:                                   00:37:52   BIC                         -36779.982\n",
       "Sample:                                        0   HQIC                        -36793.874\n",
       "                                          - 8378                                         \n",
       "Covariance Type:                             opg                                         \n",
       "==============================================================================\n",
       "                 coef    std err          z      P>|z|      [0.025      0.975]\n",
       "------------------------------------------------------------------------------\n",
       "intercept   7.495e-05      0.000      0.250      0.803      -0.001       0.001\n",
       "ar.L1          0.8411      0.003    269.238      0.000       0.835       0.847\n",
       "sigma2         0.0007   4.52e-06    159.530      0.000       0.001       0.001\n",
       "===================================================================================\n",
       "Ljung-Box (L1) (Q):                  95.86   Jarque-Bera (JB):             38063.66\n",
       "Prob(Q):                              0.00   Prob(JB):                         0.00\n",
       "Heteroskedasticity (H):               0.28   Skew:                             0.13\n",
       "Prob(H) (two-sided):                  0.00   Kurtosis:                        13.44\n",
       "===================================================================================\n",
       "\n",
       "Warnings:\n",
       "[1] Covariance matrix calculated using the outer product of gradients (complex-step).\n",
       "\"\"\""
      ]
     },
     "execution_count": 63,
     "metadata": {},
     "output_type": "execute_result"
    }
   ],
   "source": [
    "model.summary()"
   ]
  }
 ],
 "metadata": {
  "kernelspec": {
   "display_name": "Python 3",
   "language": "python",
   "name": "python3"
  },
  "language_info": {
   "codemirror_mode": {
    "name": "ipython",
    "version": 3
   },
   "file_extension": ".py",
   "mimetype": "text/x-python",
   "name": "python",
   "nbconvert_exporter": "python",
   "pygments_lexer": "ipython3",
   "version": "3.7.12"
  },
  "papermill": {
   "default_parameters": {},
   "duration": 279.28088,
   "end_time": "2022-01-21T00:37:54.573255",
   "environment_variables": {},
   "exception": null,
   "input_path": "__notebook__.ipynb",
   "output_path": "__notebook__.ipynb",
   "parameters": {},
   "start_time": "2022-01-21T00:33:15.292375",
   "version": "2.3.3"
  },
  "widgets": {
   "application/vnd.jupyter.widget-state+json": {
    "state": {
     "35337a4c34a642ca937244c5517a97fe": {
      "model_module": "@jupyter-widgets/base",
      "model_module_version": "1.2.0",
      "model_name": "LayoutModel",
      "state": {
       "_model_module": "@jupyter-widgets/base",
       "_model_module_version": "1.2.0",
       "_model_name": "LayoutModel",
       "_view_count": null,
       "_view_module": "@jupyter-widgets/base",
       "_view_module_version": "1.2.0",
       "_view_name": "LayoutView",
       "align_content": null,
       "align_items": null,
       "align_self": null,
       "border": null,
       "bottom": null,
       "display": null,
       "flex": null,
       "flex_flow": null,
       "grid_area": null,
       "grid_auto_columns": null,
       "grid_auto_flow": null,
       "grid_auto_rows": null,
       "grid_column": null,
       "grid_gap": null,
       "grid_row": null,
       "grid_template_areas": null,
       "grid_template_columns": null,
       "grid_template_rows": null,
       "height": null,
       "justify_content": null,
       "justify_items": null,
       "left": null,
       "margin": null,
       "max_height": null,
       "max_width": null,
       "min_height": null,
       "min_width": null,
       "object_fit": null,
       "object_position": null,
       "order": null,
       "overflow": null,
       "overflow_x": null,
       "overflow_y": null,
       "padding": null,
       "right": null,
       "top": null,
       "visibility": null,
       "width": null
      }
     },
     "452be9c23b6947a3a5fde135ce2aba68": {
      "model_module": "@jupyter-widgets/base",
      "model_module_version": "1.2.0",
      "model_name": "LayoutModel",
      "state": {
       "_model_module": "@jupyter-widgets/base",
       "_model_module_version": "1.2.0",
       "_model_name": "LayoutModel",
       "_view_count": null,
       "_view_module": "@jupyter-widgets/base",
       "_view_module_version": "1.2.0",
       "_view_name": "LayoutView",
       "align_content": null,
       "align_items": null,
       "align_self": null,
       "border": null,
       "bottom": null,
       "display": null,
       "flex": null,
       "flex_flow": null,
       "grid_area": null,
       "grid_auto_columns": null,
       "grid_auto_flow": null,
       "grid_auto_rows": null,
       "grid_column": null,
       "grid_gap": null,
       "grid_row": null,
       "grid_template_areas": null,
       "grid_template_columns": null,
       "grid_template_rows": null,
       "height": null,
       "justify_content": null,
       "justify_items": null,
       "left": null,
       "margin": null,
       "max_height": null,
       "max_width": null,
       "min_height": null,
       "min_width": null,
       "object_fit": null,
       "object_position": null,
       "order": null,
       "overflow": null,
       "overflow_x": null,
       "overflow_y": null,
       "padding": null,
       "right": null,
       "top": null,
       "visibility": null,
       "width": null
      }
     },
     "48f682424ca14ea9aac837fec05f52e9": {
      "model_module": "@jupyter-widgets/controls",
      "model_module_version": "1.5.0",
      "model_name": "ProgressStyleModel",
      "state": {
       "_model_module": "@jupyter-widgets/controls",
       "_model_module_version": "1.5.0",
       "_model_name": "ProgressStyleModel",
       "_view_count": null,
       "_view_module": "@jupyter-widgets/base",
       "_view_module_version": "1.2.0",
       "_view_name": "StyleView",
       "bar_color": null,
       "description_width": ""
      }
     },
     "6ebee9ef8e324614ab28110e7070ea2e": {
      "model_module": "@jupyter-widgets/controls",
      "model_module_version": "1.5.0",
      "model_name": "IntProgressModel",
      "state": {
       "_dom_classes": [],
       "_model_module": "@jupyter-widgets/controls",
       "_model_module_version": "1.5.0",
       "_model_name": "IntProgressModel",
       "_view_count": null,
       "_view_module": "@jupyter-widgets/controls",
       "_view_module_version": "1.5.0",
       "_view_name": "ProgressView",
       "bar_style": "",
       "description": "Processing: ",
       "description_tooltip": null,
       "layout": "IPY_MODEL_452be9c23b6947a3a5fde135ce2aba68",
       "max": 3,
       "min": 0,
       "orientation": "horizontal",
       "style": "IPY_MODEL_918a8d45d97744aeb543bea363ddd672",
       "value": 3
      }
     },
     "8d93cc41b23d4bf8b8420763d04beca6": {
      "model_module": "@jupyter-widgets/controls",
      "model_module_version": "1.5.0",
      "model_name": "IntProgressModel",
      "state": {
       "_dom_classes": [],
       "_model_module": "@jupyter-widgets/controls",
       "_model_module_version": "1.5.0",
       "_model_name": "IntProgressModel",
       "_view_count": null,
       "_view_module": "@jupyter-widgets/controls",
       "_view_module_version": "1.5.0",
       "_view_name": "ProgressView",
       "bar_style": "",
       "description": "Processing: ",
       "description_tooltip": null,
       "layout": "IPY_MODEL_35337a4c34a642ca937244c5517a97fe",
       "max": 7,
       "min": 0,
       "orientation": "horizontal",
       "style": "IPY_MODEL_48f682424ca14ea9aac837fec05f52e9",
       "value": 7
      }
     },
     "918a8d45d97744aeb543bea363ddd672": {
      "model_module": "@jupyter-widgets/controls",
      "model_module_version": "1.5.0",
      "model_name": "ProgressStyleModel",
      "state": {
       "_model_module": "@jupyter-widgets/controls",
       "_model_module_version": "1.5.0",
       "_model_name": "ProgressStyleModel",
       "_view_count": null,
       "_view_module": "@jupyter-widgets/base",
       "_view_module_version": "1.2.0",
       "_view_name": "StyleView",
       "bar_color": null,
       "description_width": ""
      }
     },
     "e0a30b701218461e84a767265bfea44d": {
      "model_module": "@jupyter-widgets/base",
      "model_module_version": "1.2.0",
      "model_name": "LayoutModel",
      "state": {
       "_model_module": "@jupyter-widgets/base",
       "_model_module_version": "1.2.0",
       "_model_name": "LayoutModel",
       "_view_count": null,
       "_view_module": "@jupyter-widgets/base",
       "_view_module_version": "1.2.0",
       "_view_name": "LayoutView",
       "align_content": null,
       "align_items": null,
       "align_self": null,
       "border": null,
       "bottom": null,
       "display": null,
       "flex": null,
       "flex_flow": null,
       "grid_area": null,
       "grid_auto_columns": null,
       "grid_auto_flow": null,
       "grid_auto_rows": null,
       "grid_column": null,
       "grid_gap": null,
       "grid_row": null,
       "grid_template_areas": null,
       "grid_template_columns": null,
       "grid_template_rows": null,
       "height": null,
       "justify_content": null,
       "justify_items": null,
       "left": null,
       "margin": null,
       "max_height": null,
       "max_width": null,
       "min_height": null,
       "min_width": null,
       "object_fit": null,
       "object_position": null,
       "order": null,
       "overflow": null,
       "overflow_x": null,
       "overflow_y": null,
       "padding": null,
       "right": null,
       "top": null,
       "visibility": null,
       "width": null
      }
     },
     "e40ff5b756c34892b6009a1b325ddf0d": {
      "model_module": "@jupyter-widgets/controls",
      "model_module_version": "1.5.0",
      "model_name": "IntProgressModel",
      "state": {
       "_dom_classes": [],
       "_model_module": "@jupyter-widgets/controls",
       "_model_module_version": "1.5.0",
       "_model_name": "IntProgressModel",
       "_view_count": null,
       "_view_module": "@jupyter-widgets/controls",
       "_view_module_version": "1.5.0",
       "_view_name": "ProgressView",
       "bar_style": "",
       "description": "Processing: ",
       "description_tooltip": null,
       "layout": "IPY_MODEL_e0a30b701218461e84a767265bfea44d",
       "max": 4,
       "min": 0,
       "orientation": "horizontal",
       "style": "IPY_MODEL_ed7d16912663492d902a00b955442e63",
       "value": 4
      }
     },
     "ed7d16912663492d902a00b955442e63": {
      "model_module": "@jupyter-widgets/controls",
      "model_module_version": "1.5.0",
      "model_name": "ProgressStyleModel",
      "state": {
       "_model_module": "@jupyter-widgets/controls",
       "_model_module_version": "1.5.0",
       "_model_name": "ProgressStyleModel",
       "_view_count": null,
       "_view_module": "@jupyter-widgets/base",
       "_view_module_version": "1.2.0",
       "_view_name": "StyleView",
       "bar_color": null,
       "description_width": ""
      }
     }
    },
    "version_major": 2,
    "version_minor": 0
   }
  }
 },
 "nbformat": 4,
 "nbformat_minor": 5
}
